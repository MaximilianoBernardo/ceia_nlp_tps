{
  "nbformat": 4,
  "nbformat_minor": 0,
  "metadata": {
    "colab": {
      "provenance": [],
      "toc_visible": true
    },
    "kernelspec": {
      "name": "python3",
      "display_name": "Python 3"
    },
    "language_info": {
      "name": "python"
    }
  },
  "cells": [
    {
      "cell_type": "markdown",
      "source": [
        "# Consigna del desafío 2"
      ],
      "metadata": {
        "id": "f7sa3VeL_13m"
      }
    },
    {
      "cell_type": "markdown",
      "source": [
        "**1**.  Crear sus propios vectores con Gensim basado en lo visto en clase con otro dataset.\n",
        "\n",
        "**2**.  Probar términos de interés y explicar similitudes en el espacio de embeddings (sacar conclusiones entre palabras similitudes y diferencias).\n",
        "\n",
        "**3**.  Graficarlos.\n",
        "\n",
        "**4**. Obtener conclusiones."
      ],
      "metadata": {
        "id": "i-XGDG-1_xVX"
      }
    },
    {
      "cell_type": "markdown",
      "source": [
        "## Importamos librerias"
      ],
      "metadata": {
        "id": "QFEzVb0MALlt"
      }
    },
    {
      "cell_type": "code",
      "source": [
        "!pip install gensim"
      ],
      "metadata": {
        "colab": {
          "base_uri": "https://localhost:8080/"
        },
        "id": "GCZ66J2s8j_l",
        "outputId": "be98f37a-f49b-4e02-f193-902316c9516a"
      },
      "execution_count": 52,
      "outputs": [
        {
          "output_type": "stream",
          "name": "stdout",
          "text": [
            "Requirement already satisfied: gensim in /usr/local/lib/python3.12/dist-packages (4.3.3)\n",
            "Requirement already satisfied: numpy<2.0,>=1.18.5 in /usr/local/lib/python3.12/dist-packages (from gensim) (1.26.4)\n",
            "Requirement already satisfied: scipy<1.14.0,>=1.7.0 in /usr/local/lib/python3.12/dist-packages (from gensim) (1.13.1)\n",
            "Requirement already satisfied: smart-open>=1.8.1 in /usr/local/lib/python3.12/dist-packages (from gensim) (7.3.0.post1)\n",
            "Requirement already satisfied: wrapt in /usr/local/lib/python3.12/dist-packages (from smart-open>=1.8.1->gensim) (1.17.3)\n"
          ]
        }
      ]
    },
    {
      "cell_type": "code",
      "execution_count": 53,
      "metadata": {
        "id": "xbC43cK-8GAU"
      },
      "outputs": [],
      "source": [
        "import os\n",
        "import platform\n",
        "import multiprocessing\n",
        "import numpy as np\n",
        "import pandas as pd\n",
        "import matplotlib.pyplot as plt\n",
        "import seaborn as sns\n",
        "import plotly.graph_objects as go\n",
        "import plotly.express as px\n",
        "\n",
        "from sklearn.decomposition import IncrementalPCA\n",
        "from sklearn.manifold import TSNE\n",
        "from gensim.models import Word2Vec\n",
        "from tensorflow.keras.preprocessing.text import text_to_word_sequence\n",
        "from gensim.models.callbacks import CallbackAny2Vec\n",
        "\n"
      ]
    },
    {
      "cell_type": "markdown",
      "source": [
        "## Importamos el dataset"
      ],
      "metadata": {
        "id": "a9dYOl16AR4-"
      }
    },
    {
      "cell_type": "code",
      "source": [
        "# Descargar la carpeta de dataset\n",
        "\n",
        "if os.access('./songs_dataset', os.F_OK) is False:\n",
        "    if os.access('songs_dataset.zip', os.F_OK) is False:\n",
        "        if platform.system() == 'Windows':\n",
        "            !curl https://raw.githubusercontent.com/FIUBA-Posgrado-Inteligencia-Artificial/procesamiento_lenguaje_natural/main/datasets/songs_dataset.zip -o songs_dataset.zip\n",
        "        else:\n",
        "            !wget songs_dataset.zip https://github.com/FIUBA-Posgrado-Inteligencia-Artificial/procesamiento_lenguaje_natural/raw/main/datasets/songs_dataset.zip\n",
        "    !unzip -q songs_dataset.zip\n",
        "else:\n",
        "    print(\"El dataset ya se encuentra descargado\")"
      ],
      "metadata": {
        "colab": {
          "base_uri": "https://localhost:8080/"
        },
        "id": "XVo6C8Am8eWo",
        "outputId": "8e9bd386-89c8-41d6-cf7b-025f106baa53"
      },
      "execution_count": 54,
      "outputs": [
        {
          "output_type": "stream",
          "name": "stdout",
          "text": [
            "El dataset ya se encuentra descargado\n"
          ]
        }
      ]
    },
    {
      "cell_type": "markdown",
      "source": [
        "## 1 Creamos los vectores"
      ],
      "metadata": {
        "id": "_Wq6Qlz1AqKo"
      }
    },
    {
      "cell_type": "code",
      "source": [
        "# Armar el dataset utilizando salto de línea para separar las oraciones/docs\n",
        "df = pd.read_csv('songs_dataset/eminem.txt', sep='/n', header=None)\n",
        "df.head()"
      ],
      "metadata": {
        "colab": {
          "base_uri": "https://localhost:8080/",
          "height": 298
        },
        "id": "w4bQmxIF8ha4",
        "outputId": "7b09c018-3826-44da-ee04-97023fd7b737"
      },
      "execution_count": 55,
      "outputs": [
        {
          "output_type": "stream",
          "name": "stderr",
          "text": [
            "/tmp/ipython-input-3634877419.py:2: ParserWarning:\n",
            "\n",
            "Falling back to the 'python' engine because the 'c' engine does not support regex separators (separators > 1 char and different from '\\s+' are interpreted as regex); you can avoid this warning by specifying engine='python'.\n",
            "\n"
          ]
        },
        {
          "output_type": "execute_result",
          "data": {
            "text/plain": [
              "                                                   0\n",
              "0  Look, I was gonna go easy on you and not to hu...\n",
              "1          But I'm only going to get this one chance\n",
              "2  Something's wrong, I can feel it (Six minutes,...\n",
              "3  Just a feeling I've got, like something's abou...\n",
              "4  If that means, what I think it means, we're in..."
            ],
            "text/html": [
              "\n",
              "  <div id=\"df-296a2028-2b91-4c10-85e9-462be18812e9\" class=\"colab-df-container\">\n",
              "    <div>\n",
              "<style scoped>\n",
              "    .dataframe tbody tr th:only-of-type {\n",
              "        vertical-align: middle;\n",
              "    }\n",
              "\n",
              "    .dataframe tbody tr th {\n",
              "        vertical-align: top;\n",
              "    }\n",
              "\n",
              "    .dataframe thead th {\n",
              "        text-align: right;\n",
              "    }\n",
              "</style>\n",
              "<table border=\"1\" class=\"dataframe\">\n",
              "  <thead>\n",
              "    <tr style=\"text-align: right;\">\n",
              "      <th></th>\n",
              "      <th>0</th>\n",
              "    </tr>\n",
              "  </thead>\n",
              "  <tbody>\n",
              "    <tr>\n",
              "      <th>0</th>\n",
              "      <td>Look, I was gonna go easy on you and not to hu...</td>\n",
              "    </tr>\n",
              "    <tr>\n",
              "      <th>1</th>\n",
              "      <td>But I'm only going to get this one chance</td>\n",
              "    </tr>\n",
              "    <tr>\n",
              "      <th>2</th>\n",
              "      <td>Something's wrong, I can feel it (Six minutes,...</td>\n",
              "    </tr>\n",
              "    <tr>\n",
              "      <th>3</th>\n",
              "      <td>Just a feeling I've got, like something's abou...</td>\n",
              "    </tr>\n",
              "    <tr>\n",
              "      <th>4</th>\n",
              "      <td>If that means, what I think it means, we're in...</td>\n",
              "    </tr>\n",
              "  </tbody>\n",
              "</table>\n",
              "</div>\n",
              "    <div class=\"colab-df-buttons\">\n",
              "\n",
              "  <div class=\"colab-df-container\">\n",
              "    <button class=\"colab-df-convert\" onclick=\"convertToInteractive('df-296a2028-2b91-4c10-85e9-462be18812e9')\"\n",
              "            title=\"Convert this dataframe to an interactive table.\"\n",
              "            style=\"display:none;\">\n",
              "\n",
              "  <svg xmlns=\"http://www.w3.org/2000/svg\" height=\"24px\" viewBox=\"0 -960 960 960\">\n",
              "    <path d=\"M120-120v-720h720v720H120Zm60-500h600v-160H180v160Zm220 220h160v-160H400v160Zm0 220h160v-160H400v160ZM180-400h160v-160H180v160Zm440 0h160v-160H620v160ZM180-180h160v-160H180v160Zm440 0h160v-160H620v160Z\"/>\n",
              "  </svg>\n",
              "    </button>\n",
              "\n",
              "  <style>\n",
              "    .colab-df-container {\n",
              "      display:flex;\n",
              "      gap: 12px;\n",
              "    }\n",
              "\n",
              "    .colab-df-convert {\n",
              "      background-color: #E8F0FE;\n",
              "      border: none;\n",
              "      border-radius: 50%;\n",
              "      cursor: pointer;\n",
              "      display: none;\n",
              "      fill: #1967D2;\n",
              "      height: 32px;\n",
              "      padding: 0 0 0 0;\n",
              "      width: 32px;\n",
              "    }\n",
              "\n",
              "    .colab-df-convert:hover {\n",
              "      background-color: #E2EBFA;\n",
              "      box-shadow: 0px 1px 2px rgba(60, 64, 67, 0.3), 0px 1px 3px 1px rgba(60, 64, 67, 0.15);\n",
              "      fill: #174EA6;\n",
              "    }\n",
              "\n",
              "    .colab-df-buttons div {\n",
              "      margin-bottom: 4px;\n",
              "    }\n",
              "\n",
              "    [theme=dark] .colab-df-convert {\n",
              "      background-color: #3B4455;\n",
              "      fill: #D2E3FC;\n",
              "    }\n",
              "\n",
              "    [theme=dark] .colab-df-convert:hover {\n",
              "      background-color: #434B5C;\n",
              "      box-shadow: 0px 1px 3px 1px rgba(0, 0, 0, 0.15);\n",
              "      filter: drop-shadow(0px 1px 2px rgba(0, 0, 0, 0.3));\n",
              "      fill: #FFFFFF;\n",
              "    }\n",
              "  </style>\n",
              "\n",
              "    <script>\n",
              "      const buttonEl =\n",
              "        document.querySelector('#df-296a2028-2b91-4c10-85e9-462be18812e9 button.colab-df-convert');\n",
              "      buttonEl.style.display =\n",
              "        google.colab.kernel.accessAllowed ? 'block' : 'none';\n",
              "\n",
              "      async function convertToInteractive(key) {\n",
              "        const element = document.querySelector('#df-296a2028-2b91-4c10-85e9-462be18812e9');\n",
              "        const dataTable =\n",
              "          await google.colab.kernel.invokeFunction('convertToInteractive',\n",
              "                                                    [key], {});\n",
              "        if (!dataTable) return;\n",
              "\n",
              "        const docLinkHtml = 'Like what you see? Visit the ' +\n",
              "          '<a target=\"_blank\" href=https://colab.research.google.com/notebooks/data_table.ipynb>data table notebook</a>'\n",
              "          + ' to learn more about interactive tables.';\n",
              "        element.innerHTML = '';\n",
              "        dataTable['output_type'] = 'display_data';\n",
              "        await google.colab.output.renderOutput(dataTable, element);\n",
              "        const docLink = document.createElement('div');\n",
              "        docLink.innerHTML = docLinkHtml;\n",
              "        element.appendChild(docLink);\n",
              "      }\n",
              "    </script>\n",
              "  </div>\n",
              "\n",
              "\n",
              "    <div id=\"df-9d535a45-70ba-437f-824a-0790c579a7a8\">\n",
              "      <button class=\"colab-df-quickchart\" onclick=\"quickchart('df-9d535a45-70ba-437f-824a-0790c579a7a8')\"\n",
              "                title=\"Suggest charts\"\n",
              "                style=\"display:none;\">\n",
              "\n",
              "<svg xmlns=\"http://www.w3.org/2000/svg\" height=\"24px\"viewBox=\"0 0 24 24\"\n",
              "     width=\"24px\">\n",
              "    <g>\n",
              "        <path d=\"M19 3H5c-1.1 0-2 .9-2 2v14c0 1.1.9 2 2 2h14c1.1 0 2-.9 2-2V5c0-1.1-.9-2-2-2zM9 17H7v-7h2v7zm4 0h-2V7h2v10zm4 0h-2v-4h2v4z\"/>\n",
              "    </g>\n",
              "</svg>\n",
              "      </button>\n",
              "\n",
              "<style>\n",
              "  .colab-df-quickchart {\n",
              "      --bg-color: #E8F0FE;\n",
              "      --fill-color: #1967D2;\n",
              "      --hover-bg-color: #E2EBFA;\n",
              "      --hover-fill-color: #174EA6;\n",
              "      --disabled-fill-color: #AAA;\n",
              "      --disabled-bg-color: #DDD;\n",
              "  }\n",
              "\n",
              "  [theme=dark] .colab-df-quickchart {\n",
              "      --bg-color: #3B4455;\n",
              "      --fill-color: #D2E3FC;\n",
              "      --hover-bg-color: #434B5C;\n",
              "      --hover-fill-color: #FFFFFF;\n",
              "      --disabled-bg-color: #3B4455;\n",
              "      --disabled-fill-color: #666;\n",
              "  }\n",
              "\n",
              "  .colab-df-quickchart {\n",
              "    background-color: var(--bg-color);\n",
              "    border: none;\n",
              "    border-radius: 50%;\n",
              "    cursor: pointer;\n",
              "    display: none;\n",
              "    fill: var(--fill-color);\n",
              "    height: 32px;\n",
              "    padding: 0;\n",
              "    width: 32px;\n",
              "  }\n",
              "\n",
              "  .colab-df-quickchart:hover {\n",
              "    background-color: var(--hover-bg-color);\n",
              "    box-shadow: 0 1px 2px rgba(60, 64, 67, 0.3), 0 1px 3px 1px rgba(60, 64, 67, 0.15);\n",
              "    fill: var(--button-hover-fill-color);\n",
              "  }\n",
              "\n",
              "  .colab-df-quickchart-complete:disabled,\n",
              "  .colab-df-quickchart-complete:disabled:hover {\n",
              "    background-color: var(--disabled-bg-color);\n",
              "    fill: var(--disabled-fill-color);\n",
              "    box-shadow: none;\n",
              "  }\n",
              "\n",
              "  .colab-df-spinner {\n",
              "    border: 2px solid var(--fill-color);\n",
              "    border-color: transparent;\n",
              "    border-bottom-color: var(--fill-color);\n",
              "    animation:\n",
              "      spin 1s steps(1) infinite;\n",
              "  }\n",
              "\n",
              "  @keyframes spin {\n",
              "    0% {\n",
              "      border-color: transparent;\n",
              "      border-bottom-color: var(--fill-color);\n",
              "      border-left-color: var(--fill-color);\n",
              "    }\n",
              "    20% {\n",
              "      border-color: transparent;\n",
              "      border-left-color: var(--fill-color);\n",
              "      border-top-color: var(--fill-color);\n",
              "    }\n",
              "    30% {\n",
              "      border-color: transparent;\n",
              "      border-left-color: var(--fill-color);\n",
              "      border-top-color: var(--fill-color);\n",
              "      border-right-color: var(--fill-color);\n",
              "    }\n",
              "    40% {\n",
              "      border-color: transparent;\n",
              "      border-right-color: var(--fill-color);\n",
              "      border-top-color: var(--fill-color);\n",
              "    }\n",
              "    60% {\n",
              "      border-color: transparent;\n",
              "      border-right-color: var(--fill-color);\n",
              "    }\n",
              "    80% {\n",
              "      border-color: transparent;\n",
              "      border-right-color: var(--fill-color);\n",
              "      border-bottom-color: var(--fill-color);\n",
              "    }\n",
              "    90% {\n",
              "      border-color: transparent;\n",
              "      border-bottom-color: var(--fill-color);\n",
              "    }\n",
              "  }\n",
              "</style>\n",
              "\n",
              "      <script>\n",
              "        async function quickchart(key) {\n",
              "          const quickchartButtonEl =\n",
              "            document.querySelector('#' + key + ' button');\n",
              "          quickchartButtonEl.disabled = true;  // To prevent multiple clicks.\n",
              "          quickchartButtonEl.classList.add('colab-df-spinner');\n",
              "          try {\n",
              "            const charts = await google.colab.kernel.invokeFunction(\n",
              "                'suggestCharts', [key], {});\n",
              "          } catch (error) {\n",
              "            console.error('Error during call to suggestCharts:', error);\n",
              "          }\n",
              "          quickchartButtonEl.classList.remove('colab-df-spinner');\n",
              "          quickchartButtonEl.classList.add('colab-df-quickchart-complete');\n",
              "        }\n",
              "        (() => {\n",
              "          let quickchartButtonEl =\n",
              "            document.querySelector('#df-9d535a45-70ba-437f-824a-0790c579a7a8 button');\n",
              "          quickchartButtonEl.style.display =\n",
              "            google.colab.kernel.accessAllowed ? 'block' : 'none';\n",
              "        })();\n",
              "      </script>\n",
              "    </div>\n",
              "\n",
              "    </div>\n",
              "  </div>\n"
            ],
            "application/vnd.google.colaboratory.intrinsic+json": {
              "type": "dataframe",
              "variable_name": "df",
              "summary": "{\n  \"name\": \"df\",\n  \"rows\": 6812,\n  \"fields\": [\n    {\n      \"column\": 0,\n      \"properties\": {\n        \"dtype\": \"string\",\n        \"num_unique_values\": 5244,\n        \"samples\": [\n          \"This guy aint no mother-fuckin MC,\",\n          \"She don't need to see what I'm about to do\",\n          \"You ran me into the ground, but what comes around goes around (Yeah)\"\n        ],\n        \"semantic_type\": \"\",\n        \"description\": \"\"\n      }\n    }\n  ]\n}"
            }
          },
          "metadata": {},
          "execution_count": 55
        }
      ]
    },
    {
      "cell_type": "code",
      "source": [
        "print(\"Cantidad de documentos:\", df.shape[0])"
      ],
      "metadata": {
        "colab": {
          "base_uri": "https://localhost:8080/"
        },
        "id": "oksKz4c58jfa",
        "outputId": "050b7ac7-f489-4474-f5d1-e5b0f6f3052a"
      },
      "execution_count": 56,
      "outputs": [
        {
          "output_type": "stream",
          "name": "stdout",
          "text": [
            "Cantidad de documentos: 6812\n"
          ]
        }
      ]
    },
    {
      "cell_type": "code",
      "source": [
        "sentence_tokens = []\n",
        "# Recorrer todas las filas y transformar las oraciones\n",
        "# en una secuencia de palabras (esto podría realizarse con NLTK o spaCy también)\n",
        "for _, row in df[:None].iterrows():\n",
        "    sentence_tokens.append(text_to_word_sequence(row[0]))"
      ],
      "metadata": {
        "id": "ZgfcDG_O-I2B"
      },
      "execution_count": 57,
      "outputs": []
    },
    {
      "cell_type": "code",
      "source": [
        "# Durante el entrenamiento gensim por defecto no informa el \"loss\" en cada época\n",
        "# Sobrecargamos el callback para poder tener esta información\n",
        "class callback(CallbackAny2Vec):\n",
        "    \"\"\"\n",
        "    Callback to print loss after each epoch\n",
        "    \"\"\"\n",
        "    def __init__(self):\n",
        "        self.epoch = 0\n",
        "\n",
        "    def on_epoch_end(self, model):\n",
        "        loss = model.get_latest_training_loss()\n",
        "        if self.epoch == 0:\n",
        "            print('Loss after epoch {}: {}'.format(self.epoch, loss))\n",
        "        else:\n",
        "            print('Loss after epoch {}: {}'.format(self.epoch, loss- self.loss_previous_step))\n",
        "        self.epoch += 1\n",
        "        self.loss_previous_step = loss"
      ],
      "metadata": {
        "id": "4oKoo2Vr-6Ff"
      },
      "execution_count": 58,
      "outputs": []
    },
    {
      "cell_type": "code",
      "source": [
        "# Crearmos el modelo generador de vectores\n",
        "# En este caso utilizaremos la estructura modelo Skipgram\n",
        "w2v_model = Word2Vec(min_count=5,\n",
        "                     window=2,\n",
        "                     vector_size=300,\n",
        "                     negative=20,\n",
        "                     workers=1,\n",
        "                     sg=1)\n",
        "\n",
        "# Obtener el vocabulario con los tokens\n",
        "w2v_model.build_vocab(sentence_tokens)"
      ],
      "metadata": {
        "id": "n3Ja-xzH-8jM"
      },
      "execution_count": 59,
      "outputs": []
    },
    {
      "cell_type": "code",
      "source": [
        "# Cantidad de filas/docs encontradas en el corpus\n",
        "print(\"Cantidad de docs en el corpus:\", w2v_model.corpus_count)\n",
        "# Cantidad de words encontradas en el corpus\n",
        "print(\"Cantidad de words distintas en el corpus:\", len(w2v_model.wv.index_to_key))"
      ],
      "metadata": {
        "colab": {
          "base_uri": "https://localhost:8080/"
        },
        "id": "6Hn69O8g_P1J",
        "outputId": "7e161911-ab44-4c86-fd1c-defef7b53714"
      },
      "execution_count": 60,
      "outputs": [
        {
          "output_type": "stream",
          "name": "stdout",
          "text": [
            "Cantidad de docs en el corpus: 6812\n",
            "Cantidad de words distintas en el corpus: 1347\n"
          ]
        }
      ]
    },
    {
      "cell_type": "code",
      "source": [
        "# Entrenamos el modelo generador de vectores\n",
        "# Utilizamos nuestro callback\n",
        "w2v_model.train(sentence_tokens,\n",
        "                 total_examples=w2v_model.corpus_count,\n",
        "                 epochs=20,\n",
        "                 compute_loss = True,\n",
        "                 callbacks=[callback()]\n",
        "                 )"
      ],
      "metadata": {
        "colab": {
          "base_uri": "https://localhost:8080/"
        },
        "id": "N28kNoqEAC4d",
        "outputId": "4ce34859-81b8-47c1-ac31-0bd12f95dae8"
      },
      "execution_count": 61,
      "outputs": [
        {
          "output_type": "stream",
          "name": "stdout",
          "text": [
            "Loss after epoch 0: 506556.96875\n",
            "Loss after epoch 1: 369829.53125\n",
            "Loss after epoch 2: 344129.125\n",
            "Loss after epoch 3: 314718.375\n",
            "Loss after epoch 4: 310399.0\n",
            "Loss after epoch 5: 295839.5\n",
            "Loss after epoch 6: 262763.5\n",
            "Loss after epoch 7: 258724.5\n",
            "Loss after epoch 8: 254935.0\n",
            "Loss after epoch 9: 252422.0\n",
            "Loss after epoch 10: 249889.75\n",
            "Loss after epoch 11: 246938.0\n",
            "Loss after epoch 12: 243465.0\n",
            "Loss after epoch 13: 241613.5\n",
            "Loss after epoch 14: 229063.75\n",
            "Loss after epoch 15: 226176.0\n",
            "Loss after epoch 16: 225148.5\n",
            "Loss after epoch 17: 223591.5\n",
            "Loss after epoch 18: 222550.5\n",
            "Loss after epoch 19: 222643.0\n"
          ]
        },
        {
          "output_type": "execute_result",
          "data": {
            "text/plain": [
              "(785273, 1296760)"
            ]
          },
          "metadata": {},
          "execution_count": 61
        }
      ]
    },
    {
      "cell_type": "markdown",
      "source": [
        "## 2 Probamos terminos de interes"
      ],
      "metadata": {
        "id": "gQSbzv5iBdR6"
      }
    },
    {
      "cell_type": "code",
      "source": [
        "# Palabras que MÁS se relacionan con...:\n",
        "w2v_model.wv.most_similar(positive=[\"god\"], topn=10)"
      ],
      "metadata": {
        "colab": {
          "base_uri": "https://localhost:8080/"
        },
        "id": "lsAuBGW1AFbc",
        "outputId": "d570d506-ac1d-412b-c19c-6c0e20b4ead0"
      },
      "execution_count": 62,
      "outputs": [
        {
          "output_type": "execute_result",
          "data": {
            "text/plain": [
              "[('food', 0.7980446815490723),\n",
              " ('stamps', 0.7704891562461853),\n",
              " ('damn', 0.7608792781829834),\n",
              " ('ooh', 0.7356470823287964),\n",
              " ('swear', 0.7144322395324707),\n",
              " ('thank', 0.7053040862083435),\n",
              " ('yea', 0.6808665990829468),\n",
              " ('ah', 0.6683138608932495),\n",
              " ('sent', 0.6661420464515686),\n",
              " ('acid', 0.656876802444458)]"
            ]
          },
          "metadata": {},
          "execution_count": 62
        }
      ]
    },
    {
      "cell_type": "code",
      "source": [
        "# Palabras que MENOS se relacionan con...:\n",
        "w2v_model.wv.most_similar(negative=[\"love\"], topn=10)"
      ],
      "metadata": {
        "colab": {
          "base_uri": "https://localhost:8080/"
        },
        "id": "c5mCtKSiAIZC",
        "outputId": "4ac41d39-0850-4438-c543-46921808817b"
      },
      "execution_count": 63,
      "outputs": [
        {
          "output_type": "execute_result",
          "data": {
            "text/plain": [
              "[('his', -0.013269864954054356),\n",
              " ('hands', -0.042220115661621094),\n",
              " ('an', -0.04660608619451523),\n",
              " ('over', -0.10607542842626572),\n",
              " ('their', -0.11157377809286118),\n",
              " ('hold', -0.12165422737598419),\n",
              " ('slap', -0.12283757328987122),\n",
              " ('box', -0.12992389500141144),\n",
              " ('night', -0.13708920776844025),\n",
              " ('or', -0.14021563529968262)]"
            ]
          },
          "metadata": {},
          "execution_count": 63
        }
      ]
    },
    {
      "cell_type": "markdown",
      "source": [
        "### Conclusion"
      ],
      "metadata": {
        "id": "oH-tfrA_C4Wr"
      }
    },
    {
      "cell_type": "markdown",
      "source": [
        "Al entrenar un modelo Word2Vec con las letras de Eminem se puede ver cómo las palabras no se agrupan por su significado “general” sino por el uso particular que el artista les da en sus canciones. Por ejemplo, al consultar por la palabra god aparecen términos relacionados más con expresiones de énfasis, emociones intensas o situaciones extremas que con un sentido religioso, lo que refleja el estilo crudo y directo de su lenguaje. En el caso de love, al buscar las diez palabras menos relacionadas, se observa que queda muy aislada dentro del vocabulario y que sus conexiones son débiles y con términos más bien funcionales o narrativos, lo cual sugiere que no ocupa un lugar relevante en sus letras. Esto muestra que los embeddings capturan la forma en que un autor utiliza las palabras dentro de su propio universo semántico y que, cuando el corpus es específico como en este caso, el modelo refleja más la manera personal de expresarse que el significado universal de los términos."
      ],
      "metadata": {
        "id": "w02oclL_C6O8"
      }
    },
    {
      "cell_type": "markdown",
      "source": [
        "## 3 Graficos"
      ],
      "metadata": {
        "id": "agtycSXzDlAi"
      }
    },
    {
      "cell_type": "code",
      "source": [
        "def reduce_dimensions(model, num_dimensions = 2 ):\n",
        "\n",
        "    vectors = np.asarray(model.wv.vectors)\n",
        "    labels = np.asarray(model.wv.index_to_key)\n",
        "\n",
        "    tsne = TSNE(n_components=num_dimensions, random_state=0)\n",
        "    vectors = tsne.fit_transform(vectors)\n",
        "\n",
        "    return vectors, labels"
      ],
      "metadata": {
        "id": "TuRBgSp2AiGo"
      },
      "execution_count": 64,
      "outputs": []
    },
    {
      "cell_type": "code",
      "source": [
        "# Graficar los embedddings en 2D\n",
        "vecs, labels = reduce_dimensions(w2v_model)\n",
        "\n",
        "MAX_WORDS=int(len(w2v_model.wv.index_to_key)*0.5)\n",
        "fig = px.scatter(x=vecs[:MAX_WORDS,0], y=vecs[:MAX_WORDS,1], text=labels[:MAX_WORDS])\n",
        "fig.show(renderer=\"colab\") # esto para plotly en colab"
      ],
      "metadata": {
        "colab": {
          "base_uri": "https://localhost:8080/",
          "height": 542
        },
        "id": "hNsc2f3LAvcn",
        "outputId": "0870afb2-c0e8-4d43-8d1a-5f9f0129e0f1"
      },
      "execution_count": 65,
      "outputs": [
        {
          "output_type": "display_data",
          "data": {
            "text/html": [
              "<html>\n",
              "<head><meta charset=\"utf-8\" /></head>\n",
              "<body>\n",
              "    <div>            <script src=\"https://cdnjs.cloudflare.com/ajax/libs/mathjax/2.7.5/MathJax.js?config=TeX-AMS-MML_SVG\"></script><script type=\"text/javascript\">if (window.MathJax && window.MathJax.Hub && window.MathJax.Hub.Config) {window.MathJax.Hub.Config({SVG: {font: \"STIX-Web\"}});}</script>                <script type=\"text/javascript\">window.PlotlyConfig = {MathJaxConfig: 'local'};</script>\n",
              "        <script charset=\"utf-8\" src=\"https://cdn.plot.ly/plotly-2.35.2.min.js\"></script>                <div id=\"08f94034-b19c-431b-8673-71bbcef68301\" class=\"plotly-graph-div\" style=\"height:525px; width:100%;\"></div>            <script type=\"text/javascript\">                                    window.PLOTLYENV=window.PLOTLYENV || {};                                    if (document.getElementById(\"08f94034-b19c-431b-8673-71bbcef68301\")) {                    Plotly.newPlot(                        \"08f94034-b19c-431b-8673-71bbcef68301\",                        [{\"hovertemplate\":\"x=%{x}\\u003cbr\\u003ey=%{y}\\u003cbr\\u003etext=%{text}\\u003cextra\\u003e\\u003c\\u002fextra\\u003e\",\"legendgroup\":\"\",\"marker\":{\"color\":\"#636efa\",\"symbol\":\"circle\"},\"mode\":\"markers+text\",\"name\":\"\",\"orientation\":\"v\",\"showlegend\":false,\"text\":[\"i\",\"the\",\"you\",\"to\",\"a\",\"and\",\"my\",\"i'm\",\"it\",\"me\",\"in\",\"that\",\"like\",\"of\",\"this\",\"but\",\"just\",\"so\",\"on\",\"is\",\"your\",\"don't\",\"up\",\"with\",\"get\",\"for\",\"be\",\"it's\",\"no\",\"all\",\"know\",\"what\",\"now\",\"out\",\"when\",\"they\",\"was\",\"not\",\"fuck\",\"ain't\",\"got\",\"at\",\"go\",\"can\",\"back\",\"if\",\"shit\",\"we\",\"he\",\"do\",\"one\",\"from\",\"'cause\",\"as\",\"never\",\"see\",\"think\",\"say\",\"his\",\"make\",\"you're\",\"off\",\"oh\",\"that's\",\"down\",\"way\",\"who\",\"her\",\"have\",\"can't\",\"take\",\"right\",\"ass\",\"bitch\",\"name\",\"or\",\"too\",\"let\",\"want\",\"love\",\"then\",\"are\",\"i'll\",\"these\",\"am\",\"time\",\"how\",\"been\",\"shady\",\"'em\",\"even\",\"why\",\"feel\",\"him\",\"yeah\",\"baby\",\"man\",\"cause\",\"come\",\"gonna\",\"still\",\"slim\",\"he's\",\"about\",\"look\",\"wanna\",\"little\",\"through\",\"some\",\"could\",\"an\",\"only\",\"did\",\"girl\",\"life\",\"over\",\"here\",\"put\",\"better\",\"give\",\"more\",\"need\",\"had\",\"there\",\"said\",\"i've\",\"she\",\"everybody\",\"stand\",\"aah\",\"by\",\"fuckin'\",\"them\",\"ever\",\"fucking\",\"tell\",\"rap\",\"again\",\"god\",\"bad\",\"crazy\",\"world\",\"will\",\"nothing\",\"before\",\"us\",\"try\",\"stop\",\"would\",\"maybe\",\"hear\",\"new\",\"where\",\"own\",\"please\",\"keep\",\"really\",\"something\",\"every\",\"made\",\"same\",\"gotta\",\"blow\",\"around\",\"day\",\"head\",\"there's\",\"into\",\"'til\",\"won't\",\"call\",\"yo\",\"mom\",\"didn't\",\"boy\",\"shot\",\"well\",\"gone\",\"white\",\"real\",\"face\",\"once\",\"night\",\"comes\",\"guess\",\"thing\",\"ya\",\"two\",\"lose\",\"shake\",\"while\",\"let's\",\"people\",\"yourself\",\"hit\",\"show\",\"ha\",\"find\",\"going\",\"goes\",\"we're\",\"enough\",\"music\",\"sing\",\"doing\",\"everything\",\"good\",\"dre\",\"damn\",\"much\",\"its\",\"other\",\"whole\",\"wish\",\"told\",\"long\",\"till\",\"away\",\"looking\",\"inside\",\"mind\",\"die\",\"walk\",\"return\",\"rock\",\"cold\",\"bitches\",\"next\",\"came\",\"feels\",\"getting\",\"superman\",\"sick\",\"run\",\"pretend\",\"meant\",\"full\",\"wasn't\",\"their\",\"must\",\"big\",\"sometimes\",\"hope\",\"chance\",\"without\",\"who's\",\"high\",\"afraid\",\"kid\",\"hell\",\"though\",\"should\",\"bed\",\"moment\",\"leave\",\"mean\",\"hi\",\"pain\",\"home\",\"band\",\"sorry\",\"hurt\",\"each\",\"beat\",\"lie\",\"i'mma\",\"because\",\"always\",\"our\",\"friends\",\"move\",\"light\",\"kids\",\"sit\",\"than\",\"has\",\"hands\",\"another\",\"miss\",\"under\",\"many\",\"save\",\"hey\",\"fucked\",\"huh\",\"probably\",\"talk\",\"road\",\"hand\",\"daddy\",\"top\",\"y'all\",\"cry\",\"party\",\"spit\",\"nobody\",\"i'd\",\"game\",\"kill\",\"place\",\"momma\",\"hate\",\"left\",\"words\",\"half\",\"house\",\"shut\",\"you'll\",\"heart\",\"raah\",\"fall\",\"straight\",\"alright\",\"turn\",\"until\",\"used\",\"tryin'\",\"hold\",\"mouth\",\"mad\",\"thought\",\"were\",\"act\",\"alone\",\"legacy\",\"old\",\"door\",\"wrong\",\"wanted\",\"goin'\",\"girls\",\"went\",\"hard\",\"trying\",\"together\",\"what's\",\"play\",\"last\",\"taking\",\"you've\",\"grow\",\"eyes\",\"sky\",\"opportunity\",\"tonight\",\"start\",\"done\",\"fire\",\"dragon\",\"gon'\",\"pac\",\"cut\",\"looks\",\"dungeon\",\"drop\",\"use\",\"pee\",\"whatever\",\"body\",\"follow\",\"first\",\"dick\",\"bring\",\"does\",\"eminem\",\"uh\",\"wall\",\"ah\",\"motherfuckin'\",\"wait\",\"things\",\"fight\",\"da\",\"sound\",\"knows\",\"school\",\"couple\",\"break\",\"else\",\"late\",\"doctor\",\"after\",\"america\",\"believe\",\"they're\",\"father\",\"end\",\"picture\",\"touch\",\"someone\",\"stay\",\"front\",\"myself\",\"hot\",\"work\",\"marshall\",\"tryna\",\"actin'\",\"ask\",\"coming\",\"seen\",\"took\",\"t\",\"tomorrow\",\"bout\",\"beautiful\",\"lot\",\"'bout\",\"close\",\"lifetime\",\"saying\",\"smoke\",\"caught\",\"dead\",\"both\",\"live\",\"she's\",\"closet\",\"since\",\"f\",\"club\",\"slut\",\"trailer\",\"years\",\"song\",\"king\",\"vegas\",\"point\",\"guy\",\"dad\",\"feeling\",\"yesterday\",\"write\",\"mine\",\"help\",\"mother\",\"matter\",\"standing\",\"gave\",\"chorus\",\"shoot\",\"kick\",\"valium\",\"lost\",\"eat\",\"almost\",\"pull\",\"o\",\"listen\",\"times\",\"pills\",\"roof\",\"six\",\"dumb\",\"throw\",\"any\",\"dig\",\"word\",\"outta\",\"today\",\"'till\",\"dream\",\"five\",\"fact\",\"along\",\"blue\",\"empty\",\"niggas\",\"we'll\",\"it'll\",\"car\",\"may\",\"drugs\",\"thinking\",\"pop\",\"k\",\"everyday\",\"butt\",\"free\",\"legs\",\"three\",\"wrote\",\"dog\",\"kiss\",\"broke\",\"grab\",\"gettin'\",\"dude\",\"gun\",\"days\",\"met\",\"called\",\"swear\",\"mic\",\"wonder\",\"started\",\"ma\",\"floor\",\"crack\",\"friend\",\"tried\",\"lay\",\"drunk\",\"shoes\",\"screamin'\",\"found\",\"d\",\"ready\",\"stage\",\"step\",\"morning\",\"flames\",\"mile\",\"hair\",\"bit\",\"fack\",\"nigga\",\"living\",\"kinda\",\"b\",\"arms\",\"sleep\",\"job\",\"beef\",\"shady's\",\"em\",\"hoes\",\"kim\",\"line\",\"blood\",\"tear\",\"ground\",\"stuck\",\"ooh\",\"far\",\"hop\",\"burn\",\"true\",\"side\",\"shooting\",\"rest\",\"fast\",\"soon\",\"against\",\"window\",\"might\",\"single\",\"drive\",\"flow\",\"track\",\"stars\",\"i'ma\",\"wouldn't\",\"lookin'\",\"songs\",\"s\",\"loud\",\"stick\",\"brain\",\"nothin'\",\"being\",\"playin'\",\"anything\",\"favors\",\"outside\",\"fame\",\"daughter\",\"daddy's\",\"nuts\",\"different\",\"ways\",\"hip\",\"parents\",\"cum\",\"watch\",\"lips\",\"rhymes\",\"makes\",\"bet\",\"scared\",\"starting\",\"change\",\"couldn't\",\"clear\",\"spot\",\"black\",\"dear\",\"fell\",\"dope\",\"yes\",\"kind\",\"mama\",\"hurts\",\"forgot\",\"meet\",\"gets\",\"dynamite\",\"breath\",\"dance\",\"saw\",\"beginning\",\"airplanes\",\"monster\",\"nod\",\"talking\",\"wants\",\"okay\",\"8\",\"which\",\"motherfuckers\",\"room\",\"fat\",\"thousand\",\"win\",\"rhyme\",\"lead\",\"blame\",\"fear\",\"set\",\"second\",\"verse\",\"throat\",\"bunch\",\"wake\",\"remember\",\"feet\",\"quit\",\"pass\",\"ride\",\"motherfucker\",\"loved\",\"ladies\",\"hole\",\"behind\",\"money\",\"here's\",\"feed\",\"control\",\"reason\",\"smile\",\"swallow\",\"four\",\"blew\",\"twenty\",\"promise\",\"battle\",\"gotten\",\"doubt\",\"3\",\"best\",\"weed\",\"nine\",\"comin'\",\"lights\",\"fan\",\"nice\",\"poppin'\",\"supposed\",\"tape\",\"problem\",\"attention\",\"box\",\"boys\",\"life's\",\"women\",\"pick\",\"nose\",\"deep\",\"knock\",\"guarantee\",\"where's\",\"pretty\",\"autograph\"],\"x\":[-17.600504,9.643904,-18.287722,-13.1615715,-3.6264706,3.6906796,3.5866237,-0.38403565,-22.661562,-12.963805,25.87498,-13.907083,-13.202257,7.063513,10.943803,-13.818188,-15.418171,1.5365876,30.148129,1.543424,9.894357,-19.490435,25.021528,22.527828,4.5258436,27.269888,5.746558,-4.5036387,-23.188421,16.808714,-17.512922,-16.507729,7.999702,9.198059,-17.090588,-14.45105,-9.553044,-5.2703795,-27.220558,-24.453655,-3.1879327,21.109104,22.025198,-26.549086,23.690374,-23.697618,-1.539668,-21.644266,-14.541606,-19.40761,-23.00518,10.051324,-15.785125,2.7944038,-25.916683,-13.070849,-14.470434,-15.20164,14.61584,-30.953136,-3.5941098,14.569664,15.527538,-13.20889,31.608498,-18.228653,-3.57287,17.416452,-6.590182,-25.28202,7.736393,9.86338,23.759392,0.4677651,-2.665649,-16.584816,-10.334883,20.643713,-14.580838,-16.112658,-22.817463,-2.5613754,-23.133753,10.4181795,-28.326677,22.513393,-9.268333,2.0810099,-8.737643,-10.695496,-20.642761,-17.472528,-9.456265,-12.590545,-27.042686,-31.729935,-2.0195823,-19.29535,24.041992,-1.9015405,-9.304386,-8.715224,-5.728014,-11.148081,19.656322,-24.070076,-4.659747,26.728611,-10.927077,-10.787789,-6.7104616,-24.303144,-15.600386,-15.013359,21.332481,19.443287,-3.5687063,17.317335,15.760595,-15.521774,-22.016455,-20.565514,-23.942007,-31.89552,-16.084282,3.3262765,-20.014917,-23.729214,16.947527,-31.325035,17.224041,14.568201,-9.191102,-23.467417,13.324224,-9.562027,-16.547836,23.624937,-30.066063,-3.5488951,-28.52217,-0.16932374,2.08348,-12.004887,-13.901685,-7.887032,-21.381994,9.244002,-24.068642,-23.330458,-32.95065,-1.6440351,-12.837694,-7.952599,18.590862,20.561506,-6.307327,-11.120018,23.465124,-0.08846633,19.647753,-15.6654825,5.988539,12.056453,12.210102,4.7341433,-21.896357,14.637447,11.311466,-21.395613,-11.080899,21.526215,5.3480477,-19.440317,-28.62583,12.299722,-27.66883,-1.530308,24.262619,-7.6826997,16.854279,14.71767,26.839579,14.068593,-17.322973,-25.84752,-12.691649,7.3897595,16.76524,24.441315,-16.523567,19.470968,13.277895,17.175718,5.556682,-11.980478,-4.8182073,31.971489,-5.9771814,16.10678,8.421558,-11.3324375,17.092915,25.170296,-18.725302,0.091789864,0.94841224,-25.83179,-29.809277,0.5820901,-4.1331344,-5.4418225,17.600208,-6.970041,-11.0216055,26.902763,13.443605,10.410933,-19.174637,18.724527,5.254695,-15.274254,27.904022,-23.912722,-9.493277,-15.751344,14.837248,4.397401,-5.8618145,-8.652856,-3.1741424,8.145689,-8.419997,2.3003318,6.938733,-28.130545,5.958829,-21.642618,-0.5478213,-25.73878,-2.1053011,-19.217684,-20.838272,7.04768,-12.358839,10.885809,9.696065,-6.5896053,6.286376,-6.3423285,-23.278822,-26.241604,6.1671,16.930655,-21.284811,-15.722877,-2.4988072,-3.718327,19.516918,2.668428,-9.963841,-28.12259,27.637926,10.988891,-17.782766,-14.476906,-17.777088,-24.503912,19.104116,23.344702,18.993843,31.944609,4.3194804,13.335149,-24.710976,4.4094057,16.166689,0.17974989,6.912699,6.216157,-8.583885,-15.720407,-8.757189,-10.829674,-2.265537,-31.5058,-22.58079,30.703691,24.224815,-21.39782,16.180016,-17.773067,-30.100426,-21.477938,6.515175,-28.740835,-18.150751,-7.948513,-4.99473,9.129659,-9.721977,-13.252263,21.590164,3.4804943,4.5624948,8.615362,8.6476,-25.447779,10.661674,-7.5680747,18.772327,23.474545,-18.506397,23.600716,12.269729,-4.7369294,-4.272627,12.339433,14.749126,-9.931787,-17.22265,-10.565733,-13.524476,-2.4304292,0.44553992,13.082469,25.378227,-10.420996,-8.000525,-21.833447,-13.366521,9.523458,-6.3932076,-15.854572,26.282495,-10.923203,-6.1580524,11.539022,31.272278,0.51761013,17.714846,15.843367,-0.052880846,14.12103,-30.31147,8.876571,1.672945,-11.984829,-7.5703187,-0.06438464,14.544329,9.304681,-6.2135763,-7.5699797,-22.87525,-6.866006,20.087736,-17.833347,17.336597,5.8864927,11.798023,13.976472,-21.205406,-22.712563,16.326134,2.4608011,20.866964,14.573067,8.33557,-17.395502,-21.933407,12.611699,3.5494745,-8.766953,-18.479494,17.083687,27.201317,17.91091,-28.744408,-2.0792222,-19.546057,1.4570085,24.202976,-18.155184,-6.1157546,-3.2063932,17.186523,20.850748,9.914672,-6.6913557,-11.140911,23.945831,18.794115,-0.8633621,14.111892,-27.971962,-2.3321865,-18.580942,-21.297441,17.537367,-25.311417,-11.655666,20.04445,-20.769361,-6.05451,-33.93234,5.9617248,-5.695857,15.93538,14.80718,-18.49256,9.876973,7.7429047,-7.8070674,18.827448,14.599944,-15.2385435,8.010762,1.6467617,-8.296596,24.58678,-14.066367,25.917002,14.328585,-2.2697594,-16.579145,-20.937351,-23.45423,-8.59216,-5.8087406,4.8852286,-12.308506,-16.354437,0.24081714,-13.628808,11.446811,-8.5545635,29.560446,-15.464863,2.2427218,15.616209,19.131887,5.2573547,1.4744686,3.9423416,-3.7152545,13.164262,16.735802,-12.370338,14.066282,27.125418,13.759641,14.827047,3.5440533,18.374174,11.800305,-6.5153203,-9.9510765,26.910707,-3.2464995,-20.903841,-4.422449,20.974665,-16.067842,19.410873,27.106937,-12.356266,-0.470862,11.638897,-10.3920765,20.272825,-24.922882,5.7383685,-20.742836,-0.73293835,15.492213,-17.675142,23.453674,-20.195452,10.410953,13.455701,13.431823,-16.059315,23.142721,-17.595886,13.01959,-1.8160213,-13.141486,13.541663,-2.301116,-27.211784,-8.179612,-30.734625,15.87605,-20.822437,20.068409,-13.82463,21.26643,13.240766,-5.044003,-22.3476,18.353468,21.273539,19.341822,-7.2223983,-10.438118,17.660196,-3.4201267,20.235676,10.463054,8.373728,29.153994,31.209837,16.241415,5.6927986,-27.7044,0.48065153,3.8221889,-27.86899,17.134241,-1.4145648,7.791319,-6.447491,-10.718487,-0.12645486,-9.659142,-0.5225683,-21.736382,18.996475,7.315144,23.87747,10.507278,11.162438,-28.394032,0.6678591,10.427687,16.239954,-9.81441,20.79228,-3.917141,7.1716743,21.106638,2.9288511,4.2941136,8.146017,-16.20329,22.835932,19.146585,0.3896349,26.618103,-3.840698,-14.4392,-24.672186,32.143833,-14.625965,-14.1437645,0.031035405,5.16019,2.1158307,-19.790644,-2.184602,2.0013726,-19.76702,-23.359543,22.724773,13.694085,2.3573585,-3.5282283,-2.2290242,-2.7280068,17.836637,10.474805,18.932375,14.468511,16.309374,18.758707,1.996365,-9.08386,-20.132946,-6.971469,-3.6882098,-19.005165,3.4195943,-12.3077345,12.17213,-14.356552,-3.6104298,15.959297,-19.583803,-8.274655,-33.92919,-12.58678,-6.661212,-15.358966,4.333126,12.862175,11.0093,8.983424,21.25233,-24.051077,-5.1516876,6.943228,22.973232,24.383429,13.294685,-23.699959,7.3626337,31.269842,-12.728573,-14.0461,5.709713,-0.8602756,26.422092,-27.073858,1.1879354,2.772771,-6.07465,19.145542,5.901646,1.7729206,16.37802,16.202326,5.43034,11.983585,-15.691665,11.720972,7.5822563,-8.773203,6.057527,-1.6072106,5.3352695,-16.383276,7.617963,-6.2641063,-1.0551445,2.7845247,-3.67484,3.4833007,-18.455593,-3.6419291,-8.724174,13.699589,6.9967504,21.023205,-26.066612,-12.249196,15.23729,-18.447346,14.236882,-19.277006,-0.6428343,18.290808,-6.3099504,21.076353,5.2349114,2.844578,-7.9165287,-6.054441,5.784948,-0.3585138,3.1100025,29.02537,0.17552586,-2.5295808,-13.649064,11.381682,11.018826,15.118491,31.404018,-26.420626,10.269866,-27.948494,23.212263],\"xaxis\":\"x\",\"y\":[9.046782,8.178234,4.8838696,-15.971561,-11.889661,-1.263684,-19.382862,8.241448,8.721864,-0.55673164,-10.3083105,-1.8470542,-9.593251,-18.49082,-24.73057,18.449125,7.224205,19.23161,-2.473329,-18.471706,12.738398,7.4086914,-14.939212,-20.279697,19.219536,8.644733,11.695497,14.4632435,-3.9552698,6.1256776,13.804942,7.5269585,19.322386,-21.404064,10.420354,-11.953458,14.806619,17.474535,-9.692543,7.8755856,-9.52273,15.783316,-8.897425,14.888274,-6.2111716,13.48535,-16.625374,21.611658,26.900816,18.192225,-8.21007,2.0617325,10.048007,9.242826,4.6797137,6.9127316,13.111448,15.320923,-15.979572,10.692727,23.123547,-20.765219,22.314013,19.179745,-5.264392,-0.3040045,28.510065,-15.844173,-7.469552,13.646202,8.487258,17.887993,1.6561297,7.56785,-19.042797,21.120916,17.72326,-8.588813,3.1212707,-15.56043,7.1003885,-26.779537,-12.719619,6.375623,-9.720468,11.761707,24.055695,27.18017,-19.00459,-9.7533655,10.448254,18.658552,-1.9231787,-21.480518,-4.084869,-3.8235602,5.688808,2.753775,6.448313,10.798811,9.78625,-19.843384,21.983711,3.0481794,15.105329,-16.857666,-11.1966095,-1.7520419,-11.917778,29.886873,-3.686824,-8.453228,17.15012,-0.071596995,-24.29868,9.0184145,11.410467,-3.0890386,-26.329712,-19.518686,-2.7588153,-1.7881683,-0.7100176,4.194824,13.477525,25.495651,4.685308,-17.999483,12.846938,-3.4904218,-20.049845,-8.361287,-10.198254,17.129272,-7.244817,6.0194416,-6.444025,-8.019874,-6.778077,17.197262,-1.908014,-20.223577,18.356829,18.291592,-6.2980857,-9.179971,13.040107,14.086189,11.020567,-9.788385,6.271483,-11.71978,15.180089,-13.659501,12.313247,-11.242272,28.500488,-1.2709671,11.136676,-6.2346864,20.163118,4.2432327,13.11859,-6.768938,10.0076685,-13.599651,-5.719652,-1.9422531,-20.752632,6.9727507,14.541653,-10.579129,-22.269903,8.189323,-3.979602,13.021627,-0.78038806,21.663036,21.55672,-19.93806,-12.645788,-25.31008,-9.17661,-23.54255,16.208504,-12.160839,-3.6318657,-16.352587,-29.02654,3.39178,-8.493917,-7.5149097,4.781156,-28.26524,0.98653066,-4.600263,-14.84463,-11.738758,9.949317,16.272894,1.885974,-14.309487,-28.462666,4.995323,-23.168285,4.4537387,18.3494,-2.601883,-6.3712826,15.435563,14.095565,-19.366436,18.244394,29.54023,1.9643879,10.486806,-20.958773,4.335818,-7.67327,-20.664019,5.601182,20.658375,-0.60869604,-4.872293,-14.388186,22.72008,20.11362,11.933179,26.073767,15.237074,0.59669316,12.035906,4.85789,13.3347845,31.274275,9.300585,-18.93485,7.9819465,-26.672096,12.30391,13.066069,10.125589,15.315517,14.193989,-25.190258,20.07389,-19.620157,18.269884,8.718272,15.497951,13.551191,14.436634,-24.935152,-28.478378,2.0656552,2.0829873,-18.961617,1.2976878,5.8587623,-20.810616,19.842371,9.286225,2.059981,-6.664241,-2.4833732,-7.521237,-16.495207,5.824529,-10.423735,-20.51104,-13.105058,-11.732826,16.413555,-2.6941454,1.4636532,22.511187,-13.903149,11.294769,14.50362,-25.005714,23.713612,-1.3420043,-17.524971,23.078491,-18.885155,5.601015,-16.846237,0.14360364,6.135947,0.006216153,-8.248454,6.105037,10.300098,22.69923,7.1752152,5.984863,7.4674854,-6.3148575,-5.534818,4.670542,19.803059,14.30739,7.432809,15.64749,7.532885,-14.656975,9.942183,10.279854,17.013489,-29.371368,-5.0526476,-2.371459,-15.653337,-11.049713,-18.0606,11.059122,8.122902,-3.4756331,-12.307237,21.456072,15.798553,12.688257,-11.358364,9.586923,-17.905874,7.468006,-2.5845735,0.017915195,13.277658,4.408761,-12.70867,1.1018848,-5.580585,-1.630699,0.13067068,11.239442,13.073852,9.233767,6.208829,25.243767,-1.2990803,-17.481146,-24.60048,-24.43406,10.48113,2.9563675,27.976511,-16.463715,-29.371843,5.983059,26.697298,-0.018985309,-11.591455,-29.37201,2.2537906,29.34262,-6.2286077,22.008995,-10.874538,-1.9110376,-24.47532,-13.721847,-3.3604212,5.6962337,23.814346,-17.526348,-14.056359,22.467611,-11.589479,-14.607474,18.406954,-1.7815572,-30.776281,-23.613909,-5.330236,1.0271847,-5.318377,-8.466318,5.9835706,15.248492,-2.7359958,0.1693605,21.545065,11.522399,1.3588178,-7.962641,-1.1166892,-14.040778,11.426624,-5.087787,13.326078,-4.514307,0.18169582,17.174702,-3.7536051,3.3900142,8.134567,12.876969,11.824269,4.6382093,3.1522398,-7.683624,16.992594,21.886341,8.237136,-7.582324,-6.447066,8.44032,3.196956,-25.405396,-22.983267,-2.6229029,-6.7762413,10.515403,4.0082226,-27.593275,-4.547603,-22.016155,28.023628,-2.9987857,-13.955619,1.6761568,-18.172913,9.007747,-13.510621,9.430234,22.312143,-5.7746444,-4.617173,-14.008596,-7.5033064,-17.097609,14.938497,-15.568048,3.3170502,-13.858912,21.110712,-11.142887,-19.507517,1.8528548,-3.957691,-4.5637584,-21.476395,26.116333,16.045975,-0.9177752,-12.440683,21.027636,8.799125,2.6448176,15.979037,-22.525694,7.550228,-30.778055,-3.7458014,8.124005,15.530193,-4.0628004,9.566087,6.7643266,22.481329,-6.8002706,-24.248283,-3.314489,-20.45831,15.44571,-25.185133,-8.247556,4.706828,29.94293,2.5494382,12.491894,-17.495752,9.216278,0.34960592,1.1340442,1.4222516,1.605473,-12.986012,-18.245275,10.45904,-17.554327,0.37790698,2.6589172,-4.8095264,-4.9755626,19.430515,3.1854055,-14.517627,-24.642702,7.372089,-0.29506642,-5.673538,-7.974375,5.980025,-6.8611455,0.79252076,-3.0697727,-5.8781657,-7.534959,10.551515,-3.7302992,-0.27099457,-8.665762,3.901112,-6.6154666,20.028185,10.025744,-1.799582,17.285498,-27.520916,-11.195528,0.3285288,-10.272428,-13.516906,-9.577621,-0.9151167,-14.612205,-5.7653513,19.325869,-25.989912,10.709281,-11.068465,5.761357,-20.218569,-9.127435,-8.315289,3.085766,1.1565498,-11.579928,-14.603684,-1.0451249,-8.690595,-6.362526,15.422249,26.116041,13.060701,10.700749,4.4768953,-26.59104,-13.7893915,-17.004435,9.11193,23.293098,-27.224543,6.069288,11.483004,-2.7464383,-16.99966,5.4406443,-26.572802,-7.1982374,12.974477,-4.353798,-3.8246086,9.136306,12.962604,0.82836896,-13.575615,1.1806893,-9.281168,-5.560378,15.818961,-4.329492,-5.0584426,11.6831455,11.295279,12.128358,-7.320545,3.6015372,-19.897793,26.127995,4.975302,21.814018,13.04417,-13.10115,6.5568323,-6.3792143,13.470832,20.090103,5.2302,-1.7798471,0.3991098,-17.670162,9.547656,9.911999,17.13648,-6.3938513,-5.423656,-19.380598,-7.587715,0.75247747,15.266595,-11.050817,-2.2550855,-16.896914,26.264769,13.518991,-3.4842923,9.68323,-1.0961943,31.268122,-20.373743,-4.368463,18.038288,-17.469868,17.863895,0.34719113,-1.8423506,-11.525143,-15.269417,-10.156303,-6.389681,8.866803,5.5334897,-21.506187,28.30094,8.531096,10.069726,4.554575,23.87426,-15.156307,-11.252492,-5.2408037,12.850882,-11.021927,0.18765536,-12.072835,-7.8367352,-1.9977862,-21.91236,-15.479436,4.218389,-9.058666,2.5291054,-11.751852,-3.889998,-6.8669577,-0.24241002,2.0796175,12.362326,9.096113,6.4959,-24.250437,7.1321206,7.412431,5.372439,11.305103,26.317572,14.529454,0.8074217,-19.236029,10.563198,-7.075661,9.158852,7.7514577,0.79368865,11.064646,-5.224097,-4.86204,3.5926468,-15.932092,-24.00746,14.368968,7.112624,-4.354253,-15.951485,-10.590675,-5.9954047,-12.7126465,19.23962,-2.6738436,2.481906],\"yaxis\":\"y\",\"type\":\"scatter\"}],                        {\"template\":{\"data\":{\"histogram2dcontour\":[{\"type\":\"histogram2dcontour\",\"colorbar\":{\"outlinewidth\":0,\"ticks\":\"\"},\"colorscale\":[[0.0,\"#0d0887\"],[0.1111111111111111,\"#46039f\"],[0.2222222222222222,\"#7201a8\"],[0.3333333333333333,\"#9c179e\"],[0.4444444444444444,\"#bd3786\"],[0.5555555555555556,\"#d8576b\"],[0.6666666666666666,\"#ed7953\"],[0.7777777777777778,\"#fb9f3a\"],[0.8888888888888888,\"#fdca26\"],[1.0,\"#f0f921\"]]}],\"choropleth\":[{\"type\":\"choropleth\",\"colorbar\":{\"outlinewidth\":0,\"ticks\":\"\"}}],\"histogram2d\":[{\"type\":\"histogram2d\",\"colorbar\":{\"outlinewidth\":0,\"ticks\":\"\"},\"colorscale\":[[0.0,\"#0d0887\"],[0.1111111111111111,\"#46039f\"],[0.2222222222222222,\"#7201a8\"],[0.3333333333333333,\"#9c179e\"],[0.4444444444444444,\"#bd3786\"],[0.5555555555555556,\"#d8576b\"],[0.6666666666666666,\"#ed7953\"],[0.7777777777777778,\"#fb9f3a\"],[0.8888888888888888,\"#fdca26\"],[1.0,\"#f0f921\"]]}],\"heatmap\":[{\"type\":\"heatmap\",\"colorbar\":{\"outlinewidth\":0,\"ticks\":\"\"},\"colorscale\":[[0.0,\"#0d0887\"],[0.1111111111111111,\"#46039f\"],[0.2222222222222222,\"#7201a8\"],[0.3333333333333333,\"#9c179e\"],[0.4444444444444444,\"#bd3786\"],[0.5555555555555556,\"#d8576b\"],[0.6666666666666666,\"#ed7953\"],[0.7777777777777778,\"#fb9f3a\"],[0.8888888888888888,\"#fdca26\"],[1.0,\"#f0f921\"]]}],\"heatmapgl\":[{\"type\":\"heatmapgl\",\"colorbar\":{\"outlinewidth\":0,\"ticks\":\"\"},\"colorscale\":[[0.0,\"#0d0887\"],[0.1111111111111111,\"#46039f\"],[0.2222222222222222,\"#7201a8\"],[0.3333333333333333,\"#9c179e\"],[0.4444444444444444,\"#bd3786\"],[0.5555555555555556,\"#d8576b\"],[0.6666666666666666,\"#ed7953\"],[0.7777777777777778,\"#fb9f3a\"],[0.8888888888888888,\"#fdca26\"],[1.0,\"#f0f921\"]]}],\"contourcarpet\":[{\"type\":\"contourcarpet\",\"colorbar\":{\"outlinewidth\":0,\"ticks\":\"\"}}],\"contour\":[{\"type\":\"contour\",\"colorbar\":{\"outlinewidth\":0,\"ticks\":\"\"},\"colorscale\":[[0.0,\"#0d0887\"],[0.1111111111111111,\"#46039f\"],[0.2222222222222222,\"#7201a8\"],[0.3333333333333333,\"#9c179e\"],[0.4444444444444444,\"#bd3786\"],[0.5555555555555556,\"#d8576b\"],[0.6666666666666666,\"#ed7953\"],[0.7777777777777778,\"#fb9f3a\"],[0.8888888888888888,\"#fdca26\"],[1.0,\"#f0f921\"]]}],\"surface\":[{\"type\":\"surface\",\"colorbar\":{\"outlinewidth\":0,\"ticks\":\"\"},\"colorscale\":[[0.0,\"#0d0887\"],[0.1111111111111111,\"#46039f\"],[0.2222222222222222,\"#7201a8\"],[0.3333333333333333,\"#9c179e\"],[0.4444444444444444,\"#bd3786\"],[0.5555555555555556,\"#d8576b\"],[0.6666666666666666,\"#ed7953\"],[0.7777777777777778,\"#fb9f3a\"],[0.8888888888888888,\"#fdca26\"],[1.0,\"#f0f921\"]]}],\"mesh3d\":[{\"type\":\"mesh3d\",\"colorbar\":{\"outlinewidth\":0,\"ticks\":\"\"}}],\"scatter\":[{\"fillpattern\":{\"fillmode\":\"overlay\",\"size\":10,\"solidity\":0.2},\"type\":\"scatter\"}],\"parcoords\":[{\"type\":\"parcoords\",\"line\":{\"colorbar\":{\"outlinewidth\":0,\"ticks\":\"\"}}}],\"scatterpolargl\":[{\"type\":\"scatterpolargl\",\"marker\":{\"colorbar\":{\"outlinewidth\":0,\"ticks\":\"\"}}}],\"bar\":[{\"error_x\":{\"color\":\"#2a3f5f\"},\"error_y\":{\"color\":\"#2a3f5f\"},\"marker\":{\"line\":{\"color\":\"#E5ECF6\",\"width\":0.5},\"pattern\":{\"fillmode\":\"overlay\",\"size\":10,\"solidity\":0.2}},\"type\":\"bar\"}],\"scattergeo\":[{\"type\":\"scattergeo\",\"marker\":{\"colorbar\":{\"outlinewidth\":0,\"ticks\":\"\"}}}],\"scatterpolar\":[{\"type\":\"scatterpolar\",\"marker\":{\"colorbar\":{\"outlinewidth\":0,\"ticks\":\"\"}}}],\"histogram\":[{\"marker\":{\"pattern\":{\"fillmode\":\"overlay\",\"size\":10,\"solidity\":0.2}},\"type\":\"histogram\"}],\"scattergl\":[{\"type\":\"scattergl\",\"marker\":{\"colorbar\":{\"outlinewidth\":0,\"ticks\":\"\"}}}],\"scatter3d\":[{\"type\":\"scatter3d\",\"line\":{\"colorbar\":{\"outlinewidth\":0,\"ticks\":\"\"}},\"marker\":{\"colorbar\":{\"outlinewidth\":0,\"ticks\":\"\"}}}],\"scattermapbox\":[{\"type\":\"scattermapbox\",\"marker\":{\"colorbar\":{\"outlinewidth\":0,\"ticks\":\"\"}}}],\"scatterternary\":[{\"type\":\"scatterternary\",\"marker\":{\"colorbar\":{\"outlinewidth\":0,\"ticks\":\"\"}}}],\"scattercarpet\":[{\"type\":\"scattercarpet\",\"marker\":{\"colorbar\":{\"outlinewidth\":0,\"ticks\":\"\"}}}],\"carpet\":[{\"aaxis\":{\"endlinecolor\":\"#2a3f5f\",\"gridcolor\":\"white\",\"linecolor\":\"white\",\"minorgridcolor\":\"white\",\"startlinecolor\":\"#2a3f5f\"},\"baxis\":{\"endlinecolor\":\"#2a3f5f\",\"gridcolor\":\"white\",\"linecolor\":\"white\",\"minorgridcolor\":\"white\",\"startlinecolor\":\"#2a3f5f\"},\"type\":\"carpet\"}],\"table\":[{\"cells\":{\"fill\":{\"color\":\"#EBF0F8\"},\"line\":{\"color\":\"white\"}},\"header\":{\"fill\":{\"color\":\"#C8D4E3\"},\"line\":{\"color\":\"white\"}},\"type\":\"table\"}],\"barpolar\":[{\"marker\":{\"line\":{\"color\":\"#E5ECF6\",\"width\":0.5},\"pattern\":{\"fillmode\":\"overlay\",\"size\":10,\"solidity\":0.2}},\"type\":\"barpolar\"}],\"pie\":[{\"automargin\":true,\"type\":\"pie\"}]},\"layout\":{\"autotypenumbers\":\"strict\",\"colorway\":[\"#636efa\",\"#EF553B\",\"#00cc96\",\"#ab63fa\",\"#FFA15A\",\"#19d3f3\",\"#FF6692\",\"#B6E880\",\"#FF97FF\",\"#FECB52\"],\"font\":{\"color\":\"#2a3f5f\"},\"hovermode\":\"closest\",\"hoverlabel\":{\"align\":\"left\"},\"paper_bgcolor\":\"white\",\"plot_bgcolor\":\"#E5ECF6\",\"polar\":{\"bgcolor\":\"#E5ECF6\",\"angularaxis\":{\"gridcolor\":\"white\",\"linecolor\":\"white\",\"ticks\":\"\"},\"radialaxis\":{\"gridcolor\":\"white\",\"linecolor\":\"white\",\"ticks\":\"\"}},\"ternary\":{\"bgcolor\":\"#E5ECF6\",\"aaxis\":{\"gridcolor\":\"white\",\"linecolor\":\"white\",\"ticks\":\"\"},\"baxis\":{\"gridcolor\":\"white\",\"linecolor\":\"white\",\"ticks\":\"\"},\"caxis\":{\"gridcolor\":\"white\",\"linecolor\":\"white\",\"ticks\":\"\"}},\"coloraxis\":{\"colorbar\":{\"outlinewidth\":0,\"ticks\":\"\"}},\"colorscale\":{\"sequential\":[[0.0,\"#0d0887\"],[0.1111111111111111,\"#46039f\"],[0.2222222222222222,\"#7201a8\"],[0.3333333333333333,\"#9c179e\"],[0.4444444444444444,\"#bd3786\"],[0.5555555555555556,\"#d8576b\"],[0.6666666666666666,\"#ed7953\"],[0.7777777777777778,\"#fb9f3a\"],[0.8888888888888888,\"#fdca26\"],[1.0,\"#f0f921\"]],\"sequentialminus\":[[0.0,\"#0d0887\"],[0.1111111111111111,\"#46039f\"],[0.2222222222222222,\"#7201a8\"],[0.3333333333333333,\"#9c179e\"],[0.4444444444444444,\"#bd3786\"],[0.5555555555555556,\"#d8576b\"],[0.6666666666666666,\"#ed7953\"],[0.7777777777777778,\"#fb9f3a\"],[0.8888888888888888,\"#fdca26\"],[1.0,\"#f0f921\"]],\"diverging\":[[0,\"#8e0152\"],[0.1,\"#c51b7d\"],[0.2,\"#de77ae\"],[0.3,\"#f1b6da\"],[0.4,\"#fde0ef\"],[0.5,\"#f7f7f7\"],[0.6,\"#e6f5d0\"],[0.7,\"#b8e186\"],[0.8,\"#7fbc41\"],[0.9,\"#4d9221\"],[1,\"#276419\"]]},\"xaxis\":{\"gridcolor\":\"white\",\"linecolor\":\"white\",\"ticks\":\"\",\"title\":{\"standoff\":15},\"zerolinecolor\":\"white\",\"automargin\":true,\"zerolinewidth\":2},\"yaxis\":{\"gridcolor\":\"white\",\"linecolor\":\"white\",\"ticks\":\"\",\"title\":{\"standoff\":15},\"zerolinecolor\":\"white\",\"automargin\":true,\"zerolinewidth\":2},\"scene\":{\"xaxis\":{\"backgroundcolor\":\"#E5ECF6\",\"gridcolor\":\"white\",\"linecolor\":\"white\",\"showbackground\":true,\"ticks\":\"\",\"zerolinecolor\":\"white\",\"gridwidth\":2},\"yaxis\":{\"backgroundcolor\":\"#E5ECF6\",\"gridcolor\":\"white\",\"linecolor\":\"white\",\"showbackground\":true,\"ticks\":\"\",\"zerolinecolor\":\"white\",\"gridwidth\":2},\"zaxis\":{\"backgroundcolor\":\"#E5ECF6\",\"gridcolor\":\"white\",\"linecolor\":\"white\",\"showbackground\":true,\"ticks\":\"\",\"zerolinecolor\":\"white\",\"gridwidth\":2}},\"shapedefaults\":{\"line\":{\"color\":\"#2a3f5f\"}},\"annotationdefaults\":{\"arrowcolor\":\"#2a3f5f\",\"arrowhead\":0,\"arrowwidth\":1},\"geo\":{\"bgcolor\":\"white\",\"landcolor\":\"#E5ECF6\",\"subunitcolor\":\"white\",\"showland\":true,\"showlakes\":true,\"lakecolor\":\"white\"},\"title\":{\"x\":0.05},\"mapbox\":{\"style\":\"light\"}}},\"xaxis\":{\"anchor\":\"y\",\"domain\":[0.0,1.0],\"title\":{\"text\":\"x\"}},\"yaxis\":{\"anchor\":\"x\",\"domain\":[0.0,1.0],\"title\":{\"text\":\"y\"}},\"legend\":{\"tracegroupgap\":0},\"margin\":{\"t\":60}},                        {\"responsive\": true}                    ).then(function(){\n",
              "                            \n",
              "var gd = document.getElementById('08f94034-b19c-431b-8673-71bbcef68301');\n",
              "var x = new MutationObserver(function (mutations, observer) {{\n",
              "        var display = window.getComputedStyle(gd).display;\n",
              "        if (!display || display === 'none') {{\n",
              "            console.log([gd, 'removed!']);\n",
              "            Plotly.purge(gd);\n",
              "            observer.disconnect();\n",
              "        }}\n",
              "}});\n",
              "\n",
              "// Listen for the removal of the full notebook cells\n",
              "var notebookContainer = gd.closest('#notebook-container');\n",
              "if (notebookContainer) {{\n",
              "    x.observe(notebookContainer, {childList: true});\n",
              "}}\n",
              "\n",
              "// Listen for the clearing of the current output cell\n",
              "var outputEl = gd.closest('.output');\n",
              "if (outputEl) {{\n",
              "    x.observe(outputEl, {childList: true});\n",
              "}}\n",
              "\n",
              "                        })                };                            </script>        </div>\n",
              "</body>\n",
              "</html>"
            ]
          },
          "metadata": {}
        }
      ]
    },
    {
      "cell_type": "code",
      "source": [
        "# Graficar los embedddings en 3D\n",
        "\n",
        "vecs, labels = reduce_dimensions(w2v_model,3)\n",
        "\n",
        "fig = px.scatter_3d(x=vecs[:MAX_WORDS,0], y=vecs[:MAX_WORDS,1], z=vecs[:MAX_WORDS,2],text=labels[:MAX_WORDS])\n",
        "fig.update_traces(marker_size = 2)\n",
        "fig.show(renderer=\"colab\") # esto para plotly en colab"
      ],
      "metadata": {
        "colab": {
          "base_uri": "https://localhost:8080/",
          "height": 542
        },
        "id": "mdDmhxjCAx7z",
        "outputId": "a7248c37-68e4-4b80-aeec-a2c0cd2bdd42"
      },
      "execution_count": 66,
      "outputs": [
        {
          "output_type": "display_data",
          "data": {
            "text/html": [
              "<html>\n",
              "<head><meta charset=\"utf-8\" /></head>\n",
              "<body>\n",
              "    <div>            <script src=\"https://cdnjs.cloudflare.com/ajax/libs/mathjax/2.7.5/MathJax.js?config=TeX-AMS-MML_SVG\"></script><script type=\"text/javascript\">if (window.MathJax && window.MathJax.Hub && window.MathJax.Hub.Config) {window.MathJax.Hub.Config({SVG: {font: \"STIX-Web\"}});}</script>                <script type=\"text/javascript\">window.PlotlyConfig = {MathJaxConfig: 'local'};</script>\n",
              "        <script charset=\"utf-8\" src=\"https://cdn.plot.ly/plotly-2.35.2.min.js\"></script>                <div id=\"acca51cf-ece8-4f80-8cae-a80b416ec69e\" class=\"plotly-graph-div\" style=\"height:525px; width:100%;\"></div>            <script type=\"text/javascript\">                                    window.PLOTLYENV=window.PLOTLYENV || {};                                    if (document.getElementById(\"acca51cf-ece8-4f80-8cae-a80b416ec69e\")) {                    Plotly.newPlot(                        \"acca51cf-ece8-4f80-8cae-a80b416ec69e\",                        [{\"hovertemplate\":\"x=%{x}\\u003cbr\\u003ey=%{y}\\u003cbr\\u003ez=%{z}\\u003cbr\\u003etext=%{text}\\u003cextra\\u003e\\u003c\\u002fextra\\u003e\",\"legendgroup\":\"\",\"marker\":{\"color\":\"#636efa\",\"symbol\":\"circle\",\"size\":2},\"mode\":\"markers+text\",\"name\":\"\",\"scene\":\"scene\",\"showlegend\":false,\"text\":[\"i\",\"the\",\"you\",\"to\",\"a\",\"and\",\"my\",\"i'm\",\"it\",\"me\",\"in\",\"that\",\"like\",\"of\",\"this\",\"but\",\"just\",\"so\",\"on\",\"is\",\"your\",\"don't\",\"up\",\"with\",\"get\",\"for\",\"be\",\"it's\",\"no\",\"all\",\"know\",\"what\",\"now\",\"out\",\"when\",\"they\",\"was\",\"not\",\"fuck\",\"ain't\",\"got\",\"at\",\"go\",\"can\",\"back\",\"if\",\"shit\",\"we\",\"he\",\"do\",\"one\",\"from\",\"'cause\",\"as\",\"never\",\"see\",\"think\",\"say\",\"his\",\"make\",\"you're\",\"off\",\"oh\",\"that's\",\"down\",\"way\",\"who\",\"her\",\"have\",\"can't\",\"take\",\"right\",\"ass\",\"bitch\",\"name\",\"or\",\"too\",\"let\",\"want\",\"love\",\"then\",\"are\",\"i'll\",\"these\",\"am\",\"time\",\"how\",\"been\",\"shady\",\"'em\",\"even\",\"why\",\"feel\",\"him\",\"yeah\",\"baby\",\"man\",\"cause\",\"come\",\"gonna\",\"still\",\"slim\",\"he's\",\"about\",\"look\",\"wanna\",\"little\",\"through\",\"some\",\"could\",\"an\",\"only\",\"did\",\"girl\",\"life\",\"over\",\"here\",\"put\",\"better\",\"give\",\"more\",\"need\",\"had\",\"there\",\"said\",\"i've\",\"she\",\"everybody\",\"stand\",\"aah\",\"by\",\"fuckin'\",\"them\",\"ever\",\"fucking\",\"tell\",\"rap\",\"again\",\"god\",\"bad\",\"crazy\",\"world\",\"will\",\"nothing\",\"before\",\"us\",\"try\",\"stop\",\"would\",\"maybe\",\"hear\",\"new\",\"where\",\"own\",\"please\",\"keep\",\"really\",\"something\",\"every\",\"made\",\"same\",\"gotta\",\"blow\",\"around\",\"day\",\"head\",\"there's\",\"into\",\"'til\",\"won't\",\"call\",\"yo\",\"mom\",\"didn't\",\"boy\",\"shot\",\"well\",\"gone\",\"white\",\"real\",\"face\",\"once\",\"night\",\"comes\",\"guess\",\"thing\",\"ya\",\"two\",\"lose\",\"shake\",\"while\",\"let's\",\"people\",\"yourself\",\"hit\",\"show\",\"ha\",\"find\",\"going\",\"goes\",\"we're\",\"enough\",\"music\",\"sing\",\"doing\",\"everything\",\"good\",\"dre\",\"damn\",\"much\",\"its\",\"other\",\"whole\",\"wish\",\"told\",\"long\",\"till\",\"away\",\"looking\",\"inside\",\"mind\",\"die\",\"walk\",\"return\",\"rock\",\"cold\",\"bitches\",\"next\",\"came\",\"feels\",\"getting\",\"superman\",\"sick\",\"run\",\"pretend\",\"meant\",\"full\",\"wasn't\",\"their\",\"must\",\"big\",\"sometimes\",\"hope\",\"chance\",\"without\",\"who's\",\"high\",\"afraid\",\"kid\",\"hell\",\"though\",\"should\",\"bed\",\"moment\",\"leave\",\"mean\",\"hi\",\"pain\",\"home\",\"band\",\"sorry\",\"hurt\",\"each\",\"beat\",\"lie\",\"i'mma\",\"because\",\"always\",\"our\",\"friends\",\"move\",\"light\",\"kids\",\"sit\",\"than\",\"has\",\"hands\",\"another\",\"miss\",\"under\",\"many\",\"save\",\"hey\",\"fucked\",\"huh\",\"probably\",\"talk\",\"road\",\"hand\",\"daddy\",\"top\",\"y'all\",\"cry\",\"party\",\"spit\",\"nobody\",\"i'd\",\"game\",\"kill\",\"place\",\"momma\",\"hate\",\"left\",\"words\",\"half\",\"house\",\"shut\",\"you'll\",\"heart\",\"raah\",\"fall\",\"straight\",\"alright\",\"turn\",\"until\",\"used\",\"tryin'\",\"hold\",\"mouth\",\"mad\",\"thought\",\"were\",\"act\",\"alone\",\"legacy\",\"old\",\"door\",\"wrong\",\"wanted\",\"goin'\",\"girls\",\"went\",\"hard\",\"trying\",\"together\",\"what's\",\"play\",\"last\",\"taking\",\"you've\",\"grow\",\"eyes\",\"sky\",\"opportunity\",\"tonight\",\"start\",\"done\",\"fire\",\"dragon\",\"gon'\",\"pac\",\"cut\",\"looks\",\"dungeon\",\"drop\",\"use\",\"pee\",\"whatever\",\"body\",\"follow\",\"first\",\"dick\",\"bring\",\"does\",\"eminem\",\"uh\",\"wall\",\"ah\",\"motherfuckin'\",\"wait\",\"things\",\"fight\",\"da\",\"sound\",\"knows\",\"school\",\"couple\",\"break\",\"else\",\"late\",\"doctor\",\"after\",\"america\",\"believe\",\"they're\",\"father\",\"end\",\"picture\",\"touch\",\"someone\",\"stay\",\"front\",\"myself\",\"hot\",\"work\",\"marshall\",\"tryna\",\"actin'\",\"ask\",\"coming\",\"seen\",\"took\",\"t\",\"tomorrow\",\"bout\",\"beautiful\",\"lot\",\"'bout\",\"close\",\"lifetime\",\"saying\",\"smoke\",\"caught\",\"dead\",\"both\",\"live\",\"she's\",\"closet\",\"since\",\"f\",\"club\",\"slut\",\"trailer\",\"years\",\"song\",\"king\",\"vegas\",\"point\",\"guy\",\"dad\",\"feeling\",\"yesterday\",\"write\",\"mine\",\"help\",\"mother\",\"matter\",\"standing\",\"gave\",\"chorus\",\"shoot\",\"kick\",\"valium\",\"lost\",\"eat\",\"almost\",\"pull\",\"o\",\"listen\",\"times\",\"pills\",\"roof\",\"six\",\"dumb\",\"throw\",\"any\",\"dig\",\"word\",\"outta\",\"today\",\"'till\",\"dream\",\"five\",\"fact\",\"along\",\"blue\",\"empty\",\"niggas\",\"we'll\",\"it'll\",\"car\",\"may\",\"drugs\",\"thinking\",\"pop\",\"k\",\"everyday\",\"butt\",\"free\",\"legs\",\"three\",\"wrote\",\"dog\",\"kiss\",\"broke\",\"grab\",\"gettin'\",\"dude\",\"gun\",\"days\",\"met\",\"called\",\"swear\",\"mic\",\"wonder\",\"started\",\"ma\",\"floor\",\"crack\",\"friend\",\"tried\",\"lay\",\"drunk\",\"shoes\",\"screamin'\",\"found\",\"d\",\"ready\",\"stage\",\"step\",\"morning\",\"flames\",\"mile\",\"hair\",\"bit\",\"fack\",\"nigga\",\"living\",\"kinda\",\"b\",\"arms\",\"sleep\",\"job\",\"beef\",\"shady's\",\"em\",\"hoes\",\"kim\",\"line\",\"blood\",\"tear\",\"ground\",\"stuck\",\"ooh\",\"far\",\"hop\",\"burn\",\"true\",\"side\",\"shooting\",\"rest\",\"fast\",\"soon\",\"against\",\"window\",\"might\",\"single\",\"drive\",\"flow\",\"track\",\"stars\",\"i'ma\",\"wouldn't\",\"lookin'\",\"songs\",\"s\",\"loud\",\"stick\",\"brain\",\"nothin'\",\"being\",\"playin'\",\"anything\",\"favors\",\"outside\",\"fame\",\"daughter\",\"daddy's\",\"nuts\",\"different\",\"ways\",\"hip\",\"parents\",\"cum\",\"watch\",\"lips\",\"rhymes\",\"makes\",\"bet\",\"scared\",\"starting\",\"change\",\"couldn't\",\"clear\",\"spot\",\"black\",\"dear\",\"fell\",\"dope\",\"yes\",\"kind\",\"mama\",\"hurts\",\"forgot\",\"meet\",\"gets\",\"dynamite\",\"breath\",\"dance\",\"saw\",\"beginning\",\"airplanes\",\"monster\",\"nod\",\"talking\",\"wants\",\"okay\",\"8\",\"which\",\"motherfuckers\",\"room\",\"fat\",\"thousand\",\"win\",\"rhyme\",\"lead\",\"blame\",\"fear\",\"set\",\"second\",\"verse\",\"throat\",\"bunch\",\"wake\",\"remember\",\"feet\",\"quit\",\"pass\",\"ride\",\"motherfucker\",\"loved\",\"ladies\",\"hole\",\"behind\",\"money\",\"here's\",\"feed\",\"control\",\"reason\",\"smile\",\"swallow\",\"four\",\"blew\",\"twenty\",\"promise\",\"battle\",\"gotten\",\"doubt\",\"3\",\"best\",\"weed\",\"nine\",\"comin'\",\"lights\",\"fan\",\"nice\",\"poppin'\",\"supposed\",\"tape\",\"problem\",\"attention\",\"box\",\"boys\",\"life's\",\"women\",\"pick\",\"nose\",\"deep\",\"knock\",\"guarantee\",\"where's\",\"pretty\",\"autograph\"],\"x\":[-15.931766,45.016453,-5.8629694,25.09191,-5.0147424,15.290816,0.614596,-12.526823,-13.721158,-16.604,29.504389,-14.568885,-5.801734,5.687534,16.76636,-40.904964,-14.696591,15.523581,33.08739,-3.3280044,25.360006,-10.45586,21.793926,25.12107,9.122167,30.536623,12.944663,-6.689729,-28.517622,6.2028003,-21.930906,-33.656906,-26.676626,8.137309,-17.06345,-5.566627,-24.550463,-28.861689,-35.768764,-5.226045,-1.7946993,9.635405,16.029135,2.2987578,38.938164,0.9121499,-11.342369,-26.829626,5.691283,-18.277327,3.076828,22.001907,-18.056658,27.186424,-1.1667908,-15.885985,-18.860651,-26.333717,13.072893,9.976473,-10.904853,21.16471,-25.762522,-41.351536,35.074017,-12.626965,-17.714224,22.406933,7.098373,4.2895436,24.046673,-38.10866,27.09321,-14.135448,-13.361595,-34.322395,-37.066086,34.4012,-9.428936,-30.926382,-12.418383,-16.6226,2.6762917,-0.55529284,-35.625015,11.651733,-34.917267,-19.17014,-21.139338,12.351926,-12.623487,-30.369768,-15.947667,15.744043,-31.183199,-34.05149,8.295897,-4.099689,40.89914,10.721509,21.439539,-24.715448,-31.435759,-16.156837,9.49314,-8.798537,-2.8947484,41.32124,-2.3008673,-6.0616665,11.375465,1.8135275,-21.049107,-21.212114,16.573668,-1.2748553,-34.741676,15.293812,30.381289,23.887033,1.6915505,-4.3126884,-6.134052,10.948324,-24.970837,-12.38785,2.5469909,-2.35975,16.168701,-33.57732,13.172813,35.981815,10.953197,-13.378231,35.292507,-0.062627494,-22.633875,25.895754,-27.213593,-18.16516,-34.980083,-22.117584,17.422195,-35.25151,10.587635,8.115472,-2.1329587,23.164354,-9.776566,4.590994,9.100496,-8.323244,-29.360668,19.263388,-26.522856,27.575888,-33.770813,-9.841554,4.036271,0.14076233,33.237736,1.5070311,15.740948,18.031103,8.469373,3.6280282,-27.584213,20.985748,17.54378,-16.69807,-25.306921,26.850664,2.3655338,-11.886305,-34.367527,11.721687,-30.142075,-24.554432,-8.449066,-19.395542,24.282406,27.467611,36.857277,20.57229,-27.545149,7.63078,16.69913,10.519418,25.901741,32.803524,-24.599714,35.52473,-8.468563,28.292797,13.942398,17.018593,-10.307831,39.41191,-24.592821,-13.457668,33.169983,25.040932,23.957436,35.943882,-23.104242,6.0478797,12.015272,-39.698406,-28.82847,1.4949133,-8.954699,-17.739302,-8.508024,-36.612106,29.002197,-7.942564,16.611595,17.478836,-34.24072,17.287584,17.014416,-29.02052,33.523003,-30.767431,-29.13738,-37.6064,-19.884491,7.2369056,-18.31856,-27.5452,-13.568014,19.060587,-18.5855,13.572229,19.833015,1.597909,-0.28336,-15.595138,-13.434514,-1.9597077,-3.178226,-23.19487,-5.019243,19.05591,-1.2936879,-9.422539,11.842553,-28.24959,6.9162464,-4.2272143,-0.68359274,3.1889718,0.46784595,25.558758,5.1632614,-20.878248,-11.755262,-11.053212,-1.0227902,-6.1056542,-37.837513,0.024113763,12.868855,15.218471,-9.68216,9.273698,-31.780363,-5.469133,29.063667,30.43547,39.309917,40.60077,3.5012188,20.08749,5.182803,23.936327,21.059555,-3.1132267,16.83944,0.092723735,-38.399124,18.690056,-24.088417,-35.9307,-9.020638,7.814992,-3.6071956,20.352552,37.25692,1.3758566,23.414446,-13.83295,5.8849006,-22.197578,19.05802,-5.5371537,-5.5099025,-13.937459,1.7284396,10.755433,-34.690773,-27.905485,7.543377,1.7404203,9.546898,4.431383,24.29775,-0.5639814,4.556268,-15.157788,26.437803,29.34035,-33.980022,26.956415,41.686855,15.885749,13.411569,20.90723,17.899294,-29.067913,-24.156563,-20.486864,-9.0158,15.549262,-5.782219,9.101393,33.23768,23.21191,-1.9032654,6.527476,-15.162188,26.300291,14.535685,17.182297,37.489624,-13.944694,1.4954057,3.1473002,22.571617,-21.260582,29.669466,5.226399,-12.703809,23.733202,8.40681,4.4810963,-19.766174,30.977398,-17.23261,-0.8995311,-17.958555,14.151047,-6.0690217,-16.43059,6.6800666,-35.04385,38.035717,-33.149986,24.048641,15.071818,14.519908,13.764191,3.7677524,-8.978365,-23.893291,-3.3737442,31.794367,-20.454447,11.469205,-29.977613,-18.306677,20.051405,12.333617,-1.2232134,-26.959908,15.9534025,11.366162,26.22621,-7.919489,-7.746498,-3.90517,4.118516,-8.728459,-17.646395,-18.185606,0.2845714,25.627,32.257553,24.28393,11.374891,-23.197132,34.85465,26.408827,-5.545566,20.656788,6.535622,-16.474598,-18.362906,-6.123112,22.861694,4.112986,-2.5882807,1.4037138,-22.826426,20.900764,-26.791702,4.7285895,20.289762,25.506252,25.481974,-22.245586,15.125437,17.20557,-6.7028947,19.818079,25.650126,-8.902941,9.289437,-19.035034,-19.42909,21.257963,-15.858921,4.0064445,17.7595,-0.3540835,-20.778786,-25.52643,-27.527212,-13.474023,-9.852265,-0.060514785,30.703548,-20.83393,-5.3760467,1.0024366,8.490926,-31.082054,29.395933,21.314358,4.137764,20.877623,23.31264,2.485978,-17.911448,1.6293546,-5.8758526,13.059901,-17.934837,-18.655376,-5.350839,-6.9447966,21.546867,-4.894584,10.767216,25.011856,6.4501324,-5.026169,-9.158444,-2.912098,-5.185711,-23.463802,-5.9040093,11.367991,-9.535207,22.856682,-11.226012,-2.5470371,-4.8454366,11.360849,-6.7147975,10.226147,-0.23355903,1.6662722,-21.200157,1.5721567,-11.281586,-29.507763,28.965862,-21.3931,18.03102,6.7777596,4.0015535,-21.465504,33.48026,-21.947287,21.238451,-17.383198,1.7931888,15.806973,-17.438824,-1.502383,-13.21603,-31.715946,22.546734,-13.11523,35.6446,-16.482737,29.961796,25.9647,5.043323,-8.812963,23.24073,28.7852,34.489372,-21.034859,1.6408622,-14.007271,18.142115,18.568052,2.0414789,2.959302,30.015156,18.440256,27.82797,9.846042,-34.98512,-4.845782,5.1189165,-26.996769,-14.349535,-13.490848,20.314308,-2.9524481,-3.879356,-21.353474,7.1580553,-3.1069605,0.39105627,28.191574,9.112059,24.11841,14.089981,15.334718,-30.340712,2.5053003,-25.174858,13.81444,-11.333435,-12.640539,-18.478737,10.538664,24.151913,24.208447,21.901602,1.9660337,-10.858976,9.198791,24.726608,-1.5225888,29.345474,-19.64908,7.398649,0.8372118,34.242306,-3.2830684,-15.155341,-0.64403635,11.963607,-0.3777701,0.14988545,-0.7926027,22.960503,-3.0142112,-29.016487,34.414932,4.5768914,6.7902007,-23.58252,-3.809888,-0.2978913,15.249076,-23.673002,17.663353,-21.4104,14.3640585,37.021057,0.08792369,-10.755534,-7.779965,-31.244303,0.9350664,-5.5959044,10.378343,30.9538,6.0778728,-20.407423,-20.716406,26.806885,-26.67145,-21.776041,-27.41091,-19.390774,-6.609522,-12.214945,-16.998507,5.8350296,-20.437374,23.14572,33.755188,4.4021153,-11.017788,19.477125,27.632015,37.971504,-15.216335,-5.0210104,-19.965815,17.892311,-15.00976,-7.6498914,6.219527,-3.9285545,10.464768,-3.0095203,-6.049073,-5.444883,-32.142143,0.8307514,14.525186,-6.2861643,-22.662348,18.596834,-0.39944923,23.717773,-22.813616,8.886504,15.785977,33.483387,5.439267,-11.217973,4.0641475,-28.790123,7.5408683,-29.960651,-2.3740885,3.5485752,-2.4882755,3.7957292,-11.170732,-11.631415,-6.6470594,11.350281,21.678093,13.088112,1.1901433,-7.957674,11.639381,-14.576111,-18.072035,-9.5065365,-0.003124723,17.46927,-28.618866,31.311924,13.222669,-0.55750245,-17.08808,-28.908663,7.4817495,-8.075517,4.3597527,12.097814,-9.237163,-9.527224,-14.330201,19.603565,5.6022024,20.339014,31.558907,12.052337,-3.2449238,-31.549757,30.10578],\"y\":[-3.572503,-2.1759565,1.3677864,4.3823028,10.035401,-31.42335,-11.133383,31.616642,0.1174295,26.318098,12.0025015,14.623221,-35.02363,2.9776342,33.890266,-0.83623946,-18.127615,10.105625,7.9185443,-14.659797,-24.451324,-24.939556,21.898645,-5.060193,-36.230145,20.723377,-16.463709,10.202526,-27.836899,-26.436693,-17.176939,-9.390583,17.267815,-16.590603,2.7075686,-25.513052,-18.5728,19.560839,15.878529,2.8652978,-11.7578535,30.387787,-25.236269,-16.698921,-7.137175,-26.770525,-10.3125925,-18.484833,32.42163,-14.649556,-33.31132,3.910718,0.78820086,-5.8687887,6.152174,-5.962266,-14.282551,-6.6270723,28.535507,-12.1138,33.311684,-15.875517,18.773493,3.2289627,1.6852121,21.43843,-21.160772,22.001358,-13.051228,-21.270103,-18.544409,-3.3097122,23.390202,35.190052,-12.7849045,-2.5810478,9.87899,-12.990039,-7.363451,-6.938614,5.1451693,-24.464226,-16.221931,-28.08849,10.100216,-34.53918,-6.715498,-31.925055,-5.422807,-2.3930156,1.8273796,-3.2144527,-21.57061,23.678637,12.082032,11.078381,-7.025707,7.580562,11.927784,4.769232,-10.629448,-0.7705864,24.290335,-31.819872,26.784899,-13.611285,12.4872465,5.9457135,-26.951843,-29.177637,32.439346,-40.954967,-11.827097,17.026993,0.058583695,38.647575,-12.356857,-22.200943,-18.258204,-3.0213008,14.087255,16.685278,9.05227,19.137863,-12.159173,-34.43124,30.702702,-12.016499,22.47059,15.615297,-7.323865,19.994698,22.887213,-19.578459,-22.273125,-22.311493,33.15988,-5.463934,22.004827,27.231815,7.2519946,8.363,12.9254875,2.946789,-13.244483,28.47554,-11.38215,-31.073668,-18.666576,-35.83756,-28.094782,4.17273,-12.954355,-28.601873,-2.6292415,-8.953464,-21.423542,-22.78549,-36.482815,10.032214,-5.4078918,-8.132056,-20.600634,14.332196,24.639986,-0.67870635,-17.713528,3.1055129,-16.122093,10.143829,-1.9115714,-17.097818,-8.936165,-24.184753,14.71622,-29.381613,4.3020077,-10.73245,11.869773,0.7889122,8.037454,-25.45416,9.888103,-24.003565,-5.102792,-29.606424,-8.709123,1.9232528,-23.558249,17.37363,2.3971033,-7.411685,-29.835388,-24.266521,7.1911697,-13.038059,33.417076,-8.218356,5.188766,25.317242,-15.280809,6.918968,-25.304676,13.8515,30.760725,33.949734,14.602253,7.826871,18.463161,4.7563605,12.65865,-10.5728855,22.135958,-16.39098,16.009315,30.654594,-19.946234,-25.315004,0.91811395,-9.49649,-15.397904,0.34426275,12.94247,-27.09739,11.65557,-1.540707,14.6726,-21.357721,-31.39075,-14.43824,17.475752,-13.216732,3.5092487,-21.945963,-20.211315,-5.9081974,1.8202771,7.197805,-30.273932,-22.429892,16.303078,-25.021797,-18.51971,-30.549166,40.05289,25.764217,-12.926038,11.718321,-33.560123,17.715424,-25.477976,-16.338326,3.257466,-23.463024,-1.0718238,10.010527,-11.33034,17.494524,26.79664,-7.430704,11.443647,-5.8939767,-4.4492455,14.37622,17.170893,-16.95194,-6.9440656,6.913515,-14.674806,-6.6981893,1.7209841,-8.58413,-27.998772,-12.105168,11.338095,24.52144,18.645206,-19.14104,-30.492271,6.2877684,-2.021937,9.576114,-7.0988255,-5.2291093,-11.400266,11.253595,-16.548252,16.038137,12.173782,13.839705,-5.8695717,-9.855924,-8.378403,-21.207155,30.364927,-0.6191029,-19.503204,-7.1096435,27.8485,-27.17442,12.04646,-18.192806,18.765654,-23.669615,15.758452,-18.25533,30.000635,-14.317849,19.748272,-0.8784581,-2.2083905,1.2969455,-2.978695,-12.21919,-0.8574439,-6.724178,5.212837,12.550596,27.71785,-0.8691545,-5.6053743,-1.1757245,-32.122746,1.3838488,-13.719,27.363928,5.7875705,16.348421,19.53904,-1.5328766,-30.379383,-25.098331,16.364851,5.908353,11.231716,-5.500007,-16.892248,25.925488,28.941074,-24.968222,15.375308,-22.906597,-18.532898,-23.709614,-10.111194,8.43564,-33.07891,3.243059,-2.3560812,-18.675934,15.523558,-9.235623,17.40588,-3.1992328,4.643484,-18.646788,-5.0780334,-7.769721,-17.120457,12.06798,-11.789127,20.651356,19.398481,9.536488,19.550365,-7.515883,-17.113838,24.320591,-25.181292,-1.1621878,-17.572346,-15.67378,36.59874,-38.88561,24.895739,2.636714,16.98056,-12.032906,0.105649985,25.261642,22.991392,4.9503713,7.9512196,-11.438968,4.380328,21.963629,17.390314,-18.45703,10.270854,13.506289,-7.751729,-2.528327,-4.567642,25.436865,3.1642528,3.3540466,23.111704,-22.584496,-8.483631,6.635642,4.8619304,-32.489113,30.220825,-16.216793,0.38763753,24.521164,-9.703951,-1.5936279,4.5949216,-25.895199,32.629105,-20.257547,10.767288,25.01347,9.894641,-14.928622,31.219137,-14.77325,-30.915306,-15.357086,16.587187,19.346289,12.526088,1.2375747,-17.849588,-1.4445289,-18.45985,-24.646664,-13.008419,30.249971,-14.562667,8.50274,-7.040393,-12.060571,-11.268796,14.911146,4.8521166,11.880929,-2.2473142,4.9342422,-0.5329231,-4.764137,-5.4354625,-27.102297,-25.490667,15.53397,20.666405,19.06312,-12.970833,-26.105005,-0.8327413,-19.858837,15.146966,37.934185,-5.947751,19.147318,14.083757,-16.515606,32.927647,8.035398,-18.808084,10.394566,0.23853937,26.629847,-8.742251,3.4781885,39.207367,-20.094206,-25.838482,-32.469894,14.4363,-20.432137,-3.6468372,3.3916368,-11.914336,12.53483,9.5526905,20.754087,6.972665,-10.916631,-29.153915,28.599747,14.633987,22.490942,25.221481,-0.13087465,-4.125969,-8.529317,22.28322,-24.414984,0.4184894,0.92983806,20.498947,8.874445,12.893435,-7.7203712,20.801596,-1.3421624,4.071716,35.76618,-2.4633777,-7.0105653,10.600012,-13.449249,11.635583,-14.148144,16.203077,1.8803316,-12.97264,20.935202,14.849405,8.90135,14.404478,-10.178805,-3.1057181,12.690831,-25.249859,-11.334025,11.725734,21.198263,-26.136187,-10.407381,17.931973,-4.3340683,12.114206,22.408365,-20.778484,3.1389105,-4.7203307,2.906222,16.446568,-11.348958,12.560636,10.479376,2.083605,5.377261,17.606857,0.39126113,0.78773767,-17.866415,-8.251618,4.6956453,-4.7812624,21.409168,10.943651,-20.6402,-35.317516,-8.191901,-15.343062,14.1373,-20.256771,-14.177574,-22.36401,7.004009,29.234018,-1.1832608,21.724756,6.8879495,-8.081058,22.230543,-7.271885,-33.40484,-13.927298,-26.549065,-5.80647,-24.182589,-13.446306,9.688395,21.621435,12.478912,-5.9970937,4.6033382,7.1490617,22.923878,19.792719,4.299356,16.83532,-10.651231,-13.455044,13.753892,-35.237297,16.801157,1.6183116,8.549617,24.33958,-3.608672,24.955963,2.2931683,19.054962,-2.1861396,26.309378,21.531363,16.289375,-27.521694,-10.862708,25.612072,6.691523,-28.750658,-1.4397335,-9.019197,11.373574,-18.73862,-5.1374855,-0.49905303,15.352549,-10.587674,16.512012,12.136646,11.725644,-28.316626,-7.407752,8.178045,8.749743,-6.300911,-22.589212,-2.2821274,-21.269773,39.84109,-7.0223265,-18.23585,18.043783,22.310125,5.904854,15.0743065,-10.818694,10.160297,30.76463,-14.110314,-15.740179,-1.9450268,-6.7975636,-5.082137,-11.617382,-5.550007,-3.250909,5.3908677,35.273647,-15.696991,18.224524,16.7562,14.708434,22.597534,30.67867,-0.011979496,-4.53874,-9.754411,39.790195,-9.606692,13.986202,-12.856469,-10.837767,-3.2443419,4.9813466,-8.068547,-11.873829,15.640818,10.9479885,9.368728,-4.8464947,-12.229013,7.9164705,5.414489,-20.771929,18.906273,-7.49131,9.616025,22.349155,-8.335225,-0.8774891,-25.497086,23.284622,7.425177,23.62901],\"z\":[-25.36949,9.401182,-21.948719,-22.88252,21.27567,-5.140149,33.24864,-6.314213,-30.642206,-12.6908,20.196712,-16.31421,-10.816453,33.263023,-0.5817294,-11.248725,-25.381819,-37.862606,-4.779363,30.084986,6.3955226,-22.384508,23.123775,32.117607,-8.011844,-11.111139,-21.742584,-11.629828,0.58484274,-6.147841,-19.27089,-13.238086,1.9887158,32.341236,-21.146534,-14.821887,-4.1746335,-16.862679,-19.167673,-27.668825,10.560522,23.57989,-11.106597,-23.683123,15.718529,-28.308065,21.727442,-25.171549,14.3810005,-32.87757,-6.533544,-15.675023,-16.585508,-29.835644,-32.661915,-36.748245,-14.389032,-25.378172,13.149411,-39.698215,-14.901161,18.72142,18.58917,-6.5417094,-14.276645,-27.902582,8.452541,-7.724509,-21.329344,-28.52876,-20.610323,12.424156,1.7470306,-0.32570183,32.782017,-27.314758,-12.547168,-6.256156,-25.560246,21.139374,-33.40364,27.634846,-34.418728,14.496796,-23.455618,3.6843212,0.6189342,-2.7026494,25.4743,-38.172626,-24.794716,-11.798704,-2.6754837,-9.285209,2.5156112,16.602505,-24.836678,-17.290688,-2.6654131,-33.803783,-24.354763,22.112677,-4.407939,-18.931644,29.147057,-41.866585,28.70105,11.803112,-8.064272,-30.967108,-13.223726,-6.3283124,-9.931967,-15.144461,41.535316,9.4944,7.365655,-3.9932785,-10.750065,-21.093708,-33.222412,-27.059515,-24.099234,-27.208113,-15.868312,-5.8037176,-27.237621,-45.284233,-23.425842,18.091906,28.017906,6.7860374,-15.522131,-14.044616,0.32355297,-18.533224,-6.15832,-13.568734,10.22484,-20.432962,1.6674768,21.35221,-32.808285,-9.730493,-28.34515,-21.65181,-25.965672,4.9143786,-33.38667,-12.709234,-14.272836,18.670898,-8.226298,-19.070126,27.745474,-6.742647,-6.6129174,-7.997816,2.6708221,-10.582994,-11.0878935,-22.81591,-17.688393,3.193721,-7.554584,20.415003,9.358292,10.586788,28.812014,-31.160675,-31.117243,-2.3397026,41.284756,-26.47823,8.207203,19.04548,1.2738193,8.456114,35.35612,24.951502,0.26388657,21.135878,20.602789,25.405361,-17.58026,-22.846003,-36.352818,26.69385,-14.503379,-2.915739,-1.0255647,-3.0143125,14.12911,-9.256522,-19.097126,-31.701359,13.842149,-15.629334,-19.70189,11.859557,-20.940874,-30.475151,-9.566651,-8.462286,7.2444143,-6.484042,-35.486813,9.146583,8.248687,-45.17159,-10.416905,18.879524,18.917727,-2.0066693,-18.403275,1.2167562,18.772009,2.3787115,6.909015,23.884706,-7.249445,-23.663137,13.149643,7.2959704,20.173,-20.886465,15.048765,-19.782976,7.1360726,1.3074104,4.1568503,-17.623522,-10.7066,-10.694039,-29.087147,-35.64853,33.12198,-25.273144,22.951925,-34.64459,-10.050568,-14.300886,-21.980806,10.799187,-4.6652017,28.679049,36.93166,-13.85828,11.836562,-41.195602,-24.516567,-27.542086,40.171387,-11.149456,-21.149994,-15.980814,30.52057,-0.5932966,19.663374,34.124737,-3.539142,-38.120502,34.87794,-3.1281533,-35.715523,-33.320286,14.566167,-37.00007,3.0589073,28.953882,0.98079336,-13.565917,3.5281436,-2.9183707,-28.5389,-18.933455,-0.5539572,-9.385302,13.366406,39.383884,0.33874047,-24.666157,15.689099,-6.074097,29.701365,-20.339184,-40.920757,32.322933,-2.915809,-22.187986,9.444475,-29.062029,-37.63404,-28.042936,-14.7034,-40.641403,-28.192862,0.9229577,-14.51066,6.569618,-2.7579923,-13.325848,23.52562,-1.8889393,-7.199672,19.455338,-1.6121556,-32.43616,25.594435,35.08857,-5.835391,11.560421,12.805927,-15.927691,-6.719413,-27.15767,-27.867136,-6.192822,5.808839,-5.414407,-18.692696,-34.480206,-16.18528,-22.436983,25.14364,1.2034196,15.268805,-24.332409,-17.296394,-30.455503,15.87474,-1.050697,-15.588602,-24.780355,8.267008,-4.9990153,-14.792185,-2.1801455,17.207527,-7.9658275,12.097186,12.257025,25.363031,22.82824,-37.145622,-1.1413978,-6.963641,-24.415428,33.62512,23.697292,33.250996,-1.132707,25.201172,36.316887,-23.005707,-3.0154853,4.052793,-22.798336,6.4808965,-10.218335,18.432396,6.406266,-30.824472,-30.15391,24.100956,26.988747,18.435497,19.828838,22.510063,17.826248,-8.196885,1.5184693,7.8463674,11.210141,-7.2140026,22.783375,31.195696,15.186844,-40.420685,-12.072458,-31.770277,-5.895454,34.48492,-23.948921,4.9020014,4.1336446,11.557437,16.146181,-12.657539,-16.049484,-33.860435,17.031057,15.056856,0.69985414,-8.728614,-36.7995,-0.28034067,-18.188875,-30.01934,27.735409,-29.974909,6.775288,26.94041,-27.68774,-35.11279,20.185064,6.1629057,-32.009945,15.246489,19.501747,3.8856606,32.815712,8.355132,7.560856,22.834332,-7.655508,-18.118013,24.634586,-8.402993,2.3484747,17.401752,-20.798754,30.39777,28.588825,2.3589637,-21.402952,-28.686079,10.14109,3.9722726,18.777834,14.889026,-24.941412,-27.72613,18.505875,-17.692362,8.363968,-5.0667915,28.069252,-19.122334,-11.709523,-3.7872522,-7.288898,37.3996,-3.0441802,1.816296,0.27340502,18.396023,22.710293,-3.7545755,19.22744,44.492504,24.995796,15.76864,6.688224,-0.7371589,-2.1541257,-40.928448,-2.6263978,3.9382548,-5.9978476,-31.15429,11.421029,42.767456,-23.677034,25.248013,41.68177,-2.7358425,11.83999,0.061607454,-26.722904,23.727554,-31.491713,29.134119,-27.160883,2.225018,26.519934,-24.422148,0.6545923,16.426228,34.790234,20.107304,6.6682653,-9.546178,-0.9642534,-5.468921,5.3178124,11.380209,-15.726746,11.99448,18.14576,-35.41756,4.8250294,13.05934,9.370024,-26.922905,2.0941381,-16.203804,5.978783,6.3006935,3.5375047,-27.187138,-3.1623623,4.1923637,-0.10030776,7.8659215,-5.7956376,21.412563,-27.142134,8.442253,27.12423,38.17901,26.92831,34.953102,8.351499,24.299934,-20.835176,3.5993118,19.94659,8.708094,20.611982,24.222183,-11.570869,21.569628,-16.043123,21.00682,-19.01261,14.357059,-19.455711,21.250011,21.05017,21.74123,4.366905,13.3259325,11.598206,-45.31938,31.275652,-24.419037,-19.2729,28.015713,26.966372,16.573675,36.02153,-29.848652,-16.877693,38.9816,-20.297592,1.454974,3.0524876,23.182775,-9.807249,27.091276,-32.173466,-29.216114,-12.631807,-20.906443,-12.5468,-10.114294,-15.250844,16.923317,-23.403849,11.505143,-4.9648223,-20.533175,3.9493241,13.204348,24.36459,-12.853373,1.5828212,13.083828,-15.868247,25.58193,33.019527,18.82586,15.574401,-25.653666,1.3227673,0.5390835,-4.444698,-28.449379,-7.1700215,-21.67273,-33.016296,-18.11588,-20.590141,-4.9634175,-11.377919,-20.498188,-2.666208,-8.709831,23.623768,18.286419,-9.128167,-38.015705,-13.534781,15.376477,8.135469,32.897144,7.6458707,5.2267838,-29.374434,-1.6711401,-27.029577,29.679737,17.01482,10.120964,-42.71934,2.9309165,35.519016,-19.691591,-16.846,24.389574,15.733772,29.920017,-34.165833,-2.7214367,35.632767,-3.5466223,14.9571905,-15.697715,2.2848103,25.971294,-2.981532,28.260447,7.2171597,-20.401127,20.661694,-2.915391,-11.270667,13.158793,10.917366,39.526398,19.115372,0.67984587,6.338591,-3.0410948,11.70768,-12.577192,7.028282,-28.069132,-4.6857486,-18.049387,-1.3858331,-10.096072,41.02544,-26.917067,-36.31828,-7.308893,-22.743477,29.49491,-20.215355,-1.3081778,23.38578,-22.09261,2.9183595,-19.983053,-6.241224,0.7106851,-20.436253,7.411466,7.71554,4.7993927,33.634796,26.813381,-10.496098,-32.984222,-2.0307477,17.643839,18.24814,-11.911497,-25.261166,28.828684,5.009458,-2.3266802],\"type\":\"scatter3d\"}],                        {\"template\":{\"data\":{\"histogram2dcontour\":[{\"type\":\"histogram2dcontour\",\"colorbar\":{\"outlinewidth\":0,\"ticks\":\"\"},\"colorscale\":[[0.0,\"#0d0887\"],[0.1111111111111111,\"#46039f\"],[0.2222222222222222,\"#7201a8\"],[0.3333333333333333,\"#9c179e\"],[0.4444444444444444,\"#bd3786\"],[0.5555555555555556,\"#d8576b\"],[0.6666666666666666,\"#ed7953\"],[0.7777777777777778,\"#fb9f3a\"],[0.8888888888888888,\"#fdca26\"],[1.0,\"#f0f921\"]]}],\"choropleth\":[{\"type\":\"choropleth\",\"colorbar\":{\"outlinewidth\":0,\"ticks\":\"\"}}],\"histogram2d\":[{\"type\":\"histogram2d\",\"colorbar\":{\"outlinewidth\":0,\"ticks\":\"\"},\"colorscale\":[[0.0,\"#0d0887\"],[0.1111111111111111,\"#46039f\"],[0.2222222222222222,\"#7201a8\"],[0.3333333333333333,\"#9c179e\"],[0.4444444444444444,\"#bd3786\"],[0.5555555555555556,\"#d8576b\"],[0.6666666666666666,\"#ed7953\"],[0.7777777777777778,\"#fb9f3a\"],[0.8888888888888888,\"#fdca26\"],[1.0,\"#f0f921\"]]}],\"heatmap\":[{\"type\":\"heatmap\",\"colorbar\":{\"outlinewidth\":0,\"ticks\":\"\"},\"colorscale\":[[0.0,\"#0d0887\"],[0.1111111111111111,\"#46039f\"],[0.2222222222222222,\"#7201a8\"],[0.3333333333333333,\"#9c179e\"],[0.4444444444444444,\"#bd3786\"],[0.5555555555555556,\"#d8576b\"],[0.6666666666666666,\"#ed7953\"],[0.7777777777777778,\"#fb9f3a\"],[0.8888888888888888,\"#fdca26\"],[1.0,\"#f0f921\"]]}],\"heatmapgl\":[{\"type\":\"heatmapgl\",\"colorbar\":{\"outlinewidth\":0,\"ticks\":\"\"},\"colorscale\":[[0.0,\"#0d0887\"],[0.1111111111111111,\"#46039f\"],[0.2222222222222222,\"#7201a8\"],[0.3333333333333333,\"#9c179e\"],[0.4444444444444444,\"#bd3786\"],[0.5555555555555556,\"#d8576b\"],[0.6666666666666666,\"#ed7953\"],[0.7777777777777778,\"#fb9f3a\"],[0.8888888888888888,\"#fdca26\"],[1.0,\"#f0f921\"]]}],\"contourcarpet\":[{\"type\":\"contourcarpet\",\"colorbar\":{\"outlinewidth\":0,\"ticks\":\"\"}}],\"contour\":[{\"type\":\"contour\",\"colorbar\":{\"outlinewidth\":0,\"ticks\":\"\"},\"colorscale\":[[0.0,\"#0d0887\"],[0.1111111111111111,\"#46039f\"],[0.2222222222222222,\"#7201a8\"],[0.3333333333333333,\"#9c179e\"],[0.4444444444444444,\"#bd3786\"],[0.5555555555555556,\"#d8576b\"],[0.6666666666666666,\"#ed7953\"],[0.7777777777777778,\"#fb9f3a\"],[0.8888888888888888,\"#fdca26\"],[1.0,\"#f0f921\"]]}],\"surface\":[{\"type\":\"surface\",\"colorbar\":{\"outlinewidth\":0,\"ticks\":\"\"},\"colorscale\":[[0.0,\"#0d0887\"],[0.1111111111111111,\"#46039f\"],[0.2222222222222222,\"#7201a8\"],[0.3333333333333333,\"#9c179e\"],[0.4444444444444444,\"#bd3786\"],[0.5555555555555556,\"#d8576b\"],[0.6666666666666666,\"#ed7953\"],[0.7777777777777778,\"#fb9f3a\"],[0.8888888888888888,\"#fdca26\"],[1.0,\"#f0f921\"]]}],\"mesh3d\":[{\"type\":\"mesh3d\",\"colorbar\":{\"outlinewidth\":0,\"ticks\":\"\"}}],\"scatter\":[{\"fillpattern\":{\"fillmode\":\"overlay\",\"size\":10,\"solidity\":0.2},\"type\":\"scatter\"}],\"parcoords\":[{\"type\":\"parcoords\",\"line\":{\"colorbar\":{\"outlinewidth\":0,\"ticks\":\"\"}}}],\"scatterpolargl\":[{\"type\":\"scatterpolargl\",\"marker\":{\"colorbar\":{\"outlinewidth\":0,\"ticks\":\"\"}}}],\"bar\":[{\"error_x\":{\"color\":\"#2a3f5f\"},\"error_y\":{\"color\":\"#2a3f5f\"},\"marker\":{\"line\":{\"color\":\"#E5ECF6\",\"width\":0.5},\"pattern\":{\"fillmode\":\"overlay\",\"size\":10,\"solidity\":0.2}},\"type\":\"bar\"}],\"scattergeo\":[{\"type\":\"scattergeo\",\"marker\":{\"colorbar\":{\"outlinewidth\":0,\"ticks\":\"\"}}}],\"scatterpolar\":[{\"type\":\"scatterpolar\",\"marker\":{\"colorbar\":{\"outlinewidth\":0,\"ticks\":\"\"}}}],\"histogram\":[{\"marker\":{\"pattern\":{\"fillmode\":\"overlay\",\"size\":10,\"solidity\":0.2}},\"type\":\"histogram\"}],\"scattergl\":[{\"type\":\"scattergl\",\"marker\":{\"colorbar\":{\"outlinewidth\":0,\"ticks\":\"\"}}}],\"scatter3d\":[{\"type\":\"scatter3d\",\"line\":{\"colorbar\":{\"outlinewidth\":0,\"ticks\":\"\"}},\"marker\":{\"colorbar\":{\"outlinewidth\":0,\"ticks\":\"\"}}}],\"scattermapbox\":[{\"type\":\"scattermapbox\",\"marker\":{\"colorbar\":{\"outlinewidth\":0,\"ticks\":\"\"}}}],\"scatterternary\":[{\"type\":\"scatterternary\",\"marker\":{\"colorbar\":{\"outlinewidth\":0,\"ticks\":\"\"}}}],\"scattercarpet\":[{\"type\":\"scattercarpet\",\"marker\":{\"colorbar\":{\"outlinewidth\":0,\"ticks\":\"\"}}}],\"carpet\":[{\"aaxis\":{\"endlinecolor\":\"#2a3f5f\",\"gridcolor\":\"white\",\"linecolor\":\"white\",\"minorgridcolor\":\"white\",\"startlinecolor\":\"#2a3f5f\"},\"baxis\":{\"endlinecolor\":\"#2a3f5f\",\"gridcolor\":\"white\",\"linecolor\":\"white\",\"minorgridcolor\":\"white\",\"startlinecolor\":\"#2a3f5f\"},\"type\":\"carpet\"}],\"table\":[{\"cells\":{\"fill\":{\"color\":\"#EBF0F8\"},\"line\":{\"color\":\"white\"}},\"header\":{\"fill\":{\"color\":\"#C8D4E3\"},\"line\":{\"color\":\"white\"}},\"type\":\"table\"}],\"barpolar\":[{\"marker\":{\"line\":{\"color\":\"#E5ECF6\",\"width\":0.5},\"pattern\":{\"fillmode\":\"overlay\",\"size\":10,\"solidity\":0.2}},\"type\":\"barpolar\"}],\"pie\":[{\"automargin\":true,\"type\":\"pie\"}]},\"layout\":{\"autotypenumbers\":\"strict\",\"colorway\":[\"#636efa\",\"#EF553B\",\"#00cc96\",\"#ab63fa\",\"#FFA15A\",\"#19d3f3\",\"#FF6692\",\"#B6E880\",\"#FF97FF\",\"#FECB52\"],\"font\":{\"color\":\"#2a3f5f\"},\"hovermode\":\"closest\",\"hoverlabel\":{\"align\":\"left\"},\"paper_bgcolor\":\"white\",\"plot_bgcolor\":\"#E5ECF6\",\"polar\":{\"bgcolor\":\"#E5ECF6\",\"angularaxis\":{\"gridcolor\":\"white\",\"linecolor\":\"white\",\"ticks\":\"\"},\"radialaxis\":{\"gridcolor\":\"white\",\"linecolor\":\"white\",\"ticks\":\"\"}},\"ternary\":{\"bgcolor\":\"#E5ECF6\",\"aaxis\":{\"gridcolor\":\"white\",\"linecolor\":\"white\",\"ticks\":\"\"},\"baxis\":{\"gridcolor\":\"white\",\"linecolor\":\"white\",\"ticks\":\"\"},\"caxis\":{\"gridcolor\":\"white\",\"linecolor\":\"white\",\"ticks\":\"\"}},\"coloraxis\":{\"colorbar\":{\"outlinewidth\":0,\"ticks\":\"\"}},\"colorscale\":{\"sequential\":[[0.0,\"#0d0887\"],[0.1111111111111111,\"#46039f\"],[0.2222222222222222,\"#7201a8\"],[0.3333333333333333,\"#9c179e\"],[0.4444444444444444,\"#bd3786\"],[0.5555555555555556,\"#d8576b\"],[0.6666666666666666,\"#ed7953\"],[0.7777777777777778,\"#fb9f3a\"],[0.8888888888888888,\"#fdca26\"],[1.0,\"#f0f921\"]],\"sequentialminus\":[[0.0,\"#0d0887\"],[0.1111111111111111,\"#46039f\"],[0.2222222222222222,\"#7201a8\"],[0.3333333333333333,\"#9c179e\"],[0.4444444444444444,\"#bd3786\"],[0.5555555555555556,\"#d8576b\"],[0.6666666666666666,\"#ed7953\"],[0.7777777777777778,\"#fb9f3a\"],[0.8888888888888888,\"#fdca26\"],[1.0,\"#f0f921\"]],\"diverging\":[[0,\"#8e0152\"],[0.1,\"#c51b7d\"],[0.2,\"#de77ae\"],[0.3,\"#f1b6da\"],[0.4,\"#fde0ef\"],[0.5,\"#f7f7f7\"],[0.6,\"#e6f5d0\"],[0.7,\"#b8e186\"],[0.8,\"#7fbc41\"],[0.9,\"#4d9221\"],[1,\"#276419\"]]},\"xaxis\":{\"gridcolor\":\"white\",\"linecolor\":\"white\",\"ticks\":\"\",\"title\":{\"standoff\":15},\"zerolinecolor\":\"white\",\"automargin\":true,\"zerolinewidth\":2},\"yaxis\":{\"gridcolor\":\"white\",\"linecolor\":\"white\",\"ticks\":\"\",\"title\":{\"standoff\":15},\"zerolinecolor\":\"white\",\"automargin\":true,\"zerolinewidth\":2},\"scene\":{\"xaxis\":{\"backgroundcolor\":\"#E5ECF6\",\"gridcolor\":\"white\",\"linecolor\":\"white\",\"showbackground\":true,\"ticks\":\"\",\"zerolinecolor\":\"white\",\"gridwidth\":2},\"yaxis\":{\"backgroundcolor\":\"#E5ECF6\",\"gridcolor\":\"white\",\"linecolor\":\"white\",\"showbackground\":true,\"ticks\":\"\",\"zerolinecolor\":\"white\",\"gridwidth\":2},\"zaxis\":{\"backgroundcolor\":\"#E5ECF6\",\"gridcolor\":\"white\",\"linecolor\":\"white\",\"showbackground\":true,\"ticks\":\"\",\"zerolinecolor\":\"white\",\"gridwidth\":2}},\"shapedefaults\":{\"line\":{\"color\":\"#2a3f5f\"}},\"annotationdefaults\":{\"arrowcolor\":\"#2a3f5f\",\"arrowhead\":0,\"arrowwidth\":1},\"geo\":{\"bgcolor\":\"white\",\"landcolor\":\"#E5ECF6\",\"subunitcolor\":\"white\",\"showland\":true,\"showlakes\":true,\"lakecolor\":\"white\"},\"title\":{\"x\":0.05},\"mapbox\":{\"style\":\"light\"}}},\"scene\":{\"domain\":{\"x\":[0.0,1.0],\"y\":[0.0,1.0]},\"xaxis\":{\"title\":{\"text\":\"x\"}},\"yaxis\":{\"title\":{\"text\":\"y\"}},\"zaxis\":{\"title\":{\"text\":\"z\"}}},\"legend\":{\"tracegroupgap\":0},\"margin\":{\"t\":60}},                        {\"responsive\": true}                    ).then(function(){\n",
              "                            \n",
              "var gd = document.getElementById('acca51cf-ece8-4f80-8cae-a80b416ec69e');\n",
              "var x = new MutationObserver(function (mutations, observer) {{\n",
              "        var display = window.getComputedStyle(gd).display;\n",
              "        if (!display || display === 'none') {{\n",
              "            console.log([gd, 'removed!']);\n",
              "            Plotly.purge(gd);\n",
              "            observer.disconnect();\n",
              "        }}\n",
              "}});\n",
              "\n",
              "// Listen for the removal of the full notebook cells\n",
              "var notebookContainer = gd.closest('#notebook-container');\n",
              "if (notebookContainer) {{\n",
              "    x.observe(notebookContainer, {childList: true});\n",
              "}}\n",
              "\n",
              "// Listen for the clearing of the current output cell\n",
              "var outputEl = gd.closest('.output');\n",
              "if (outputEl) {{\n",
              "    x.observe(outputEl, {childList: true});\n",
              "}}\n",
              "\n",
              "                        })                };                            </script>        </div>\n",
              "</body>\n",
              "</html>"
            ]
          },
          "metadata": {}
        }
      ]
    },
    {
      "cell_type": "markdown",
      "source": [
        "## Conclusiones generales"
      ],
      "metadata": {
        "id": "do_hWLujD9MS"
      }
    },
    {
      "cell_type": "markdown",
      "source": [
        "Lo que muestran los gráficos es una representación visual del espacio semántico que el modelo fue capaz de construir a partir de las letras de Eminem. Al reducir la dimensionalidad de los vectores con técnicas como t-SNE, las palabras quedan distribuidas en un plano o en un espacio 3D según las relaciones que el modelo aprendió, y eso permite ver de manera intuitiva cómo se agrupan o se alejan entre sí según su contexto de uso. Lo interesante es que en lugar de un significado universal, lo que aparece es la manera particular en que Eminem conecta esas palabras en sus letras, de modo que los clústeres que se forman reflejan su estilo y los temas más recurrentes en su música. En definitiva, los embeddings no solo sirven para cálculos matemáticos de similitud, sino también para visualizar de una forma clara cómo un corpus específico organiza y da sentido a su propio vocabulario bajo su propio contexto de uso."
      ],
      "metadata": {
        "id": "X7nGw0DOE0yG"
      }
    }
  ]
}