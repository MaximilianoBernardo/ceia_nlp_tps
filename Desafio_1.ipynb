{
  "cells": [
    {
      "cell_type": "markdown",
      "metadata": {
        "id": "3g7xRhEMWizp"
      },
      "source": [
        "# Consigna del desafío 1"
      ]
    },
    {
      "cell_type": "markdown",
      "metadata": {
        "id": "Cz0g7qnrWizr"
      },
      "source": [
        "**1**. Vectorizar documentos. Tomar 5 documentos al azar y medir similaridad con el resto de los documentos.\n",
        "Estudiar los 5 documentos más similares de cada uno analizar si tiene sentido\n",
        "la similaridad según el contenido del texto y la etiqueta de clasificación.\n",
        "\n",
        "**2**. Entrenar modelos de clasificación Naïve Bayes para maximizar el desempeño de clasificación\n",
        "(f1-score macro) en el conjunto de datos de test. Considerar cambiar parámteros\n",
        "de instanciación del vectorizador y los modelos y probar modelos de Naïve Bayes Multinomial\n",
        "y ComplementNB.\n",
        "\n",
        "**3**. Transponer la matriz documento-término. De esa manera se obtiene una matriz\n",
        "término-documento que puede ser interpretada como una colección de vectorización de palabras.\n",
        "Estudiar ahora similaridad entre palabras tomando 5 palabras y estudiando sus 5 más similares. **La elección de palabras no debe ser al azar para evitar la aparición de términos poco interpretables, elegirlas \"manualmente\"**.\n"
      ]
    },
    {
      "cell_type": "markdown",
      "source": [
        "## Importamos librerias"
      ],
      "metadata": {
        "id": "_oj2xKu4XD6K"
      }
    },
    {
      "cell_type": "code",
      "source": [
        "!pip install numpy scikit-learn"
      ],
      "metadata": {
        "colab": {
          "base_uri": "https://localhost:8080/"
        },
        "id": "PpE_tdAHAFyR",
        "outputId": "31303f37-cbf8-4a64-8f46-785af6e9105d"
      },
      "execution_count": 279,
      "outputs": [
        {
          "output_type": "stream",
          "name": "stdout",
          "text": [
            "Requirement already satisfied: numpy in /usr/local/lib/python3.12/dist-packages (1.26.4)\n",
            "Requirement already satisfied: scikit-learn in /usr/local/lib/python3.12/dist-packages (1.6.1)\n",
            "Requirement already satisfied: scipy>=1.6.0 in /usr/local/lib/python3.12/dist-packages (from scikit-learn) (1.13.1)\n",
            "Requirement already satisfied: joblib>=1.2.0 in /usr/local/lib/python3.12/dist-packages (from scikit-learn) (1.5.2)\n",
            "Requirement already satisfied: threadpoolctl>=3.1.0 in /usr/local/lib/python3.12/dist-packages (from scikit-learn) (3.6.0)\n"
          ]
        }
      ]
    },
    {
      "cell_type": "code",
      "execution_count": 280,
      "metadata": {
        "id": "l7cXR6CI30ry"
      },
      "outputs": [],
      "source": [
        "from sklearn.feature_extraction.text import CountVectorizer, TfidfVectorizer\n",
        "from sklearn.metrics.pairwise import cosine_similarity\n",
        "from sklearn.naive_bayes import MultinomialNB, ComplementNB\n",
        "from sklearn.metrics import f1_score\n",
        "\n",
        "# 20newsgroups por ser un dataset clásico de NLP ya viene incluido y formateado\n",
        "# en sklearn\n",
        "from sklearn.datasets import fetch_20newsgroups\n",
        "import numpy as np\n",
        "\n",
        "np.random.seed(42) # Setting a seed for reproducibility"
      ]
    },
    {
      "cell_type": "markdown",
      "metadata": {
        "id": "UxjSI7su_uWI"
      },
      "source": [
        "## 1 Vectorización de documentos"
      ]
    },
    {
      "cell_type": "code",
      "execution_count": 281,
      "metadata": {
        "id": "Ech9qJaUo9vK"
      },
      "outputs": [],
      "source": [
        "# cargamos los datos (ya separados de forma predeterminada en train y test)\n",
        "newsgroups_train = fetch_20newsgroups(subset='train', remove=('headers', 'footers', 'quotes'))\n",
        "newsgroups_test = fetch_20newsgroups(subset='test', remove=('headers', 'footers', 'quotes'))"
      ]
    },
    {
      "cell_type": "markdown",
      "source": [
        "### Se preparan datos de test y de entrenamiento ya vectorizados"
      ],
      "metadata": {
        "id": "PKxvS-LwXPx5"
      }
    },
    {
      "cell_type": "code",
      "execution_count": 282,
      "metadata": {
        "id": "1zxcXV6aC_oL"
      },
      "outputs": [],
      "source": [
        "tfidfvect = TfidfVectorizer(\n",
        "    stop_words=\"english\",  # quitar stopwords en inglés\n",
        "    strip_accents='ascii',  # elimina acentos y caracteres especiales,\n",
        ")\n",
        "\n",
        "# `X_train` la podemos denominar como la matriz documento-término\n",
        "X_train = tfidfvect.fit_transform(newsgroups_train.data)\n",
        "y_train = newsgroups_train.target\n",
        "\n",
        "X_test = tfidfvect.transform(newsgroups_test.data)\n",
        "y_test = newsgroups_test.target\n"
      ]
    },
    {
      "cell_type": "code",
      "execution_count": 283,
      "metadata": {
        "colab": {
          "base_uri": "https://localhost:8080/"
        },
        "id": "4Sv7TXbda41-",
        "outputId": "adccf391-0138-4b69-e372-dee1ce57164b"
      },
      "outputs": [
        {
          "output_type": "stream",
          "name": "stdout",
          "text": [
            "shape: (11314, 101320)\n",
            "Cantidad de documentos: 11314\n",
            "Tamaño del vocabulario (dimensionalidad de los vectores): 101320\n"
          ]
        }
      ],
      "source": [
        "print(f'shape: {X_train.shape}')\n",
        "print(f'Cantidad de documentos: {X_train.shape[0]}')\n",
        "print(f'Tamaño del vocabulario (dimensionalidad de los vectores): {X_train.shape[1]}')"
      ]
    },
    {
      "cell_type": "code",
      "execution_count": 284,
      "metadata": {
        "colab": {
          "base_uri": "https://localhost:8080/"
        },
        "id": "je5kxvQMDLvf",
        "outputId": "f18c974a-a758-4456-8bfd-fdcba8298125"
      },
      "outputs": [
        {
          "output_type": "stream",
          "name": "stdout",
          "text": [
            "clases [ 0  1  2  3  4  5  6  7  8  9 10 11 12 13 14 15 16 17 18 19]\n"
          ]
        },
        {
          "output_type": "execute_result",
          "data": {
            "text/plain": [
              "['alt.atheism',\n",
              " 'comp.graphics',\n",
              " 'comp.os.ms-windows.misc',\n",
              " 'comp.sys.ibm.pc.hardware',\n",
              " 'comp.sys.mac.hardware',\n",
              " 'comp.windows.x',\n",
              " 'misc.forsale',\n",
              " 'rec.autos',\n",
              " 'rec.motorcycles',\n",
              " 'rec.sport.baseball',\n",
              " 'rec.sport.hockey',\n",
              " 'sci.crypt',\n",
              " 'sci.electronics',\n",
              " 'sci.med',\n",
              " 'sci.space',\n",
              " 'soc.religion.christian',\n",
              " 'talk.politics.guns',\n",
              " 'talk.politics.mideast',\n",
              " 'talk.politics.misc',\n",
              " 'talk.religion.misc']"
            ]
          },
          "metadata": {},
          "execution_count": 284
        }
      ],
      "source": [
        "# hay 20 clases correspondientes a los 20 grupos de noticias\n",
        "print(f'clases {np.unique(newsgroups_test.target)}')\n",
        "newsgroups_test.target_names"
      ]
    },
    {
      "cell_type": "markdown",
      "source": [
        "### Selecciono 5 indices random entre 0 y X_train.shape[0]"
      ],
      "metadata": {
        "id": "JqjLyb2GXe3x"
      }
    },
    {
      "cell_type": "code",
      "source": [
        "idx_to_compare = np.random.randint(0, X_train.shape[0], 5)\n",
        "print(idx_to_compare)"
      ],
      "metadata": {
        "colab": {
          "base_uri": "https://localhost:8080/"
        },
        "id": "VPjT3k2pB10a",
        "outputId": "58804c11-ea56-4e08-9c69-b5104a1a0cc7"
      },
      "execution_count": 285,
      "outputs": [
        {
          "output_type": "stream",
          "name": "stdout",
          "text": [
            "[ 7270   860  5390  5191 11284]\n"
          ]
        }
      ]
    },
    {
      "cell_type": "code",
      "execution_count": 286,
      "metadata": {
        "colab": {
          "base_uri": "https://localhost:8080/"
        },
        "id": "_pki_olShnyE",
        "outputId": "bbf58c31-0c40-4e50-a920-cd0eb44b5e43"
      },
      "outputs": [
        {
          "output_type": "stream",
          "name": "stdout",
          "text": [
            "\n",
            "I think Murray has done a great job.  He's picked up Ciccarelli,\n",
            "Sheppard, Ysebaert, Howe, Coffey, and Riendeau (plus some depth players) \n",
            "without giving up anything the Wings needed or any of his top prospects.\n",
            "All of this in three years.  Has anyone done better?\n",
            "\n",
            "The year before he took over, the Wings didn't even make the playoffs.\n",
            "There was about a year and a half during Demers' stint that the Wings\n",
            "did OK, but that was due to Demers' motavational skills and clutch\n",
            "and grab style.  They didn't have much talent.\n",
            "\n",
            "Gerald, Murray wasn't responsible for Primeau (although I'm not\n",
            "ready to admit that's a horrible pick).  They hired him after the\n",
            "draft (which has never made sense to me).  His first pick was\n",
            "Lapointe.\n",
            "\n",
            "Ron \n",
            "------------------------\n",
            "\n",
            "\n",
            "\n",
            "This is an interesting question to ponder.  Did Brad/Ali's sickness\n",
            "make Ayatollah-style Islam attractive to him or did this new religion \n",
            "that Brad/Ali has formally adopted give him this sickness?\n",
            "\n",
            "------------------------\n",
            "\n",
            "\n",
            "Specifically, which changes are you talking about?  Are you arguing\n",
            "that the motto is interpreted as offensive by a larger portion of the\n",
            "population now than 40 years ago?\n",
            "------------------------\n",
            "\n",
            "No one should EVER rely on just a magazine to determine what car they\n",
            "buy, I don't care what magazine. Btw, I subscribe to three other \n",
            "auto rags, I just think CU is getting a bum rap by these macho men\n",
            "from hell who think real men should read . . . .\n",
            "\n",
            "Statements like what you said above have no meaning. People keep on\n",
            "saying \"CU is only good for dishwashing detergent\" or as you\n",
            "all they say. \n",
            "\n",
            "If there were as critical of themsevles as they are of CU maybe there\n",
            "would be some real content.\n",
            "\n",
            "john\n",
            "\n",
            "\n",
            "\n",
            "------------------------\n",
            "\n",
            "And they're more like 1024x1024x8 charging & discharging capacitors in a DRAM\n",
            "SIMM =-)\n",
            "------------------------\n"
          ]
        }
      ],
      "source": [
        "# revisamos los documentos elegidos\n",
        "for idx in idx_to_compare:\n",
        "    print(newsgroups_train.data[idx])\n",
        "    print(\"------------------------\")"
      ]
    },
    {
      "cell_type": "markdown",
      "metadata": {
        "id": "SXCICFSd_y90"
      },
      "source": [
        "### Similaridad de documentos"
      ]
    },
    {
      "cell_type": "code",
      "execution_count": 287,
      "metadata": {
        "id": "Ssa9bqJ-hA_v"
      },
      "outputs": [],
      "source": [
        "cossin_by_idx = {}\n",
        "# midamos la similaridad coseno con todos los documentos de train\n",
        "for idx in idx_to_compare:\n",
        "    cossin_by_idx[idx] = {\n",
        "                          'value':np.sort(cosine_similarity(X_train[idx], X_train)[0])[::-1],\n",
        "                          'idx':np.argsort(cosine_similarity(X_train[idx], X_train)[0])[::-1]\n",
        "                          }"
      ]
    },
    {
      "cell_type": "code",
      "execution_count": 288,
      "metadata": {
        "id": "hP7qLS4ZBLps",
        "colab": {
          "base_uri": "https://localhost:8080/"
        },
        "outputId": "cf268c32-9517-4e8e-c572-a0a510169558"
      },
      "outputs": [
        {
          "output_type": "stream",
          "name": "stdout",
          "text": [
            "Documento 7270 -- Clase rec.sport.hockey\n",
            "--Similitud coseno de los 5 mas similares [0.19859162 0.19737357 0.18785384 0.16566917 0.16552367]\n",
            "--Indices de los 5 mas similares [11294  9410  9756  3463  2852]\n",
            "--clases de los 5 mas similares ['rec.sport.hockey', 'rec.sport.hockey', 'rec.sport.hockey', 'rec.sport.hockey', 'rec.sport.hockey']\n",
            "\n",
            "Documento 860 -- Clase talk.politics.mideast\n",
            "--Similitud coseno de los 5 mas similares [0.18795448 0.1622525  0.15750032 0.15624314 0.15564764]\n",
            "--Indices de los 5 mas similares [5825 2551  899 7714 6920]\n",
            "--clases de los 5 mas similares ['talk.politics.mideast', 'sci.crypt', 'talk.politics.mideast', 'comp.windows.x', 'talk.politics.mideast']\n",
            "\n",
            "Documento 5390 -- Clase alt.atheism\n",
            "--Similitud coseno de los 5 mas similares [0.23739186 0.19208811 0.1500076  0.14766618 0.1460887 ]\n",
            "--Indices de los 5 mas similares [   20 10254  3845  1137  6376]\n",
            "--clases de los 5 mas similares ['alt.atheism', 'alt.atheism', 'alt.atheism', 'alt.atheism', 'alt.atheism']\n",
            "\n",
            "Documento 5191 -- Clase rec.autos\n",
            "--Similitud coseno de los 5 mas similares [0.16424934 0.13391607 0.13097137 0.12968394 0.12959568]\n",
            "--Indices de los 5 mas similares [9416 1941 8714 5009 2554]\n",
            "--clases de los 5 mas similares ['rec.autos', 'talk.politics.misc', 'soc.religion.christian', 'comp.sys.mac.hardware', 'rec.autos']\n",
            "\n",
            "Documento 11284 -- Clase comp.sys.mac.hardware\n",
            "--Similitud coseno de los 5 mas similares [0.2524878  0.21583758 0.203511   0.19015153 0.17143438]\n",
            "--Indices de los 5 mas similares [7793 4651 9892 3080 1079]\n",
            "--clases de los 5 mas similares ['comp.sys.mac.hardware', 'sci.electronics', 'comp.sys.mac.hardware', 'comp.sys.ibm.pc.hardware', 'rec.motorcycles']\n",
            "\n"
          ]
        }
      ],
      "source": [
        "for idx in idx_to_compare:\n",
        "    print(f'Documento {idx} -- Clase {newsgroups_train.target_names[y_train[idx]]}')\n",
        "    print(f\"--Similitud coseno de los 5 mas similares {cossin_by_idx[idx]['value'][1:6]}\")\n",
        "    print(f\"--Indices de los 5 mas similares {cossin_by_idx[idx]['idx'][1:6]}\")\n",
        "    print(f\"--clases de los 5 mas similares {[newsgroups_train.target_names[y_train[i]]  for i in cossin_by_idx[idx]['idx'][1:6]]}\\n\")"
      ]
    },
    {
      "cell_type": "markdown",
      "source": [
        "### Conclusión\n",
        "\n",
        "Tras aplicar limpieza de texto y filtros en los datos (eliminación de stopwords, conversión a minúsculas( automatico por TfidfVectorizer) y eliminando acentos/ caracteres especiales), se observa que los documentos tienden a agruparse de manera más coherente con su categoría original. Por ejemplo, los cinco vecinos más similares de los documentos de rec.sport.hockey y alt.atheism pertenecen todos a la misma clase, lo que evidencia una mejor representación temática. Aunque en algunos casos aparecen vecinos de otras categorías, la limpieza del texto ayuda a que la similitud coseno refleje de manera más precisa la relación entre documentos de la misma temática."
      ],
      "metadata": {
        "id": "uO9OOzVsR7qn"
      }
    },
    {
      "cell_type": "markdown",
      "metadata": {
        "id": "zRoNnKwhBqzq"
      },
      "source": [
        "## 2 Modelo de clasificación Naïve Bayes"
      ]
    },
    {
      "cell_type": "markdown",
      "source": [],
      "metadata": {
        "id": "CLl0cE2EYpzR"
      }
    },
    {
      "cell_type": "markdown",
      "source": [
        "#### MultinomialNB"
      ],
      "metadata": {
        "id": "7rx0-kkMYq7k"
      }
    },
    {
      "cell_type": "code",
      "execution_count": 289,
      "metadata": {
        "id": "NrQjzM48Mu4T"
      },
      "outputs": [],
      "source": [
        "clf = MultinomialNB()\n",
        "\n",
        "clf.fit(X_train, y_train)\n",
        "\n",
        "y_pred =  clf.predict(X_test)"
      ]
    },
    {
      "cell_type": "code",
      "execution_count": 290,
      "metadata": {
        "colab": {
          "base_uri": "https://localhost:8080/"
        },
        "id": "UkGJhetEPdA4",
        "outputId": "463e12f2-a71c-4940-8935-53ed50738a1b"
      },
      "outputs": [
        {
          "output_type": "execute_result",
          "data": {
            "text/plain": [
              "0.6467991505900852"
            ]
          },
          "metadata": {},
          "execution_count": 290
        }
      ],
      "source": [
        "# el F1-score es una metrica adecuada para reportar desempeño de modelos de claificación\n",
        "# es robusta al desbalance de clases. El promediado 'macro' es el promedio de los\n",
        "# F1-score de cada clase. El promedio 'micro' es equivalente a la accuracy que no\n",
        "# es una buena métrica cuando los datasets son desbalanceados\n",
        "f1_score(y_test, y_pred, average='macro')"
      ]
    },
    {
      "cell_type": "markdown",
      "source": [
        "#### ComplementNB"
      ],
      "metadata": {
        "id": "30UKCh-WYtzS"
      }
    },
    {
      "cell_type": "code",
      "source": [
        " clf_complement = ComplementNB()\n",
        "\n",
        " clf_complement.fit(X_train, y_train)\n",
        "\n",
        " y_pred_complement = clf_complement.predict(X_test)"
      ],
      "metadata": {
        "id": "u5jEMO7KRVyD"
      },
      "execution_count": 291,
      "outputs": []
    },
    {
      "cell_type": "code",
      "source": [
        "f1_score(y_test, y_pred_complement, average='macro')"
      ],
      "metadata": {
        "colab": {
          "base_uri": "https://localhost:8080/"
        },
        "id": "lf2zg9sbRkef",
        "outputId": "27588a11-b2a3-4a41-c2b8-f34558310811"
      },
      "execution_count": 292,
      "outputs": [
        {
          "output_type": "execute_result",
          "data": {
            "text/plain": [
              "0.6936107849650025"
            ]
          },
          "metadata": {},
          "execution_count": 292
        }
      ]
    },
    {
      "cell_type": "markdown",
      "source": [
        "## 3 Matriz término-documento"
      ],
      "metadata": {
        "id": "dS1RzY6hYzOg"
      }
    },
    {
      "cell_type": "code",
      "source": [
        "X_train_T = X_train.T\n",
        "print(f'Shape transpuesta: {X_train_T.shape}')  # Ahora filas = términos, columnas = documentos"
      ],
      "metadata": {
        "colab": {
          "base_uri": "https://localhost:8080/"
        },
        "id": "pSXgUDfmTaUo",
        "outputId": "b15ae7b9-c545-444e-c53d-34bc119d3344"
      },
      "execution_count": 293,
      "outputs": [
        {
          "output_type": "stream",
          "name": "stdout",
          "text": [
            "Shape transpuesta: (101320, 11314)\n"
          ]
        }
      ]
    },
    {
      "cell_type": "code",
      "source": [
        "words_to_compare = [\"hockey\", \"game\", \"computer\", \"space\", \"god\"]\n",
        "\n",
        "word_indices = [tfidfvect.vocabulary_[w] for w in words_to_compare]"
      ],
      "metadata": {
        "id": "HGCCdkx6TeRM"
      },
      "execution_count": 294,
      "outputs": []
    },
    {
      "cell_type": "code",
      "execution_count": 295,
      "metadata": {
        "id": "xnTSZuvyrTcP"
      },
      "outputs": [],
      "source": [
        "# es muy útil tener el diccionario opuesto que va de índices a términos\n",
        "idx2word = {v: k for k,v in tfidfvect.vocabulary_.items()}"
      ]
    },
    {
      "cell_type": "code",
      "source": [
        "cossin_by_word = {}\n",
        "\n",
        "for idx, word in zip(word_indices, words_to_compare):\n",
        "    # vector de la palabra\n",
        "    vec = X_train_T[idx]\n",
        "    # similitud coseno con todas las palabras\n",
        "    sim = cosine_similarity(vec, X_train_T)[0]\n",
        "    # orden descendente\n",
        "    sorted_idx = np.argsort(sim)[::-1]\n",
        "    sorted_val = np.sort(sim)[::-1]\n",
        "\n",
        "    cossin_by_word[word] = {\n",
        "        \"value\": sorted_val[1:6],   # omitimos la palabra misma\n",
        "        \"idx\": sorted_idx[1:6]\n",
        "    }\n",
        "\n",
        "# Mostrar resultados\n",
        "for word in words_to_compare:\n",
        "    similar_words = [idx2word[i] for i in cossin_by_word[word][\"idx\"]]\n",
        "    print(f\"Palabra: {word}\")\n",
        "    print(f\"-- Similitud coseno con las 5 más similares: {cossin_by_word[word]['value']}\")\n",
        "    print(f\"-- Palabras más similares: {similar_words}\\n\")"
      ],
      "metadata": {
        "colab": {
          "base_uri": "https://localhost:8080/"
        },
        "id": "CzgYaflSThDx",
        "outputId": "27ad76a1-54e8-4bba-ac57-b1bf88778a0f"
      },
      "execution_count": 296,
      "outputs": [
        {
          "output_type": "stream",
          "name": "stdout",
          "text": [
            "Palabra: hockey\n",
            "-- Similitud coseno con las 5 más similares: [0.27239818 0.26742755 0.24160446 0.23577144 0.21826898]\n",
            "-- Palabras más similares: ['ncaa', 'nhl', 'affiliates', 'xenophobes', 'sportschannel']\n",
            "\n",
            "Palabra: game\n",
            "-- Similitud coseno con las 5 más similares: [0.21447335 0.19187035 0.18366852 0.18007694 0.17360628]\n",
            "-- Palabras más similares: ['games', 'espn', 'team', 'hockey', 'scored']\n",
            "\n",
            "Palabra: computer\n",
            "-- Similitud coseno con las 5 más similares: [0.15792817 0.1531366  0.1531366  0.14207635 0.13664679]\n",
            "-- Palabras más similares: ['decwriter', 'deluged', 'harkens', 'shopper', 'delicate']\n",
            "\n",
            "Palabra: space\n",
            "-- Similitud coseno con las 5 más similares: [0.32793997 0.2902489  0.28490722 0.26941108 0.23983273]\n",
            "-- Palabras más similares: ['nasa', 'shuttle', 'seds', 'enfant', 'exploration']\n",
            "\n",
            "Palabra: god\n",
            "-- Similitud coseno con las 5 más similares: [0.28062614 0.27638988 0.266832   0.25928054 0.2588725 ]\n",
            "-- Palabras más similares: ['jesus', 'bible', 'christ', 'faith', 'existence']\n",
            "\n"
          ]
        }
      ]
    },
    {
      "cell_type": "markdown",
      "source": [
        "### Conclusión\n",
        "\n",
        "Al analizar la similitud coseno entre palabras a partir de la matriz término-documento, se observa que las palabras elegidas tienden a agruparse con términos relacionados temáticamente. Por ejemplo, hockey aparece cercano a ncaa y nhl, game a games y team, space a nasa y shuttle, y god a jesus y bible. Esto indica que la vectorización TF-IDF logra capturar asociaciones semánticas entre palabras, reflejando la relación de términos dentro de los documentos del corpus. Algunas palabras, como computer, muestran vecinos menos intuitivos, lo que sugiere que para términos más raros o menos frecuentes, la similitud puede ser menos interpretativa."
      ],
      "metadata": {
        "id": "wcx-bgOVT-uA"
      }
    },
    {
      "cell_type": "code",
      "source": [],
      "metadata": {
        "id": "5aj2V3waY_aY"
      },
      "execution_count": 296,
      "outputs": []
    }
  ],
  "metadata": {
    "colab": {
      "provenance": [],
      "toc_visible": true
    },
    "kernelspec": {
      "display_name": "env",
      "language": "python",
      "name": "python3"
    },
    "language_info": {
      "codemirror_mode": {
        "name": "ipython",
        "version": 3
      },
      "file_extension": ".py",
      "mimetype": "text/x-python",
      "name": "python",
      "nbconvert_exporter": "python",
      "pygments_lexer": "ipython3",
      "version": "3.13.3"
    }
  },
  "nbformat": 4,
  "nbformat_minor": 0
}