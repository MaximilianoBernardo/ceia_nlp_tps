{
  "nbformat": 4,
  "nbformat_minor": 0,
  "metadata": {
    "colab": {
      "provenance": [],
      "collapsed_sections": [
        "deXzCmu_QjM_"
      ],
      "gpuType": "T4",
      "toc_visible": true
    },
    "kernelspec": {
      "name": "python3",
      "display_name": "Python 3"
    },
    "language_info": {
      "name": "python"
    },
    "accelerator": "GPU"
  },
  "cells": [
    {
      "cell_type": "markdown",
      "source": [
        "# Consigna del desafío 4"
      ],
      "metadata": {
        "id": "f7sa3VeL_13m"
      }
    },
    {
      "cell_type": "markdown",
      "source": [
        "Replicar y extender el traductor:\n",
        "- Replicar el modelo en PyTorch.\n",
        "- Extender el entrenamiento a más datos y tamaños de\n",
        "secuencias mayores.\n",
        "- Explorar el impacto de la cantidad de neuronas en\n",
        "las capas recurrentes.\n",
        "- Mostrar 5 ejemplos de traducciones generadas.\n",
        "- Extras que se pueden probar: Embeddings\n",
        "pre-entrenados para los dos idiomas; cambiar la\n",
        "estrategia de generación (por ejemplo muestreo\n",
        "aleatorio);"
      ],
      "metadata": {
        "id": "i-XGDG-1_xVX"
      }
    },
    {
      "cell_type": "markdown",
      "source": [
        "## Importamos librerias"
      ],
      "metadata": {
        "id": "QFEzVb0MALlt"
      }
    },
    {
      "cell_type": "code",
      "source": [
        "!pip install --upgrade --no-cache-dir gdown --quiet\n",
        "# torchsummar actualmente tiene un problema con las LSTM, por eso\n",
        "# se utiliza torchinfo, un fork del proyecto original con el bug solucionado\n",
        "!pip3 install torchinfo\n",
        "!pip install \"numpy<2.0\""
      ],
      "metadata": {
        "id": "p0xZvMyn_k3d",
        "outputId": "ec9c899d-b035-4fe8-f78d-9b3fe8baa0b7",
        "colab": {
          "base_uri": "https://localhost:8080/"
        }
      },
      "execution_count": 1,
      "outputs": [
        {
          "output_type": "stream",
          "name": "stdout",
          "text": [
            "Requirement already satisfied: torchinfo in /usr/local/lib/python3.12/dist-packages (1.8.0)\n",
            "Requirement already satisfied: numpy<2.0 in /usr/local/lib/python3.12/dist-packages (1.26.4)\n"
          ]
        }
      ]
    },
    {
      "cell_type": "code",
      "source": [
        "import re\n",
        "import os\n",
        "import gdown\n",
        "import platform\n",
        "\n",
        "import logging\n",
        "import pickle\n",
        "import numpy as np\n",
        "import pandas as pd\n",
        "import matplotlib.pyplot as plt\n",
        "import seaborn as sns\n",
        "\n",
        "import torch\n",
        "import torch.nn.functional as F\n",
        "import torch.nn as nn\n",
        "from torch.utils.data import Dataset, DataLoader\n",
        "from torchinfo import summary\n",
        "from pathlib import Path\n",
        "from io import StringIO\n",
        "\n"
      ],
      "metadata": {
        "id": "658pOY2H3qnl"
      },
      "execution_count": 2,
      "outputs": []
    },
    {
      "cell_type": "code",
      "source": [
        "cuda = torch.cuda.is_available()\n",
        "device = torch.device('cuda' if torch.cuda.is_available() else 'cpu')\n",
        "device"
      ],
      "metadata": {
        "id": "hQxi1iWZAyHz",
        "outputId": "956e6a85-c6a8-4272-ae7c-b7bb72591ca3",
        "colab": {
          "base_uri": "https://localhost:8080/"
        }
      },
      "execution_count": 3,
      "outputs": [
        {
          "output_type": "execute_result",
          "data": {
            "text/plain": [
              "device(type='cuda')"
            ]
          },
          "metadata": {},
          "execution_count": 3
        }
      ]
    },
    {
      "cell_type": "markdown",
      "source": [
        "## Importamos el dataset"
      ],
      "metadata": {
        "id": "deXzCmu_QjM_"
      }
    },
    {
      "cell_type": "code",
      "source": [
        "# Descargar la carpeta de dataset\n",
        "#Dataset obtenido del repositorio de “Anki / ManyThings” (el proyecto “manythings.org”)\n",
        "if os.access('spa-eng', os.F_OK) is False:\n",
        "    if os.access('simpsons_dataset.zip', os.F_OK) is False:\n",
        "        url = 'http://storage.googleapis.com/download.tensorflow.org/data/spa-eng.zip'\n",
        "        output = 'spa-eng.zip'\n",
        "        gdown.download(url, output, quiet=False)\n",
        "    !unzip -q spa-eng.zip\n",
        "else:\n",
        "    print(\"El dataset ya se encuentra descargado\")"
      ],
      "metadata": {
        "id": "Hpg5wZUTBaaL",
        "outputId": "39beb9fc-23fc-4cac-80b0-067c8d10c49c",
        "colab": {
          "base_uri": "https://localhost:8080/"
        }
      },
      "execution_count": 15,
      "outputs": [
        {
          "output_type": "stream",
          "name": "stderr",
          "text": [
            "Downloading...\n",
            "From: http://storage.googleapis.com/download.tensorflow.org/data/spa-eng.zip\n",
            "To: /content/spa-eng.zip\n",
            "100%|██████████| 2.64M/2.64M [00:00<00:00, 358MB/s]\n"
          ]
        }
      ]
    },
    {
      "cell_type": "code",
      "execution_count": 16,
      "metadata": {
        "id": "WkrLBJlB3MZ6"
      },
      "outputs": [],
      "source": [
        "# Descargamos funciones auxiliares\n",
        "if os.access('torch_helpers.py', os.F_OK) is False:\n",
        "    if platform.system() == 'Windows':\n",
        "        !curl !wget https://raw.githubusercontent.com/FIUBA-Posgrado-Inteligencia-Artificial/procesamiento_lenguaje_natural/main/scripts/torch_helpers.py > torch_helpers.py\n",
        "    else:\n",
        "        !wget torch_helpers.py https://raw.githubusercontent.com/FIUBA-Posgrado-Inteligencia-Artificial/procesamiento_lenguaje_natural/main/scripts/torch_helpers.py\n",
        "\n",
        "from torch_helpers import Tokenizer, pad_sequences"
      ]
    },
    {
      "cell_type": "markdown",
      "source": [
        "### Definimos funciones auxiliares"
      ],
      "metadata": {
        "id": "ORyUq-XsBvhJ"
      }
    },
    {
      "cell_type": "code",
      "source": [
        "def sequence_acc(y_pred, y_test):\n",
        "    y_pred_tag = y_pred.data.max(dim=-1,keepdim=True)[1]\n",
        "    y_test_tag = y_test.data.max(dim=-1,keepdim=True)[1]\n",
        "\n",
        "    batch_size = y_pred_tag.shape[0]\n",
        "    batch_acc = torch.zeros(batch_size)\n",
        "    for b in range(batch_size):\n",
        "        correct_results_sum = (y_pred_tag[b] == y_test_tag[b]).sum().float()\n",
        "        batch_acc[b] = correct_results_sum / y_pred_tag[b].shape[0]\n",
        "\n",
        "    correct_results_sum = batch_acc.sum().float()\n",
        "    acc = correct_results_sum / batch_size\n",
        "    return acc\n",
        "\n",
        "def train(model, train_loader, valid_loader, optimizer, criterion, epochs=100):\n",
        "    # Defino listas para realizar graficas de los resultados\n",
        "    train_loss = []\n",
        "    train_accuracy = []\n",
        "    valid_loss = []\n",
        "    valid_accuracy = []\n",
        "\n",
        "    # Defino mi loop de entrenamiento\n",
        "\n",
        "    for epoch in range(epochs):\n",
        "\n",
        "        epoch_train_loss = 0.0\n",
        "        epoch_train_accuracy = 0.0\n",
        "\n",
        "        for train_encoder_input, train_decoder_input, train_target in train_loader:\n",
        "            # Seteo los gradientes en cero ya que, por defecto, PyTorch\n",
        "            # los va acumulando\n",
        "            optimizer.zero_grad()\n",
        "\n",
        "            output = model(train_encoder_input.to(device), train_decoder_input.to(device))\n",
        "\n",
        "            # Computo el error de la salida comparando contra las etiquetas\n",
        "            # por cada token en cada batch (sequence_loss)\n",
        "            loss = 0\n",
        "            for t in range(train_decoder_input.shape[1]):\n",
        "                loss += criterion(output[:, t, :], train_target[:, t, :])\n",
        "\n",
        "            # Almaceno el error del batch para luego tener el error promedio de la epoca\n",
        "            epoch_train_loss += loss.item()\n",
        "\n",
        "            # Computo el nuevo set de gradientes a lo largo de toda la red\n",
        "            loss.backward()\n",
        "\n",
        "            # Realizo el paso de optimizacion actualizando los parametros de toda la red\n",
        "            optimizer.step()\n",
        "\n",
        "            # Calculo el accuracy del batch\n",
        "            accuracy = sequence_acc(output, train_target)\n",
        "            # Almaceno el accuracy del batch para luego tener el accuracy promedio de la epoca\n",
        "            epoch_train_accuracy += accuracy.item()\n",
        "\n",
        "        # Calculo la media de error para la epoca de entrenamiento.\n",
        "        # La longitud de train_loader es igual a la cantidad de batches dentro de una epoca.\n",
        "        epoch_train_loss = epoch_train_loss / len(train_loader)\n",
        "        train_loss.append(epoch_train_loss)\n",
        "        epoch_train_accuracy = epoch_train_accuracy / len(train_loader)\n",
        "        train_accuracy.append(epoch_train_accuracy)\n",
        "\n",
        "        # Realizo el paso de validación computando error y accuracy, y\n",
        "        # almacenando los valores para imprimirlos y graficarlos\n",
        "        valid_encoder_input, valid_decoder_input, valid_target = next(iter(valid_loader))\n",
        "        output = model(valid_encoder_input.to(device), valid_decoder_input.to(device))\n",
        "\n",
        "        epoch_valid_loss = 0\n",
        "        for t in range(train_decoder_input.shape[1]):\n",
        "                epoch_valid_loss += criterion(output[:, t, :], valid_target[:, t, :])\n",
        "        epoch_valid_loss = epoch_valid_loss.item()\n",
        "\n",
        "        valid_loss.append(epoch_valid_loss)\n",
        "\n",
        "        # Calculo el accuracy de la epoch\n",
        "        epoch_valid_accuracy = sequence_acc(output, valid_target).item()\n",
        "        valid_accuracy.append(epoch_valid_accuracy)\n",
        "\n",
        "        print(f\"Epoch: {epoch+1}/{epochs} - Train loss {epoch_train_loss:.3f} - Train accuracy {epoch_train_accuracy:.3f} - Valid Loss {epoch_valid_loss:.3f} - Valid accuracy {epoch_valid_accuracy:.3f}\")\n",
        "\n",
        "    history = {\n",
        "        \"loss\": train_loss,\n",
        "        \"accuracy\": train_accuracy,\n",
        "        \"val_loss\": valid_loss,\n",
        "        \"val_accuracy\": valid_accuracy,\n",
        "    }\n",
        "    return history"
      ],
      "metadata": {
        "id": "pjjUeSeeBWfr"
      },
      "execution_count": 17,
      "outputs": []
    },
    {
      "cell_type": "markdown",
      "source": [
        "## Preparamos los datos de entrada"
      ],
      "metadata": {
        "id": "v6sWR8erQtLP"
      }
    },
    {
      "cell_type": "code",
      "source": [
        "# dataset_file\n",
        "\n",
        "text_file = \"./spa-eng/spa.txt\"\n",
        "with open(text_file) as f:\n",
        "    lines = f.read().split(\"\\n\")[:-1]\n",
        "\n",
        "# Por limitaciones de RAM no se leen todas las filas\n",
        "MAX_NUM_SENTENCES = 7000\n",
        "\n",
        "# Mezclar el dataset, forzar semilla siempre igual\n",
        "np.random.seed([40])\n",
        "np.random.shuffle(lines)\n",
        "\n",
        "input_sentences = []\n",
        "output_sentences = []\n",
        "output_sentences_inputs = []\n",
        "count = 0\n",
        "\n",
        "for line in lines:\n",
        "    count += 1\n",
        "    if count > MAX_NUM_SENTENCES:\n",
        "        break\n",
        "\n",
        "    if '\\t' not in line:\n",
        "        continue\n",
        "\n",
        "    # Input sentence --> eng\n",
        "    # output --> fra\n",
        "    input_sentence, output = line.rstrip().split('\\t')\n",
        "\n",
        "    # output sentence (decoder_output) tiene <eos>\n",
        "    output_sentence = output + ' <eos>'\n",
        "    # output sentence input (decoder_input) tiene <sos>\n",
        "    output_sentence_input = '<sos> ' + output\n",
        "\n",
        "    input_sentences.append(input_sentence)\n",
        "    output_sentences.append(output_sentence)\n",
        "    output_sentences_inputs.append(output_sentence_input)\n",
        "\n",
        "print(\"Cantidad de rows disponibles:\", len(lines))\n",
        "print(\"Cantidad de rows utilizadas:\", len(input_sentences))"
      ],
      "metadata": {
        "id": "B_d5CMdOB_Nx",
        "outputId": "6e3ba1d9-ac1c-4c03-9381-0c58a0d8ae56",
        "colab": {
          "base_uri": "https://localhost:8080/"
        }
      },
      "execution_count": 19,
      "outputs": [
        {
          "output_type": "stream",
          "name": "stdout",
          "text": [
            "Cantidad de rows disponibles: 118964\n",
            "Cantidad de rows utilizadas: 7000\n"
          ]
        }
      ]
    },
    {
      "cell_type": "code",
      "source": [
        "input_sentences[0], output_sentences[0], output_sentences_inputs[0]"
      ],
      "metadata": {
        "id": "G1GLBYwK3Zls",
        "outputId": "d7afd706-f830-4d53-e9c6-76d2736a7d74",
        "colab": {
          "base_uri": "https://localhost:8080/"
        }
      },
      "execution_count": 20,
      "outputs": [
        {
          "output_type": "execute_result",
          "data": {
            "text/plain": [
              "('A deal is a deal.',\n",
              " 'Un trato es un trato. <eos>',\n",
              " '<sos> Un trato es un trato.')"
            ]
          },
          "metadata": {},
          "execution_count": 20
        }
      ]
    },
    {
      "cell_type": "code",
      "source": [
        "# Definir el tamaño máximo del vocabulario\n",
        "MAX_VOCAB_SIZE = 8000"
      ],
      "metadata": {
        "id": "TYTbyMd2CzVi"
      },
      "execution_count": 21,
      "outputs": []
    },
    {
      "cell_type": "code",
      "source": [
        "# Tokenizar las palabras con el Tokenizer de Keras\n",
        "# Definir una máxima cantidad de palabras a utilizar:\n",
        "# - num_words --> the maximum number of words to keep, based on word frequency.\n",
        "# - Only the most common num_words-1 words will be kept.\n",
        "input_tokenizer = Tokenizer(num_words=MAX_VOCAB_SIZE)\n",
        "input_tokenizer.fit_on_texts(input_sentences)\n",
        "input_integer_seq = input_tokenizer.texts_to_sequences(input_sentences)\n",
        "\n",
        "word2idx_inputs = input_tokenizer.word_index\n",
        "print(\"Palabras en el vocabulario:\", len(word2idx_inputs))\n",
        "\n",
        "max_input_len = max(len(sen) for sen in input_integer_seq)\n",
        "print(\"Sentencia de entrada más larga:\", max_input_len)"
      ],
      "metadata": {
        "id": "ICyDnnFrC00e",
        "outputId": "021f8572-2ea1-459d-c570-2e3d018e8e08",
        "colab": {
          "base_uri": "https://localhost:8080/"
        }
      },
      "execution_count": 11,
      "outputs": [
        {
          "output_type": "stream",
          "name": "stdout",
          "text": [
            "Palabras en el vocabulario: 3994\n",
            "Sentencia de entrada más larga: 35\n"
          ]
        }
      ]
    },
    {
      "cell_type": "code",
      "source": [
        "# A los filtros de símbolos del Tokenizer agregamos el \"¿\",\n",
        "# sacamos los \"<>\" para que no afectar nuestros tokens\n",
        "output_tokenizer = Tokenizer(num_words=MAX_VOCAB_SIZE, filters='!\"#$%&()*+,-./:;=¿?@[\\\\]^_`{|}~\\t\\n')\n",
        "output_tokenizer.fit_on_texts([\"<sos>\", \"<eos>\"] + output_sentences)\n",
        "output_integer_seq = output_tokenizer.texts_to_sequences(output_sentences)\n",
        "output_input_integer_seq = output_tokenizer.texts_to_sequences(output_sentences_inputs)\n",
        "\n",
        "word2idx_outputs = output_tokenizer.word_index\n",
        "print(\"Palabras en el vocabulario:\", len(word2idx_outputs))\n",
        "\n",
        "num_words_output = min(len(word2idx_outputs) + 1, MAX_VOCAB_SIZE) # Se suma 1 por el primer <sos>\n",
        "max_out_len = max(len(sen) for sen in output_integer_seq)\n",
        "print(\"Sentencia de salida más larga:\", max_out_len)"
      ],
      "metadata": {
        "id": "jCvCnUzWC2hx",
        "outputId": "fd8b9a83-5eb6-4b98-ad7e-b1e64ff8cd43",
        "colab": {
          "base_uri": "https://localhost:8080/"
        }
      },
      "execution_count": 22,
      "outputs": [
        {
          "output_type": "stream",
          "name": "stdout",
          "text": [
            "Palabras en el vocabulario: 6246\n",
            "Sentencia de salida más larga: 36\n"
          ]
        }
      ]
    },
    {
      "cell_type": "code",
      "source": [
        "# Por una cuestion de que no explote la RAM se limitará el tamaño de las sentencias de entrada\n",
        "# a la mitad:\n",
        "max_input_len = 20\n",
        "max_out_len = 20"
      ],
      "metadata": {
        "id": "RR7zEsHpC3_7"
      },
      "execution_count": 23,
      "outputs": []
    },
    {
      "cell_type": "code",
      "source": [
        "print(\"Cantidad de rows del dataset:\", len(input_integer_seq))\n",
        "\n",
        "encoder_input_sequences = pad_sequences(input_integer_seq, maxlen=max_input_len)\n",
        "print(\"encoder_input_sequences shape:\", encoder_input_sequences.shape)\n",
        "\n",
        "decoder_input_sequences = pad_sequences(output_input_integer_seq, maxlen=max_out_len, padding='post')\n",
        "print(\"decoder_input_sequences shape:\", decoder_input_sequences.shape)"
      ],
      "metadata": {
        "id": "LnY71c3AC5gg",
        "outputId": "f295878c-2a5e-4cdf-c5c0-25e0a81d5f81",
        "colab": {
          "base_uri": "https://localhost:8080/"
        }
      },
      "execution_count": 24,
      "outputs": [
        {
          "output_type": "stream",
          "name": "stdout",
          "text": [
            "Cantidad de rows del dataset: 7000\n",
            "encoder_input_sequences shape: (7000, 20)\n",
            "decoder_input_sequences shape: (7000, 20)\n"
          ]
        }
      ]
    },
    {
      "cell_type": "code",
      "source": [
        "decoder_output_sequences = pad_sequences(output_integer_seq, maxlen=max_out_len, padding='post')\n",
        "print(\"decoder_output_sequences shape:\", decoder_output_sequences.shape)"
      ],
      "metadata": {
        "id": "rzynSn3AC7BT",
        "outputId": "32d3292b-1b98-4c92-a2e1-9107d14441ba",
        "colab": {
          "base_uri": "https://localhost:8080/"
        }
      },
      "execution_count": 25,
      "outputs": [
        {
          "output_type": "stream",
          "name": "stdout",
          "text": [
            "decoder_output_sequences shape: (7000, 20)\n"
          ]
        }
      ]
    },
    {
      "cell_type": "code",
      "source": [
        "class Data(Dataset):\n",
        "    def __init__(self, encoder_input, decoder_input, decoder_output):\n",
        "        # Convertir los arrays de numpy a tensores.\n",
        "        # pytorch espera en general entradas 32bits\n",
        "        self.encoder_inputs = torch.from_numpy(encoder_input.astype(np.int32))\n",
        "        self.decoder_inputs = torch.from_numpy(decoder_input.astype(np.int32))\n",
        "        # Transformar los datos a oneHotEncoding\n",
        "        # la loss function esperan la salida float\n",
        "        self.decoder_outputs = F.one_hot(torch.from_numpy(decoder_output).to(torch.int64), num_classes=num_words_output).float()\n",
        "\n",
        "        self.len = self.decoder_outputs.shape[0]\n",
        "\n",
        "    def __getitem__(self,index):\n",
        "        return self.encoder_inputs[index], self.decoder_inputs[index], self.decoder_outputs[index]\n",
        "\n",
        "    def __len__(self):\n",
        "        return self.len\n",
        "\n",
        "data_set = Data(encoder_input_sequences, decoder_input_sequences, decoder_output_sequences)\n",
        "\n",
        "encoder_input_size = data_set.encoder_inputs.shape[1]\n",
        "print(\"encoder_input_size:\", encoder_input_size)\n",
        "\n",
        "decoder_input_size = data_set.decoder_inputs.shape[1]\n",
        "print(\"decoder_input_size:\", decoder_input_size)\n",
        "\n",
        "output_dim = data_set.decoder_outputs.shape[2]\n",
        "print(\"Output dim\", output_dim)"
      ],
      "metadata": {
        "id": "rjS6jgyIFDIi",
        "colab": {
          "base_uri": "https://localhost:8080/"
        },
        "outputId": "3023a5f7-7721-455e-bead-b5f9c22ce4b8"
      },
      "execution_count": 26,
      "outputs": [
        {
          "output_type": "stream",
          "name": "stdout",
          "text": [
            "encoder_input_size: 20\n",
            "decoder_input_size: 20\n",
            "Output dim 6247\n"
          ]
        }
      ]
    },
    {
      "cell_type": "code",
      "source": [
        "torch.manual_seed(42)\n",
        "valid_set_size = int(data_set.len * 0.2)\n",
        "train_set_size = data_set.len - valid_set_size\n",
        "\n",
        "train_set = torch.utils.data.Subset(data_set, range(train_set_size))\n",
        "valid_set = torch.utils.data.Subset(data_set, range(train_set_size, data_set.len))\n",
        "\n",
        "print(\"Tamaño del conjunto de entrenamiento:\", len(train_set))\n",
        "print(\"Tamaño del conjunto de validacion:\", len(valid_set))\n",
        "\n",
        "train_loader = torch.utils.data.DataLoader(train_set, batch_size=64, shuffle=True)\n",
        "valid_loader = torch.utils.data.DataLoader(valid_set, batch_size=64, shuffle=False)"
      ],
      "metadata": {
        "id": "Czl6MKW6FF8K",
        "outputId": "f7736253-4f5a-4d3b-cc6c-3a58315af569",
        "colab": {
          "base_uri": "https://localhost:8080/"
        }
      },
      "execution_count": 77,
      "outputs": [
        {
          "output_type": "stream",
          "name": "stdout",
          "text": [
            "Tamaño del conjunto de entrenamiento: 5600\n",
            "Tamaño del conjunto de validacion: 1400\n"
          ]
        }
      ]
    },
    {
      "cell_type": "markdown",
      "source": [
        "## Definicion del modelo"
      ],
      "metadata": {
        "id": "qyRKeUl1SPS_"
      }
    },
    {
      "cell_type": "code",
      "source": [
        "# Descargar los embeddings desde un gogle drive (es la forma más rápida)\n",
        "# NOTA: No hay garantía de que estos links perduren, en caso de que no estén\n",
        "# disponibles descargar de la página oficial como se explica en el siguiente bloque\n",
        "if os.access('gloveembedding.pkl', os.F_OK) is False:\n",
        "    url = 'https://drive.google.com/uc?id=1wlDBOrxPq2-3htQ6ryVo7K1XnzLcfh4r&export=download'\n",
        "    output = 'gloveembedding.pkl'\n",
        "    gdown.download(url, output, quiet=False)\n",
        "else:\n",
        "    print(\"Los embeddings gloveembedding.pkl ya están descargados\")"
      ],
      "metadata": {
        "id": "eXPNmICiFJUD",
        "outputId": "559c54bd-33ea-4b0e-e955-ceb12c4c3855",
        "colab": {
          "base_uri": "https://localhost:8080/"
        }
      },
      "execution_count": 28,
      "outputs": [
        {
          "output_type": "stream",
          "name": "stderr",
          "text": [
            "Downloading...\n",
            "From (original): https://drive.google.com/uc?id=1wlDBOrxPq2-3htQ6ryVo7K1XnzLcfh4r&export=download\n",
            "From (redirected): https://drive.google.com/uc?id=1wlDBOrxPq2-3htQ6ryVo7K1XnzLcfh4r&export=download&confirm=t&uuid=15f000d2-4508-40a0-9a96-9d561b2d4bd5\n",
            "To: /content/gloveembedding.pkl\n",
            "100%|██████████| 525M/525M [00:06<00:00, 82.6MB/s]\n"
          ]
        }
      ]
    },
    {
      "cell_type": "code",
      "source": [
        "class WordsEmbeddings(object):\n",
        "    logger = logging.getLogger(__name__)\n",
        "\n",
        "    def __init__(self):\n",
        "        # load the embeddings\n",
        "        words_embedding_pkl = Path(self.PKL_PATH)\n",
        "        if not words_embedding_pkl.is_file():\n",
        "            words_embedding_txt = Path(self.WORD_TO_VEC_MODEL_TXT_PATH)\n",
        "            assert words_embedding_txt.is_file(), 'Words embedding not available'\n",
        "            embeddings = self.convert_model_to_pickle()\n",
        "        else:\n",
        "            embeddings = self.load_model_from_pickle()\n",
        "        self.embeddings = embeddings\n",
        "        # build the vocabulary hashmap\n",
        "        index = np.arange(self.embeddings.shape[0])\n",
        "        # Dicctionarios para traducir de embedding a IDX de la palabra\n",
        "        self.word2idx = dict(zip(self.embeddings['word'], index))\n",
        "        self.idx2word = dict(zip(index, self.embeddings['word']))\n",
        "\n",
        "    def get_words_embeddings(self, words):\n",
        "        words_idxs = self.words2idxs(words)\n",
        "        return self.embeddings[words_idxs]['embedding']\n",
        "\n",
        "    def words2idxs(self, words):\n",
        "        return np.array([self.word2idx.get(word, -1) for word in words])\n",
        "\n",
        "    def idxs2words(self, idxs):\n",
        "        return np.array([self.idx2word.get(idx, '-1') for idx in idxs])\n",
        "\n",
        "    def load_model_from_pickle(self):\n",
        "        self.logger.debug(\n",
        "            'loading words embeddings from pickle {}'.format(\n",
        "                self.PKL_PATH\n",
        "            )\n",
        "        )\n",
        "        max_bytes = 2**28 - 1 # 256MB\n",
        "        bytes_in = bytearray(0)\n",
        "        input_size = os.path.getsize(self.PKL_PATH)\n",
        "        with open(self.PKL_PATH, 'rb') as f_in:\n",
        "            for _ in range(0, input_size, max_bytes):\n",
        "                bytes_in += f_in.read(max_bytes)\n",
        "        embeddings = pickle.loads(bytes_in)\n",
        "        self.logger.debug('words embeddings loaded')\n",
        "        return embeddings\n",
        "\n",
        "    def convert_model_to_pickle(self):\n",
        "        # create a numpy strctured array:\n",
        "        # word     embedding\n",
        "        # U50      np.float32[]\n",
        "        # word_1   a, b, c\n",
        "        # word_2   d, e, f\n",
        "        # ...\n",
        "        # word_n   g, h, i\n",
        "        self.logger.debug(\n",
        "            'converting and loading words embeddings from text file {}'.format(\n",
        "                self.WORD_TO_VEC_MODEL_TXT_PATH\n",
        "            )\n",
        "        )\n",
        "        structure = [('word', np.dtype('U' + str(self.WORD_MAX_SIZE))),\n",
        "                     ('embedding', np.float32, (self.N_FEATURES,))]\n",
        "        structure = np.dtype(structure)\n",
        "        # load numpy array from disk using a generator\n",
        "        with open(self.WORD_TO_VEC_MODEL_TXT_PATH, encoding=\"utf8\") as words_embeddings_txt:\n",
        "            embeddings_gen = (\n",
        "                (line.split()[0], line.split()[1:]) for line in words_embeddings_txt\n",
        "                if len(line.split()[1:]) == self.N_FEATURES\n",
        "            )\n",
        "            embeddings = np.fromiter(embeddings_gen, structure)\n",
        "        # add a null embedding\n",
        "        null_embedding = np.array(\n",
        "            [('null_embedding', np.zeros((self.N_FEATURES,), dtype=np.float32))],\n",
        "            dtype=structure\n",
        "        )\n",
        "        embeddings = np.concatenate([embeddings, null_embedding])\n",
        "        # dump numpy array to disk using pickle\n",
        "        max_bytes = 2**28 - 1 # # 256MB\n",
        "        bytes_out = pickle.dumps(embeddings, protocol=pickle.HIGHEST_PROTOCOL)\n",
        "        with open(self.PKL_PATH, 'wb') as f_out:\n",
        "            for idx in range(0, len(bytes_out), max_bytes):\n",
        "                f_out.write(bytes_out[idx:idx+max_bytes])\n",
        "        self.logger.debug('words embeddings loaded')\n",
        "        return embeddings\n",
        "\n",
        "\n",
        "class GloveEmbeddings(WordsEmbeddings):\n",
        "    WORD_TO_VEC_MODEL_TXT_PATH = 'glove.twitter.27B.50d.txt'\n",
        "    PKL_PATH = 'gloveembedding.pkl'\n",
        "    N_FEATURES = 50\n",
        "    WORD_MAX_SIZE = 60"
      ],
      "metadata": {
        "id": "3bkADpp1FTHY"
      },
      "execution_count": 78,
      "outputs": []
    },
    {
      "cell_type": "code",
      "source": [
        "# Por una cuestion de RAM se utilizará los embeddings de Glove de dimension 50\n",
        "model_embeddings = GloveEmbeddings()"
      ],
      "metadata": {
        "id": "8WhYBwPEFgWb"
      },
      "execution_count": 79,
      "outputs": []
    },
    {
      "cell_type": "code",
      "source": [
        "# Crear la Embedding matrix de las secuencias\n",
        "# en ingles\n",
        "\n",
        "print('preparing embedding matrix...')\n",
        "embed_dim = model_embeddings.N_FEATURES\n",
        "words_not_found = []\n",
        "\n",
        "# word_index provieen del tokenizer\n",
        "\n",
        "nb_words = min(MAX_VOCAB_SIZE, len(word2idx_inputs)) # vocab_size\n",
        "embedding_matrix = np.zeros((nb_words, embed_dim))\n",
        "for word, i in word2idx_inputs.items():\n",
        "    if i >= nb_words:\n",
        "        continue\n",
        "    embedding_vector = model_embeddings.get_words_embeddings(word)[0]\n",
        "    if (embedding_vector is not None) and len(embedding_vector) > 0:\n",
        "\n",
        "        embedding_matrix[i] = embedding_vector\n",
        "    else:\n",
        "        # words not found in embedding index will be all-zeros.\n",
        "        words_not_found.append(word)\n",
        "\n",
        "print('number of null word embeddings:', np.sum(np.sum(embedding_matrix, axis=1) == 0))"
      ],
      "metadata": {
        "id": "cwfCV6u_Fh5U",
        "outputId": "871474b6-cb83-464f-8fd2-766d965c811e",
        "colab": {
          "base_uri": "https://localhost:8080/"
        }
      },
      "execution_count": 80,
      "outputs": [
        {
          "output_type": "stream",
          "name": "stdout",
          "text": [
            "preparing embedding matrix...\n",
            "number of null word embeddings: 23\n"
          ]
        }
      ]
    },
    {
      "cell_type": "code",
      "source": [
        "# Armar lo conversores de indice a palabra:\n",
        "idx2word_input = {v:k for k, v in word2idx_inputs.items()}\n",
        "idx2word_target = {v:k for k, v in word2idx_outputs.items()}"
      ],
      "metadata": {
        "id": "ubAiyQQrGpfM"
      },
      "execution_count": 81,
      "outputs": []
    },
    {
      "cell_type": "code",
      "source": [
        "class Encoder(nn.Module):\n",
        "    def __init__(self, vocab_size, lstm_size=128, num_layers=1):\n",
        "        super().__init__()\n",
        "        # num_embeddings = vocab_size, definido por le Tokenizador\n",
        "        # embedding_dim = 50 --> dimensión de los embeddings utilizados\n",
        "        self.lstm_size = lstm_size\n",
        "        self.num_layers = num_layers\n",
        "        self.embedding_dim = embed_dim\n",
        "        self.embedding = nn.Embedding(num_embeddings=vocab_size, embedding_dim=self.embedding_dim, padding_idx=0)\n",
        "        self.embedding.weight.data.copy_(torch.from_numpy(embedding_matrix))\n",
        "        self.embedding.weight.requires_grad = False  # marcar como layer no entrenable (freeze)\n",
        "        self.lstm = nn.LSTM(input_size=self.embedding_dim, hidden_size=self.lstm_size, batch_first=True,\n",
        "                            num_layers=self.num_layers) # LSTM layer\n",
        "\n",
        "    def forward(self, x):\n",
        "        out = self.embedding(x)\n",
        "        lstm_output, (ht, ct) = self.lstm(out)\n",
        "        return (ht, ct)\n",
        "\n",
        "class Decoder(nn.Module):\n",
        "    def __init__(self, vocab_size, output_dim, lstm_size=128, num_layers=1):\n",
        "        super().__init__()\n",
        "        # num_embeddings = vocab_size, definido por le Tokenizador\n",
        "        # embedding_dim = 50 --> dimensión de los embeddings utilizados\n",
        "        self.lstm_size = lstm_size\n",
        "        self.num_layers = num_layers\n",
        "        self.embedding_dim = embed_dim\n",
        "        self.output_dim = output_dim\n",
        "\n",
        "        self.embedding = nn.Embedding(num_embeddings=vocab_size, embedding_dim=self.embedding_dim, padding_idx=0)\n",
        "        self.lstm = nn.LSTM(input_size=self.embedding_dim, hidden_size=self.lstm_size, batch_first=True,\n",
        "                            num_layers=self.num_layers) # LSTM layer\n",
        "        self.fc1 = nn.Linear(in_features=self.lstm_size, out_features=self.output_dim) # Fully connected layer\n",
        "\n",
        "        self.softmax = nn.Softmax(dim=1) # normalize in dim 1\n",
        "\n",
        "    def forward(self, x, prev_state):\n",
        "        out = self.embedding(x)\n",
        "        lstm_output, (ht, ct) = self.lstm(out, prev_state)\n",
        "        out = self.fc1(lstm_output[:, -1, :])  # sin softmax\n",
        "        return out, (ht, ct)\n",
        "\n",
        "class Seq2Seq(nn.Module):\n",
        "    def __init__(self, encoder, decoder):\n",
        "        super().__init__()\n",
        "\n",
        "        self.encoder = encoder\n",
        "        self.decoder = decoder\n",
        "\n",
        "        assert encoder.lstm_size == decoder.lstm_size, \\\n",
        "            \"Hidden dimensions of encoder and decoder must be equal!\"\n",
        "        assert encoder.num_layers == decoder.num_layers, \\\n",
        "            \"Encoder and decoder must have equal number of layers!\"\n",
        "\n",
        "    def forward(self, encoder_input, decoder_input):\n",
        "        batch_size = decoder_input.shape[0]\n",
        "        decoder_input_len = decoder_input.shape[1]\n",
        "        vocab_size = self.decoder.output_dim\n",
        "\n",
        "        # tensor para almacenar la salida\n",
        "        # (batch_size, sentence_len, one_hot_size)\n",
        "        outputs = torch.zeros(batch_size, decoder_input_len, vocab_size)\n",
        "\n",
        "        # ultimo hidden state del encoder, primer estado oculto del decoder\n",
        "        prev_state = self.encoder(encoder_input)\n",
        "\n",
        "        # En la primera iteracion se toma el primer token de target (<sos>)\n",
        "        input = decoder_input[:, 0:1]\n",
        "\n",
        "        for t in range(decoder_input_len):\n",
        "            # t --> token index\n",
        "\n",
        "            # utilizamos método \"teacher forcing\", es decir que durante\n",
        "            # el entrenamiento no realimentamos la salida del decoder\n",
        "            # sino el token correcto que sigue en target\n",
        "            input = decoder_input[:, t:t+1]\n",
        "\n",
        "            # ingresar cada token embedding, uno por uno junto al hidden state\n",
        "            # recibir el output del decoder (softmax)\n",
        "            output, prev_state = self.decoder(input, prev_state)\n",
        "            top1 = output.argmax(1).view(-1, 1)\n",
        "\n",
        "            # Sino se usará \"teacher forcing\" habría que descomentar\n",
        "            # esta linea.\n",
        "            # Hay ejemplos dandos vuelta en donde se utilza un random\n",
        "            # para ver en cada vuelta que técnica se aplica\n",
        "            #input = top1\n",
        "\n",
        "            # guardar cada salida (softmax)\n",
        "            outputs[:, t, :] = output\n",
        "\n",
        "        return outputs"
      ],
      "metadata": {
        "id": "D7NznlbVFoSp"
      },
      "execution_count": 103,
      "outputs": []
    },
    {
      "cell_type": "markdown",
      "source": [
        "## Entrenamos el modelo"
      ],
      "metadata": {
        "id": "g9o9I79UVdKY"
      }
    },
    {
      "cell_type": "markdown",
      "source": [
        "### Encoder-Decoder con 128 de lstm_size"
      ],
      "metadata": {
        "id": "wbruwHy2jecy"
      }
    },
    {
      "cell_type": "code",
      "source": [
        "EPOCHS = 10"
      ],
      "metadata": {
        "id": "ucAX2GXmk8DN"
      },
      "execution_count": 55,
      "outputs": []
    },
    {
      "cell_type": "code",
      "source": [
        "encoder = Encoder(vocab_size=nb_words)\n",
        "if cuda: encoder.cuda()\n",
        "# decoder --> vocab_size == output_dim --> porque recibe y devuelve palabras en el mismo vocabulario\n",
        "decoder = Decoder(vocab_size=num_words_output, output_dim=num_words_output)\n",
        "if cuda: decoder.cuda()\n",
        "\n",
        "model = Seq2Seq(encoder, decoder)\n",
        "if cuda: model.cuda()\n",
        "\n",
        "# Crear el optimizador la una función de error\n",
        "optimizer = torch.optim.Adam(model.parameters(), lr=0.1)\n",
        "criterion = torch.nn.CrossEntropyLoss()  # Para clasificación multi categórica\n",
        "\n",
        "# Move input data to the device before passing it to summary\n",
        "sample_encoder_input, sample_decoder_input, _ = data_set[0:1]\n",
        "summary(model, input_data=(sample_encoder_input.to(device), sample_decoder_input.to(device)))"
      ],
      "metadata": {
        "colab": {
          "base_uri": "https://localhost:8080/"
        },
        "id": "ZD0KFwY2jdoG",
        "outputId": "432edafb-5480-4c89-8e92-c92373f28ff5"
      },
      "execution_count": 104,
      "outputs": [
        {
          "output_type": "execute_result",
          "data": {
            "text/plain": [
              "==========================================================================================\n",
              "Layer (type:depth-idx)                   Output Shape              Param #\n",
              "==========================================================================================\n",
              "Seq2Seq                                  [1, 20, 6247]             --\n",
              "├─Encoder: 1-1                           [1, 1, 128]               --\n",
              "│    └─Embedding: 2-1                    [1, 20, 50]               (199,700)\n",
              "│    └─LSTM: 2-2                         [1, 20, 128]              92,160\n",
              "├─Decoder: 1-2                           [1, 6247]                 --\n",
              "│    └─Embedding: 2-3                    [1, 1, 50]                312,350\n",
              "│    └─LSTM: 2-4                         [1, 1, 128]               92,160\n",
              "│    └─Linear: 2-5                       [1, 6247]                 805,863\n",
              "├─Decoder: 1-3                           [1, 6247]                 (recursive)\n",
              "│    └─Embedding: 2-6                    [1, 1, 50]                (recursive)\n",
              "│    └─LSTM: 2-7                         [1, 1, 128]               (recursive)\n",
              "│    └─Linear: 2-8                       [1, 6247]                 (recursive)\n",
              "├─Decoder: 1-4                           [1, 6247]                 (recursive)\n",
              "│    └─Embedding: 2-9                    [1, 1, 50]                (recursive)\n",
              "│    └─LSTM: 2-10                        [1, 1, 128]               (recursive)\n",
              "│    └─Linear: 2-11                      [1, 6247]                 (recursive)\n",
              "├─Decoder: 1-5                           [1, 6247]                 (recursive)\n",
              "│    └─Embedding: 2-12                   [1, 1, 50]                (recursive)\n",
              "│    └─LSTM: 2-13                        [1, 1, 128]               (recursive)\n",
              "│    └─Linear: 2-14                      [1, 6247]                 (recursive)\n",
              "├─Decoder: 1-6                           [1, 6247]                 (recursive)\n",
              "│    └─Embedding: 2-15                   [1, 1, 50]                (recursive)\n",
              "│    └─LSTM: 2-16                        [1, 1, 128]               (recursive)\n",
              "│    └─Linear: 2-17                      [1, 6247]                 (recursive)\n",
              "├─Decoder: 1-7                           [1, 6247]                 (recursive)\n",
              "│    └─Embedding: 2-18                   [1, 1, 50]                (recursive)\n",
              "│    └─LSTM: 2-19                        [1, 1, 128]               (recursive)\n",
              "│    └─Linear: 2-20                      [1, 6247]                 (recursive)\n",
              "├─Decoder: 1-8                           [1, 6247]                 (recursive)\n",
              "│    └─Embedding: 2-21                   [1, 1, 50]                (recursive)\n",
              "│    └─LSTM: 2-22                        [1, 1, 128]               (recursive)\n",
              "│    └─Linear: 2-23                      [1, 6247]                 (recursive)\n",
              "├─Decoder: 1-9                           [1, 6247]                 (recursive)\n",
              "│    └─Embedding: 2-24                   [1, 1, 50]                (recursive)\n",
              "│    └─LSTM: 2-25                        [1, 1, 128]               (recursive)\n",
              "│    └─Linear: 2-26                      [1, 6247]                 (recursive)\n",
              "├─Decoder: 1-10                          [1, 6247]                 (recursive)\n",
              "│    └─Embedding: 2-27                   [1, 1, 50]                (recursive)\n",
              "│    └─LSTM: 2-28                        [1, 1, 128]               (recursive)\n",
              "│    └─Linear: 2-29                      [1, 6247]                 (recursive)\n",
              "├─Decoder: 1-11                          [1, 6247]                 (recursive)\n",
              "│    └─Embedding: 2-30                   [1, 1, 50]                (recursive)\n",
              "│    └─LSTM: 2-31                        [1, 1, 128]               (recursive)\n",
              "│    └─Linear: 2-32                      [1, 6247]                 (recursive)\n",
              "├─Decoder: 1-12                          [1, 6247]                 (recursive)\n",
              "│    └─Embedding: 2-33                   [1, 1, 50]                (recursive)\n",
              "│    └─LSTM: 2-34                        [1, 1, 128]               (recursive)\n",
              "│    └─Linear: 2-35                      [1, 6247]                 (recursive)\n",
              "├─Decoder: 1-13                          [1, 6247]                 (recursive)\n",
              "│    └─Embedding: 2-36                   [1, 1, 50]                (recursive)\n",
              "│    └─LSTM: 2-37                        [1, 1, 128]               (recursive)\n",
              "│    └─Linear: 2-38                      [1, 6247]                 (recursive)\n",
              "├─Decoder: 1-14                          [1, 6247]                 (recursive)\n",
              "│    └─Embedding: 2-39                   [1, 1, 50]                (recursive)\n",
              "│    └─LSTM: 2-40                        [1, 1, 128]               (recursive)\n",
              "│    └─Linear: 2-41                      [1, 6247]                 (recursive)\n",
              "├─Decoder: 1-15                          [1, 6247]                 (recursive)\n",
              "│    └─Embedding: 2-42                   [1, 1, 50]                (recursive)\n",
              "│    └─LSTM: 2-43                        [1, 1, 128]               (recursive)\n",
              "│    └─Linear: 2-44                      [1, 6247]                 (recursive)\n",
              "├─Decoder: 1-16                          [1, 6247]                 (recursive)\n",
              "│    └─Embedding: 2-45                   [1, 1, 50]                (recursive)\n",
              "│    └─LSTM: 2-46                        [1, 1, 128]               (recursive)\n",
              "│    └─Linear: 2-47                      [1, 6247]                 (recursive)\n",
              "├─Decoder: 1-17                          [1, 6247]                 (recursive)\n",
              "│    └─Embedding: 2-48                   [1, 1, 50]                (recursive)\n",
              "│    └─LSTM: 2-49                        [1, 1, 128]               (recursive)\n",
              "│    └─Linear: 2-50                      [1, 6247]                 (recursive)\n",
              "├─Decoder: 1-18                          [1, 6247]                 (recursive)\n",
              "│    └─Embedding: 2-51                   [1, 1, 50]                (recursive)\n",
              "│    └─LSTM: 2-52                        [1, 1, 128]               (recursive)\n",
              "│    └─Linear: 2-53                      [1, 6247]                 (recursive)\n",
              "├─Decoder: 1-19                          [1, 6247]                 (recursive)\n",
              "│    └─Embedding: 2-54                   [1, 1, 50]                (recursive)\n",
              "│    └─LSTM: 2-55                        [1, 1, 128]               (recursive)\n",
              "│    └─Linear: 2-56                      [1, 6247]                 (recursive)\n",
              "├─Decoder: 1-20                          [1, 6247]                 (recursive)\n",
              "│    └─Embedding: 2-57                   [1, 1, 50]                (recursive)\n",
              "│    └─LSTM: 2-58                        [1, 1, 128]               (recursive)\n",
              "│    └─Linear: 2-59                      [1, 6247]                 (recursive)\n",
              "├─Decoder: 1-21                          [1, 6247]                 (recursive)\n",
              "│    └─Embedding: 2-60                   [1, 1, 50]                (recursive)\n",
              "│    └─LSTM: 2-61                        [1, 1, 128]               (recursive)\n",
              "│    └─Linear: 2-62                      [1, 6247]                 (recursive)\n",
              "==========================================================================================\n",
              "Total params: 1,502,233\n",
              "Trainable params: 1,302,533\n",
              "Non-trainable params: 199,700\n",
              "Total mult-adds (Units.MEGABYTES): 26.25\n",
              "==========================================================================================\n",
              "Input size (MB): 0.00\n",
              "Forward/backward pass size (MB): 1.06\n",
              "Params size (MB): 6.01\n",
              "Estimated Total Size (MB): 7.07\n",
              "=========================================================================================="
            ]
          },
          "metadata": {},
          "execution_count": 104
        }
      ]
    },
    {
      "cell_type": "code",
      "source": [
        "history1 = train(model,\n",
        "                train_loader,\n",
        "                valid_loader,\n",
        "                optimizer,\n",
        "                criterion,\n",
        "                epochs=EPOCHS\n",
        "                )"
      ],
      "metadata": {
        "id": "FKIEbU7qFrru",
        "outputId": "d3cce04e-3da7-4b02-bf84-9934aa643ca5",
        "colab": {
          "base_uri": "https://localhost:8080/"
        }
      },
      "execution_count": 105,
      "outputs": [
        {
          "output_type": "stream",
          "name": "stdout",
          "text": [
            "Epoch: 1/10 - Train loss 48.222 - Train accuracy 0.685 - Valid Loss 45.066 - Valid accuracy 0.691\n",
            "Epoch: 2/10 - Train loss 37.400 - Train accuracy 0.711 - Valid Loss 43.850 - Valid accuracy 0.689\n",
            "Epoch: 3/10 - Train loss 34.696 - Train accuracy 0.713 - Valid Loss 45.223 - Valid accuracy 0.691\n",
            "Epoch: 4/10 - Train loss 33.757 - Train accuracy 0.714 - Valid Loss 46.219 - Valid accuracy 0.695\n",
            "Epoch: 5/10 - Train loss 33.252 - Train accuracy 0.715 - Valid Loss 47.810 - Valid accuracy 0.686\n",
            "Epoch: 6/10 - Train loss 32.970 - Train accuracy 0.716 - Valid Loss 47.401 - Valid accuracy 0.688\n",
            "Epoch: 7/10 - Train loss 32.805 - Train accuracy 0.715 - Valid Loss 48.154 - Valid accuracy 0.691\n",
            "Epoch: 8/10 - Train loss 32.776 - Train accuracy 0.715 - Valid Loss 48.862 - Valid accuracy 0.692\n",
            "Epoch: 9/10 - Train loss 32.387 - Train accuracy 0.716 - Valid Loss 50.326 - Valid accuracy 0.691\n",
            "Epoch: 10/10 - Train loss 32.719 - Train accuracy 0.715 - Valid Loss 50.706 - Valid accuracy 0.692\n"
          ]
        }
      ]
    },
    {
      "cell_type": "markdown",
      "source": [
        "### Encoder-Decoder con 256 de lstm_size"
      ],
      "metadata": {
        "id": "rRTld8J5jkDO"
      }
    },
    {
      "cell_type": "code",
      "source": [
        "encoder_2 = Encoder(vocab_size=nb_words, lstm_size=256)\n",
        "if cuda: encoder_2.cuda()\n",
        "# decoder --> vocab_size == output_dim --> porque recibe y devuelve palabras en el mismo vocabulario\n",
        "decoder_2 = Decoder(vocab_size=num_words_output, output_dim=num_words_output, lstm_size=256)\n",
        "if cuda: decoder_2.cuda()\n",
        "\n",
        "model_2 = Seq2Seq(encoder_2, decoder_2)\n",
        "if cuda: model_2.cuda()\n",
        "\n",
        "# Crear el optimizador la una función de error\n",
        "optimizer = torch.optim.Adam(model_2.parameters(), lr=0.1)\n",
        "criterion = torch.nn.CrossEntropyLoss()  # Para clasificación multi categórica\n",
        "\n",
        "# Move input data to the device before passing it to summary\n",
        "sample_encoder_input, sample_decoder_input, _ = data_set[0:1]\n",
        "summary(model_2, input_data=(sample_encoder_input.to(device), sample_decoder_input.to(device)))"
      ],
      "metadata": {
        "colab": {
          "base_uri": "https://localhost:8080/"
        },
        "id": "hbE02xfFjWTq",
        "outputId": "4a8decf7-5d66-44ef-8be2-bc441a8c2a89"
      },
      "execution_count": 106,
      "outputs": [
        {
          "output_type": "execute_result",
          "data": {
            "text/plain": [
              "==========================================================================================\n",
              "Layer (type:depth-idx)                   Output Shape              Param #\n",
              "==========================================================================================\n",
              "Seq2Seq                                  [1, 20, 6247]             --\n",
              "├─Encoder: 1-1                           [1, 1, 256]               --\n",
              "│    └─Embedding: 2-1                    [1, 20, 50]               (199,700)\n",
              "│    └─LSTM: 2-2                         [1, 20, 256]              315,392\n",
              "├─Decoder: 1-2                           [1, 6247]                 --\n",
              "│    └─Embedding: 2-3                    [1, 1, 50]                312,350\n",
              "│    └─LSTM: 2-4                         [1, 1, 256]               315,392\n",
              "│    └─Linear: 2-5                       [1, 6247]                 1,605,479\n",
              "├─Decoder: 1-3                           [1, 6247]                 (recursive)\n",
              "│    └─Embedding: 2-6                    [1, 1, 50]                (recursive)\n",
              "│    └─LSTM: 2-7                         [1, 1, 256]               (recursive)\n",
              "│    └─Linear: 2-8                       [1, 6247]                 (recursive)\n",
              "├─Decoder: 1-4                           [1, 6247]                 (recursive)\n",
              "│    └─Embedding: 2-9                    [1, 1, 50]                (recursive)\n",
              "│    └─LSTM: 2-10                        [1, 1, 256]               (recursive)\n",
              "│    └─Linear: 2-11                      [1, 6247]                 (recursive)\n",
              "├─Decoder: 1-5                           [1, 6247]                 (recursive)\n",
              "│    └─Embedding: 2-12                   [1, 1, 50]                (recursive)\n",
              "│    └─LSTM: 2-13                        [1, 1, 256]               (recursive)\n",
              "│    └─Linear: 2-14                      [1, 6247]                 (recursive)\n",
              "├─Decoder: 1-6                           [1, 6247]                 (recursive)\n",
              "│    └─Embedding: 2-15                   [1, 1, 50]                (recursive)\n",
              "│    └─LSTM: 2-16                        [1, 1, 256]               (recursive)\n",
              "│    └─Linear: 2-17                      [1, 6247]                 (recursive)\n",
              "├─Decoder: 1-7                           [1, 6247]                 (recursive)\n",
              "│    └─Embedding: 2-18                   [1, 1, 50]                (recursive)\n",
              "│    └─LSTM: 2-19                        [1, 1, 256]               (recursive)\n",
              "│    └─Linear: 2-20                      [1, 6247]                 (recursive)\n",
              "├─Decoder: 1-8                           [1, 6247]                 (recursive)\n",
              "│    └─Embedding: 2-21                   [1, 1, 50]                (recursive)\n",
              "│    └─LSTM: 2-22                        [1, 1, 256]               (recursive)\n",
              "│    └─Linear: 2-23                      [1, 6247]                 (recursive)\n",
              "├─Decoder: 1-9                           [1, 6247]                 (recursive)\n",
              "│    └─Embedding: 2-24                   [1, 1, 50]                (recursive)\n",
              "│    └─LSTM: 2-25                        [1, 1, 256]               (recursive)\n",
              "│    └─Linear: 2-26                      [1, 6247]                 (recursive)\n",
              "├─Decoder: 1-10                          [1, 6247]                 (recursive)\n",
              "│    └─Embedding: 2-27                   [1, 1, 50]                (recursive)\n",
              "│    └─LSTM: 2-28                        [1, 1, 256]               (recursive)\n",
              "│    └─Linear: 2-29                      [1, 6247]                 (recursive)\n",
              "├─Decoder: 1-11                          [1, 6247]                 (recursive)\n",
              "│    └─Embedding: 2-30                   [1, 1, 50]                (recursive)\n",
              "│    └─LSTM: 2-31                        [1, 1, 256]               (recursive)\n",
              "│    └─Linear: 2-32                      [1, 6247]                 (recursive)\n",
              "├─Decoder: 1-12                          [1, 6247]                 (recursive)\n",
              "│    └─Embedding: 2-33                   [1, 1, 50]                (recursive)\n",
              "│    └─LSTM: 2-34                        [1, 1, 256]               (recursive)\n",
              "│    └─Linear: 2-35                      [1, 6247]                 (recursive)\n",
              "├─Decoder: 1-13                          [1, 6247]                 (recursive)\n",
              "│    └─Embedding: 2-36                   [1, 1, 50]                (recursive)\n",
              "│    └─LSTM: 2-37                        [1, 1, 256]               (recursive)\n",
              "│    └─Linear: 2-38                      [1, 6247]                 (recursive)\n",
              "├─Decoder: 1-14                          [1, 6247]                 (recursive)\n",
              "│    └─Embedding: 2-39                   [1, 1, 50]                (recursive)\n",
              "│    └─LSTM: 2-40                        [1, 1, 256]               (recursive)\n",
              "│    └─Linear: 2-41                      [1, 6247]                 (recursive)\n",
              "├─Decoder: 1-15                          [1, 6247]                 (recursive)\n",
              "│    └─Embedding: 2-42                   [1, 1, 50]                (recursive)\n",
              "│    └─LSTM: 2-43                        [1, 1, 256]               (recursive)\n",
              "│    └─Linear: 2-44                      [1, 6247]                 (recursive)\n",
              "├─Decoder: 1-16                          [1, 6247]                 (recursive)\n",
              "│    └─Embedding: 2-45                   [1, 1, 50]                (recursive)\n",
              "│    └─LSTM: 2-46                        [1, 1, 256]               (recursive)\n",
              "│    └─Linear: 2-47                      [1, 6247]                 (recursive)\n",
              "├─Decoder: 1-17                          [1, 6247]                 (recursive)\n",
              "│    └─Embedding: 2-48                   [1, 1, 50]                (recursive)\n",
              "│    └─LSTM: 2-49                        [1, 1, 256]               (recursive)\n",
              "│    └─Linear: 2-50                      [1, 6247]                 (recursive)\n",
              "├─Decoder: 1-18                          [1, 6247]                 (recursive)\n",
              "│    └─Embedding: 2-51                   [1, 1, 50]                (recursive)\n",
              "│    └─LSTM: 2-52                        [1, 1, 256]               (recursive)\n",
              "│    └─Linear: 2-53                      [1, 6247]                 (recursive)\n",
              "├─Decoder: 1-19                          [1, 6247]                 (recursive)\n",
              "│    └─Embedding: 2-54                   [1, 1, 50]                (recursive)\n",
              "│    └─LSTM: 2-55                        [1, 1, 256]               (recursive)\n",
              "│    └─Linear: 2-56                      [1, 6247]                 (recursive)\n",
              "├─Decoder: 1-20                          [1, 6247]                 (recursive)\n",
              "│    └─Embedding: 2-57                   [1, 1, 50]                (recursive)\n",
              "│    └─LSTM: 2-58                        [1, 1, 256]               (recursive)\n",
              "│    └─Linear: 2-59                      [1, 6247]                 (recursive)\n",
              "├─Decoder: 1-21                          [1, 6247]                 (recursive)\n",
              "│    └─Embedding: 2-60                   [1, 1, 50]                (recursive)\n",
              "│    └─LSTM: 2-61                        [1, 1, 256]               (recursive)\n",
              "│    └─Linear: 2-62                      [1, 6247]                 (recursive)\n",
              "==========================================================================================\n",
              "Total params: 2,748,313\n",
              "Trainable params: 2,548,613\n",
              "Non-trainable params: 199,700\n",
              "Total mult-adds (Units.MEGABYTES): 51.17\n",
              "==========================================================================================\n",
              "Input size (MB): 0.00\n",
              "Forward/backward pass size (MB): 1.10\n",
              "Params size (MB): 10.99\n",
              "Estimated Total Size (MB): 12.09\n",
              "=========================================================================================="
            ]
          },
          "metadata": {},
          "execution_count": 106
        }
      ]
    },
    {
      "cell_type": "code",
      "source": [
        "history_2 = train(model_2,\n",
        "                train_loader,\n",
        "                valid_loader,\n",
        "                optimizer,\n",
        "                criterion,\n",
        "                epochs=EPOCHS\n",
        "                )"
      ],
      "metadata": {
        "colab": {
          "base_uri": "https://localhost:8080/"
        },
        "id": "OQ3TfWJijabx",
        "outputId": "ac70478b-2683-4b13-cc67-9fb89c187525"
      },
      "execution_count": 107,
      "outputs": [
        {
          "output_type": "stream",
          "name": "stdout",
          "text": [
            "Epoch: 1/10 - Train loss 71.345 - Train accuracy 0.643 - Valid Loss 52.756 - Valid accuracy 0.678\n",
            "Epoch: 2/10 - Train loss 42.221 - Train accuracy 0.709 - Valid Loss 49.189 - Valid accuracy 0.691\n",
            "Epoch: 3/10 - Train loss 37.198 - Train accuracy 0.716 - Valid Loss 48.460 - Valid accuracy 0.698\n",
            "Epoch: 4/10 - Train loss 34.206 - Train accuracy 0.720 - Valid Loss 48.881 - Valid accuracy 0.698\n",
            "Epoch: 5/10 - Train loss 32.683 - Train accuracy 0.726 - Valid Loss 49.861 - Valid accuracy 0.688\n",
            "Epoch: 6/10 - Train loss 31.368 - Train accuracy 0.730 - Valid Loss 51.059 - Valid accuracy 0.691\n",
            "Epoch: 7/10 - Train loss 30.488 - Train accuracy 0.732 - Valid Loss 52.164 - Valid accuracy 0.687\n",
            "Epoch: 8/10 - Train loss 30.076 - Train accuracy 0.733 - Valid Loss 51.673 - Valid accuracy 0.692\n",
            "Epoch: 9/10 - Train loss 29.732 - Train accuracy 0.735 - Valid Loss 54.326 - Valid accuracy 0.690\n",
            "Epoch: 10/10 - Train loss 29.517 - Train accuracy 0.736 - Valid Loss 55.258 - Valid accuracy 0.692\n"
          ]
        }
      ]
    },
    {
      "cell_type": "markdown",
      "source": [
        "### Encoder-Decoder con 64 de lstm_size y 5 num_layers"
      ],
      "metadata": {
        "id": "Z2FFouo-pOdE"
      }
    },
    {
      "cell_type": "code",
      "source": [
        "encoder_3 = Encoder(vocab_size=nb_words, lstm_size=64, num_layers=5)\n",
        "if cuda: encoder_3.cuda()\n",
        "# decoder --> vocab_size == output_dim --> porque recibe y devuelve palabras en el mismo vocabulario\n",
        "decoder_3 = Decoder(vocab_size=num_words_output, output_dim=num_words_output, lstm_size=64, num_layers=5)\n",
        "if cuda: decoder_3.cuda()\n",
        "\n",
        "model_3 = Seq2Seq(encoder_3, decoder_3)\n",
        "if cuda: model_3.cuda()\n",
        "\n",
        "# Crear el optimizador la una función de error\n",
        "optimizer = torch.optim.Adam(model_3.parameters(), lr=0.001)\n",
        "criterion = torch.nn.CrossEntropyLoss()  # Para clasificación multi categórica\n",
        "\n",
        "# Move input data to the device before passing it to summary\n",
        "sample_encoder_input, sample_decoder_input, _ = data_set[0:1]\n",
        "summary(model_3, input_data=(sample_encoder_input.to(device), sample_decoder_input.to(device)))"
      ],
      "metadata": {
        "colab": {
          "base_uri": "https://localhost:8080/"
        },
        "id": "XfMXk2s4o1h-",
        "outputId": "69974dab-950f-4b79-f797-2b89be31bd71"
      },
      "execution_count": 108,
      "outputs": [
        {
          "output_type": "execute_result",
          "data": {
            "text/plain": [
              "==========================================================================================\n",
              "Layer (type:depth-idx)                   Output Shape              Param #\n",
              "==========================================================================================\n",
              "Seq2Seq                                  [1, 20, 6247]             --\n",
              "├─Encoder: 1-1                           [5, 1, 64]                --\n",
              "│    └─Embedding: 2-1                    [1, 20, 50]               (199,700)\n",
              "│    └─LSTM: 2-2                         [1, 20, 64]               162,816\n",
              "├─Decoder: 1-2                           [1, 6247]                 --\n",
              "│    └─Embedding: 2-3                    [1, 1, 50]                312,350\n",
              "│    └─LSTM: 2-4                         [1, 1, 64]                162,816\n",
              "│    └─Linear: 2-5                       [1, 6247]                 406,055\n",
              "├─Decoder: 1-3                           [1, 6247]                 (recursive)\n",
              "│    └─Embedding: 2-6                    [1, 1, 50]                (recursive)\n",
              "│    └─LSTM: 2-7                         [1, 1, 64]                (recursive)\n",
              "│    └─Linear: 2-8                       [1, 6247]                 (recursive)\n",
              "├─Decoder: 1-4                           [1, 6247]                 (recursive)\n",
              "│    └─Embedding: 2-9                    [1, 1, 50]                (recursive)\n",
              "│    └─LSTM: 2-10                        [1, 1, 64]                (recursive)\n",
              "│    └─Linear: 2-11                      [1, 6247]                 (recursive)\n",
              "├─Decoder: 1-5                           [1, 6247]                 (recursive)\n",
              "│    └─Embedding: 2-12                   [1, 1, 50]                (recursive)\n",
              "│    └─LSTM: 2-13                        [1, 1, 64]                (recursive)\n",
              "│    └─Linear: 2-14                      [1, 6247]                 (recursive)\n",
              "├─Decoder: 1-6                           [1, 6247]                 (recursive)\n",
              "│    └─Embedding: 2-15                   [1, 1, 50]                (recursive)\n",
              "│    └─LSTM: 2-16                        [1, 1, 64]                (recursive)\n",
              "│    └─Linear: 2-17                      [1, 6247]                 (recursive)\n",
              "├─Decoder: 1-7                           [1, 6247]                 (recursive)\n",
              "│    └─Embedding: 2-18                   [1, 1, 50]                (recursive)\n",
              "│    └─LSTM: 2-19                        [1, 1, 64]                (recursive)\n",
              "│    └─Linear: 2-20                      [1, 6247]                 (recursive)\n",
              "├─Decoder: 1-8                           [1, 6247]                 (recursive)\n",
              "│    └─Embedding: 2-21                   [1, 1, 50]                (recursive)\n",
              "│    └─LSTM: 2-22                        [1, 1, 64]                (recursive)\n",
              "│    └─Linear: 2-23                      [1, 6247]                 (recursive)\n",
              "├─Decoder: 1-9                           [1, 6247]                 (recursive)\n",
              "│    └─Embedding: 2-24                   [1, 1, 50]                (recursive)\n",
              "│    └─LSTM: 2-25                        [1, 1, 64]                (recursive)\n",
              "│    └─Linear: 2-26                      [1, 6247]                 (recursive)\n",
              "├─Decoder: 1-10                          [1, 6247]                 (recursive)\n",
              "│    └─Embedding: 2-27                   [1, 1, 50]                (recursive)\n",
              "│    └─LSTM: 2-28                        [1, 1, 64]                (recursive)\n",
              "│    └─Linear: 2-29                      [1, 6247]                 (recursive)\n",
              "├─Decoder: 1-11                          [1, 6247]                 (recursive)\n",
              "│    └─Embedding: 2-30                   [1, 1, 50]                (recursive)\n",
              "│    └─LSTM: 2-31                        [1, 1, 64]                (recursive)\n",
              "│    └─Linear: 2-32                      [1, 6247]                 (recursive)\n",
              "├─Decoder: 1-12                          [1, 6247]                 (recursive)\n",
              "│    └─Embedding: 2-33                   [1, 1, 50]                (recursive)\n",
              "│    └─LSTM: 2-34                        [1, 1, 64]                (recursive)\n",
              "│    └─Linear: 2-35                      [1, 6247]                 (recursive)\n",
              "├─Decoder: 1-13                          [1, 6247]                 (recursive)\n",
              "│    └─Embedding: 2-36                   [1, 1, 50]                (recursive)\n",
              "│    └─LSTM: 2-37                        [1, 1, 64]                (recursive)\n",
              "│    └─Linear: 2-38                      [1, 6247]                 (recursive)\n",
              "├─Decoder: 1-14                          [1, 6247]                 (recursive)\n",
              "│    └─Embedding: 2-39                   [1, 1, 50]                (recursive)\n",
              "│    └─LSTM: 2-40                        [1, 1, 64]                (recursive)\n",
              "│    └─Linear: 2-41                      [1, 6247]                 (recursive)\n",
              "├─Decoder: 1-15                          [1, 6247]                 (recursive)\n",
              "│    └─Embedding: 2-42                   [1, 1, 50]                (recursive)\n",
              "│    └─LSTM: 2-43                        [1, 1, 64]                (recursive)\n",
              "│    └─Linear: 2-44                      [1, 6247]                 (recursive)\n",
              "├─Decoder: 1-16                          [1, 6247]                 (recursive)\n",
              "│    └─Embedding: 2-45                   [1, 1, 50]                (recursive)\n",
              "│    └─LSTM: 2-46                        [1, 1, 64]                (recursive)\n",
              "│    └─Linear: 2-47                      [1, 6247]                 (recursive)\n",
              "├─Decoder: 1-17                          [1, 6247]                 (recursive)\n",
              "│    └─Embedding: 2-48                   [1, 1, 50]                (recursive)\n",
              "│    └─LSTM: 2-49                        [1, 1, 64]                (recursive)\n",
              "│    └─Linear: 2-50                      [1, 6247]                 (recursive)\n",
              "├─Decoder: 1-18                          [1, 6247]                 (recursive)\n",
              "│    └─Embedding: 2-51                   [1, 1, 50]                (recursive)\n",
              "│    └─LSTM: 2-52                        [1, 1, 64]                (recursive)\n",
              "│    └─Linear: 2-53                      [1, 6247]                 (recursive)\n",
              "├─Decoder: 1-19                          [1, 6247]                 (recursive)\n",
              "│    └─Embedding: 2-54                   [1, 1, 50]                (recursive)\n",
              "│    └─LSTM: 2-55                        [1, 1, 64]                (recursive)\n",
              "│    └─Linear: 2-56                      [1, 6247]                 (recursive)\n",
              "├─Decoder: 1-20                          [1, 6247]                 (recursive)\n",
              "│    └─Embedding: 2-57                   [1, 1, 50]                (recursive)\n",
              "│    └─LSTM: 2-58                        [1, 1, 64]                (recursive)\n",
              "│    └─Linear: 2-59                      [1, 6247]                 (recursive)\n",
              "├─Decoder: 1-21                          [1, 6247]                 (recursive)\n",
              "│    └─Embedding: 2-60                   [1, 1, 50]                (recursive)\n",
              "│    └─LSTM: 2-61                        [1, 1, 64]                (recursive)\n",
              "│    └─Linear: 2-62                      [1, 6247]                 (recursive)\n",
              "==========================================================================================\n",
              "Total params: 1,243,737\n",
              "Trainable params: 1,044,037\n",
              "Non-trainable params: 199,700\n",
              "Total mult-adds (Units.MEGABYTES): 21.08\n",
              "==========================================================================================\n",
              "Input size (MB): 0.00\n",
              "Forward/backward pass size (MB): 1.04\n",
              "Params size (MB): 4.97\n",
              "Estimated Total Size (MB): 6.01\n",
              "=========================================================================================="
            ]
          },
          "metadata": {},
          "execution_count": 108
        }
      ]
    },
    {
      "cell_type": "code",
      "source": [
        "history_3 = train(model_3,\n",
        "                train_loader,\n",
        "                valid_loader,\n",
        "                optimizer,\n",
        "                criterion,\n",
        "                epochs=EPOCHS\n",
        "                )"
      ],
      "metadata": {
        "colab": {
          "base_uri": "https://localhost:8080/"
        },
        "id": "exa2o140o2tU",
        "outputId": "b14b336f-1f51-47b0-b2bd-db344c3dfaff"
      },
      "execution_count": 109,
      "outputs": [
        {
          "output_type": "stream",
          "name": "stdout",
          "text": [
            "Epoch: 1/10 - Train loss 91.325 - Train accuracy 0.578 - Valid Loss 52.832 - Valid accuracy 0.623\n",
            "Epoch: 2/10 - Train loss 48.485 - Train accuracy 0.644 - Valid Loss 51.578 - Valid accuracy 0.623\n",
            "Epoch: 3/10 - Train loss 47.602 - Train accuracy 0.649 - Valid Loss 51.154 - Valid accuracy 0.634\n",
            "Epoch: 4/10 - Train loss 47.124 - Train accuracy 0.655 - Valid Loss 51.090 - Valid accuracy 0.635\n",
            "Epoch: 5/10 - Train loss 46.855 - Train accuracy 0.657 - Valid Loss 50.980 - Valid accuracy 0.639\n",
            "Epoch: 6/10 - Train loss 46.613 - Train accuracy 0.657 - Valid Loss 50.898 - Valid accuracy 0.641\n",
            "Epoch: 7/10 - Train loss 46.426 - Train accuracy 0.657 - Valid Loss 50.833 - Valid accuracy 0.636\n",
            "Epoch: 8/10 - Train loss 46.280 - Train accuracy 0.657 - Valid Loss 50.971 - Valid accuracy 0.635\n",
            "Epoch: 9/10 - Train loss 46.140 - Train accuracy 0.657 - Valid Loss 50.936 - Valid accuracy 0.635\n",
            "Epoch: 10/10 - Train loss 46.045 - Train accuracy 0.657 - Valid Loss 50.930 - Valid accuracy 0.640\n"
          ]
        }
      ]
    },
    {
      "cell_type": "markdown",
      "source": [
        "## Graficamos las metricas"
      ],
      "metadata": {
        "id": "aCfdgSZEViUy"
      }
    },
    {
      "cell_type": "markdown",
      "source": [
        "### Grafico por modelo"
      ],
      "metadata": {
        "id": "S2qkrEHB0y6I"
      }
    },
    {
      "cell_type": "code",
      "source": [
        "epoch_count = range(1, len(history1['accuracy']) + 1)\n",
        "sns.lineplot(x=epoch_count,  y=history1['accuracy'], label='train')\n",
        "sns.lineplot(x=epoch_count,  y=history1['val_accuracy'], label='valid')\n",
        "plt.title('Accuracy vs Epochs (LSTM size 128)') # Added title here\n",
        "plt.show()"
      ],
      "metadata": {
        "id": "XkfSNTMNGMej",
        "outputId": "0ebed2b4-5da0-4dc6-bd95-03ed8db16b84",
        "colab": {
          "base_uri": "https://localhost:8080/",
          "height": 452
        }
      },
      "execution_count": 110,
      "outputs": [
        {
          "output_type": "display_data",
          "data": {
            "text/plain": [
              "<Figure size 640x480 with 1 Axes>"
            ],
            "image/png": "[encoded data removed]"
          },
          "metadata": {}
        }
      ]
    },
    {
      "cell_type": "code",
      "source": [
        "epoch_count = range(1, len(history_2['accuracy']) + 1)\n",
        "sns.lineplot(x=epoch_count,  y=history_2['accuracy'], label='train')\n",
        "sns.lineplot(x=epoch_count,  y=history_2['val_accuracy'], label='valid')\n",
        "plt.title('Accuracy vs Epochs (LSTM size 256)') # Added title here\n",
        "plt.show()"
      ],
      "metadata": {
        "colab": {
          "base_uri": "https://localhost:8080/",
          "height": 452
        },
        "id": "j4B83bbKkDLs",
        "outputId": "5c00e4e2-2f3b-4715-f7c7-3bb6c6b56aae"
      },
      "execution_count": 111,
      "outputs": [
        {
          "output_type": "display_data",
          "data": {
            "text/plain": [
              "<Figure size 640x480 with 1 Axes>"
            ],
            "image/png": "[encoded data removed]"
          },
          "metadata": {}
        }
      ]
    },
    {
      "cell_type": "code",
      "source": [
        "epoch_count = range(1, len(history_3['accuracy']) + 1)\n",
        "sns.lineplot(x=epoch_count,  y=history_3['accuracy'], label='train')\n",
        "sns.lineplot(x=epoch_count,  y=history_3['val_accuracy'], label='valid')\n",
        "plt.title('Accuracy vs Epochs (LSTM size 64, 5 num_layes)') # Added title here\n",
        "plt.show()"
      ],
      "metadata": {
        "colab": {
          "base_uri": "https://localhost:8080/",
          "height": 452
        },
        "id": "WQN1t-e1p3Sb",
        "outputId": "ec14233f-14d6-476f-d979-73fa231729d7"
      },
      "execution_count": 112,
      "outputs": [
        {
          "output_type": "display_data",
          "data": {
            "text/plain": [
              "<Figure size 640x480 with 1 Axes>"
            ],
            "image/png": "[encoded data removed]"
          },
          "metadata": {}
        }
      ]
    },
    {
      "cell_type": "markdown",
      "source": [
        "### Grafico comparacion entre modelos"
      ],
      "metadata": {
        "id": "zx893tZU02hR"
      }
    },
    {
      "cell_type": "code",
      "source": [
        "epoch_count = range(1, len(history_2['accuracy']) + 1)\n",
        "sns.lineplot(x=epoch_count,  y=history1['val_loss'], label='val loss-lstm_size:128')\n",
        "sns.lineplot(x=epoch_count,  y=history_2['val_loss'], label='val loss-lstm_size:256')\n",
        "sns.lineplot(x=epoch_count,  y=history_3['val_loss'], label='val loss-lstm_size:64')\n",
        "plt.title('lstm_size 128 vs lstm_size 256 vs lstm_size 64 (validation loss)') # Added title here\n",
        "plt.show()"
      ],
      "metadata": {
        "colab": {
          "base_uri": "https://localhost:8080/",
          "height": 452
        },
        "id": "mwBN_M4mkyaN",
        "outputId": "10c0276f-af3d-4919-fe24-c608ea316bc5"
      },
      "execution_count": 113,
      "outputs": [
        {
          "output_type": "display_data",
          "data": {
            "text/plain": [
              "<Figure size 640x480 with 1 Axes>"
            ],
            "image/png": "[encoded data removed]"
          },
          "metadata": {}
        }
      ]
    },
    {
      "cell_type": "markdown",
      "source": [
        "## Prueba"
      ],
      "metadata": {
        "id": "_pDiF3BYGvd1"
      }
    },
    {
      "cell_type": "code",
      "source": [
        "def translate_sentence(model, input_seq):\n",
        "    # Se transforma la sequencia de entrada a los stados \"h\" y \"c\" de la LSTM\n",
        "    # para enviar la primera vez al decoder\"\n",
        "    prev_state = model.encoder(encoder_sequence_test_tensor.to(device))\n",
        "\n",
        "    # Se inicializa la secuencia de entrada al decoder como \"<sos>\"\n",
        "    target_seq = np.zeros((1, 1))\n",
        "    target_seq[0, 0] = word2idx_outputs['<sos>']\n",
        "    target_seq_tensor = torch.from_numpy(target_seq.astype(np.int32))\n",
        "\n",
        "    # Se obtiene el indice que finaliza la inferencia\n",
        "    eos = word2idx_outputs['<eos>']\n",
        "\n",
        "    output_sentence = []\n",
        "    for _ in range(max_out_len):\n",
        "        # Predicción del próximo elemento\n",
        "        output, new_prev_state = model.decoder(target_seq_tensor.to(device), prev_state)\n",
        "        top1 = output.argmax(1).view(-1, 1)\n",
        "        idx = int(top1.cpu())\n",
        "\n",
        "        # Si es \"end of sentece <eos>\" se acaba\n",
        "        if eos == idx:\n",
        "            break\n",
        "\n",
        "        # Transformar ídx a palabra\n",
        "        word = ''\n",
        "        if idx > 0:\n",
        "            word = idx2word_target[idx]\n",
        "            output_sentence.append(word)\n",
        "\n",
        "        # Actualizar los estados dado la ultimo prediccion\n",
        "        prev_state = new_prev_state\n",
        "\n",
        "        # Actualizar secuencia de entrada con la salida (re-alimentacion)\n",
        "        target_seq_tensor = top1\n",
        "\n",
        "    return ' '.join(output_sentence)"
      ],
      "metadata": {
        "id": "XG1qn8cpG3r1"
      },
      "execution_count": 114,
      "outputs": []
    },
    {
      "cell_type": "code",
      "source": [
        "for j in range(10):\n",
        "    i = np.random.choice(len(input_sentences))\n",
        "    input_seq = encoder_input_sequences[i:i+1]\n",
        "    encoder_sequence_test_tensor = torch.from_numpy(input_seq.astype(np.int32))\n",
        "    translation = translate_sentence(model, encoder_sequence_test_tensor)\n",
        "    print(f'sentence {j+1}')\n",
        "    print('----Input:', input_sentences[i])\n",
        "    print('----Response:', translation)"
      ],
      "metadata": {
        "id": "0XpyaouUHJLn",
        "outputId": "6ea2f3f6-7aac-4eb8-ce95-cf8be1785da7",
        "colab": {
          "base_uri": "https://localhost:8080/"
        }
      },
      "execution_count": 115,
      "outputs": [
        {
          "output_type": "stream",
          "name": "stdout",
          "text": [
            "sentence 1\n",
            "----Input: He mentioned her name for the first time.\n",
            "----Response: tom no es un poco de la noche\n",
            "sentence 2\n",
            "----Input: What are you doing up this early?\n",
            "----Response: tom no es un poco de la noche\n",
            "sentence 3\n",
            "----Input: You aren't really going to join the army, are you?\n",
            "----Response: tom no es un poco de la noche\n",
            "sentence 4\n",
            "----Input: When are you going back to Italy?\n",
            "----Response: tom no es un poco de la noche\n",
            "sentence 5\n",
            "----Input: There are people who don't like spinach.\n",
            "----Response: tom no es un poco de la noche\n",
            "sentence 6\n",
            "----Input: Do you have a dog?\n",
            "----Response: tom no es un poco de la noche\n",
            "sentence 7\n",
            "----Input: Write something.\n",
            "----Response: tom no es un poco de la noche\n",
            "sentence 8\n",
            "----Input: Is she single or married?\n",
            "----Response: tom no es un poco de la noche\n",
            "sentence 9\n",
            "----Input: I'm probably not the only one who thinks it's a bad idea to do that.\n",
            "----Response: tom no es un poco de la noche\n",
            "sentence 10\n",
            "----Input: Tom is a promising young man.\n",
            "----Response: tom no es un poco de la noche\n"
          ]
        }
      ]
    },
    {
      "cell_type": "markdown",
      "source": [
        "## Conclusion"
      ],
      "metadata": {
        "id": "R_XnyDYXd_ep"
      }
    },
    {
      "cell_type": "markdown",
      "source": [
        "En general, los tres modelos muestran comportamientos bastante estables durante el entrenamiento, pero con diferencias claras según la configuración del LSTM. El modelo con lstm_size=128 y una sola capa fue el más equilibrado: alcanzó una accuracy de validación cercana al 64% y una pérdida bastante estable desde las primeras épocas. El modelo más grande (lstm_size=256) terminó siendo el más preciso, con una validación que llegó al 66%, mostrando que una mayor capacidad del LSTM ayudó a captar mejor las relaciones entre secuencias, aunque con un inicio más ruidoso y pérdidas más altas al principio. En cambio, el modelo más profundo (num_layers=5, lstm_size=64) no logró mejorar los resultados: tardó más en estabilizarse y su accuracy se quedó en torno al 63%, probablemente porque la red era demasiado profunda para el tamaño de los datos o se dificultó la propagación del gradiente. En resumen, el mejor balance entre rendimiento y estabilidad se dio con el modelo de 256 unidades, mientras que el de 128 mostró resultados sólidos con menos complejidad, y el más profundo no aportó mejoras reales."
      ],
      "metadata": {
        "id": "KuCdYFdyd9ES"
      }
    }
  ]
}