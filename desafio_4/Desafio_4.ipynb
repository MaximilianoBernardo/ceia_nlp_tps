{
  "nbformat": 4,
  "nbformat_minor": 0,
  "metadata": {
    "colab": {
      "provenance": [],
      "collapsed_sections": [
        "deXzCmu_QjM_"
      ],
      "gpuType": "T4",
      "toc_visible": true
    },
    "kernelspec": {
      "name": "python3",
      "display_name": "Python 3"
    },
    "language_info": {
      "name": "python"
    },
    "accelerator": "GPU"
  },
  "cells": [
    {
      "cell_type": "markdown",
      "source": [
        "# Consigna del desafío 4"
      ],
      "metadata": {
        "id": "f7sa3VeL_13m"
      }
    },
    {
      "cell_type": "markdown",
      "source": [
        "Replicar y extender el traductor:\n",
        "- Replicar el modelo en PyTorch.\n",
        "- Extender el entrenamiento a más datos y tamaños de\n",
        "secuencias mayores.\n",
        "- Explorar el impacto de la cantidad de neuronas en\n",
        "las capas recurrentes.\n",
        "- Mostrar 5 ejemplos de traducciones generadas.\n",
        "- Extras que se pueden probar: Embeddings\n",
        "pre-entrenados para los dos idiomas; cambiar la\n",
        "estrategia de generación (por ejemplo muestreo\n",
        "aleatorio);"
      ],
      "metadata": {
        "id": "i-XGDG-1_xVX"
      }
    },
    {
      "cell_type": "markdown",
      "source": [
        "## Importamos librerias"
      ],
      "metadata": {
        "id": "QFEzVb0MALlt"
      }
    },
    {
      "cell_type": "code",
      "source": [
        "!pip install --upgrade --no-cache-dir gdown --quiet\n",
        "# torchsummar actualmente tiene un problema con las LSTM, por eso\n",
        "# se utiliza torchinfo, un fork del proyecto original con el bug solucionado\n",
        "!pip3 install torchinfo\n",
        "!pip install \"numpy<2.0\""
      ],
      "metadata": {
        "id": "p0xZvMyn_k3d",
        "outputId": "9d2f9ae9-3b96-4c55-fea9-029e0a041498",
        "colab": {
          "base_uri": "https://localhost:8080/"
        }
      },
      "execution_count": 1,
      "outputs": [
        {
          "output_type": "stream",
          "name": "stdout",
          "text": [
            "Requirement already satisfied: torchinfo in /usr/local/lib/python3.12/dist-packages (1.8.0)\n",
            "Requirement already satisfied: numpy<2.0 in /usr/local/lib/python3.12/dist-packages (1.26.4)\n"
          ]
        }
      ]
    },
    {
      "cell_type": "code",
      "source": [
        "import re\n",
        "import os\n",
        "import gdown\n",
        "import platform\n",
        "\n",
        "import logging\n",
        "import pickle\n",
        "import numpy as np\n",
        "import pandas as pd\n",
        "import matplotlib.pyplot as plt\n",
        "import seaborn as sns\n",
        "\n",
        "import torch\n",
        "import torch.nn.functional as F\n",
        "import torch.nn as nn\n",
        "from torch.utils.data import Dataset, DataLoader\n",
        "from torchinfo import summary\n",
        "from pathlib import Path\n",
        "from io import StringIO\n",
        "\n"
      ],
      "metadata": {
        "id": "658pOY2H3qnl"
      },
      "execution_count": 2,
      "outputs": []
    },
    {
      "cell_type": "code",
      "source": [
        "cuda = torch.cuda.is_available()\n",
        "device = torch.device('cuda' if torch.cuda.is_available() else 'cpu')\n",
        "device"
      ],
      "metadata": {
        "id": "hQxi1iWZAyHz",
        "outputId": "21a1e496-db32-4cbe-d29e-5c4f78ea4cf9",
        "colab": {
          "base_uri": "https://localhost:8080/"
        }
      },
      "execution_count": 3,
      "outputs": [
        {
          "output_type": "execute_result",
          "data": {
            "text/plain": [
              "device(type='cuda')"
            ]
          },
          "metadata": {},
          "execution_count": 3
        }
      ]
    },
    {
      "cell_type": "markdown",
      "source": [
        "## Importamos el dataset"
      ],
      "metadata": {
        "id": "deXzCmu_QjM_"
      }
    },
    {
      "cell_type": "code",
      "source": [
        "# Descargar la carpeta de dataset\n",
        "#Dataset obtenido del repositorio de “Anki / ManyThings” (el proyecto “manythings.org”)\n",
        "if os.access('spa-eng', os.F_OK) is False:\n",
        "    if os.access('simpsons_dataset.zip', os.F_OK) is False:\n",
        "        url = 'http://storage.googleapis.com/download.tensorflow.org/data/spa-eng.zip'\n",
        "        output = 'spa-eng.zip'\n",
        "        gdown.download(url, output, quiet=False)\n",
        "    !unzip -q spa-eng.zip\n",
        "else:\n",
        "    print(\"El dataset ya se encuentra descargado\")"
      ],
      "metadata": {
        "id": "Hpg5wZUTBaaL",
        "outputId": "90d2dc0b-b080-4a0d-b406-d781003004c7",
        "colab": {
          "base_uri": "https://localhost:8080/"
        }
      },
      "execution_count": 5,
      "outputs": [
        {
          "output_type": "stream",
          "name": "stderr",
          "text": [
            "Downloading...\n",
            "From: http://storage.googleapis.com/download.tensorflow.org/data/spa-eng.zip\n",
            "To: /content/spa-eng.zip\n",
            "100%|██████████| 2.64M/2.64M [00:01<00:00, 2.11MB/s]\n"
          ]
        }
      ]
    },
    {
      "cell_type": "code",
      "execution_count": 6,
      "metadata": {
        "id": "WkrLBJlB3MZ6",
        "outputId": "7d2e25ae-1175-429e-e16a-eeccc35d7254",
        "colab": {
          "base_uri": "https://localhost:8080/"
        }
      },
      "outputs": [
        {
          "output_type": "stream",
          "name": "stdout",
          "text": [
            "--2025-10-13 23:14:15--  http://torch_helpers.py/\n",
            "Resolving torch_helpers.py (torch_helpers.py)... failed: Name or service not known.\n",
            "wget: unable to resolve host address ‘torch_helpers.py’\n",
            "--2025-10-13 23:14:15--  https://raw.githubusercontent.com/FIUBA-Posgrado-Inteligencia-Artificial/procesamiento_lenguaje_natural/main/scripts/torch_helpers.py\n",
            "Resolving raw.githubusercontent.com (raw.githubusercontent.com)... 185.199.108.133, 185.199.109.133, 185.199.110.133, ...\n",
            "Connecting to raw.githubusercontent.com (raw.githubusercontent.com)|185.199.108.133|:443... connected.\n",
            "HTTP request sent, awaiting response... 200 OK\n",
            "Length: 23883 (23K) [text/plain]\n",
            "Saving to: ‘torch_helpers.py’\n",
            "\n",
            "torch_helpers.py    100%[===================>]  23.32K  --.-KB/s    in 0s      \n",
            "\n",
            "2025-10-13 23:14:15 (140 MB/s) - ‘torch_helpers.py’ saved [23883/23883]\n",
            "\n",
            "FINISHED --2025-10-13 23:14:15--\n",
            "Total wall clock time: 0.4s\n",
            "Downloaded: 1 files, 23K in 0s (140 MB/s)\n"
          ]
        }
      ],
      "source": [
        "# Descargamos funciones auxiliares\n",
        "if os.access('torch_helpers.py', os.F_OK) is False:\n",
        "    if platform.system() == 'Windows':\n",
        "        !curl !wget https://raw.githubusercontent.com/FIUBA-Posgrado-Inteligencia-Artificial/procesamiento_lenguaje_natural/main/scripts/torch_helpers.py > torch_helpers.py\n",
        "    else:\n",
        "        !wget torch_helpers.py https://raw.githubusercontent.com/FIUBA-Posgrado-Inteligencia-Artificial/procesamiento_lenguaje_natural/main/scripts/torch_helpers.py\n",
        "\n",
        "from torch_helpers import Tokenizer, pad_sequences"
      ]
    },
    {
      "cell_type": "markdown",
      "source": [
        "### Definimos funciones auxiliares"
      ],
      "metadata": {
        "id": "ORyUq-XsBvhJ"
      }
    },
    {
      "cell_type": "code",
      "source": [
        "def sequence_acc(y_pred, y_test):\n",
        "    y_pred_tag = y_pred.data.max(dim=-1,keepdim=True)[1]\n",
        "    y_test_tag = y_test.data.max(dim=-1,keepdim=True)[1]\n",
        "\n",
        "    batch_size = y_pred_tag.shape[0]\n",
        "    batch_acc = torch.zeros(batch_size)\n",
        "    for b in range(batch_size):\n",
        "        correct_results_sum = (y_pred_tag[b] == y_test_tag[b]).sum().float()\n",
        "        batch_acc[b] = correct_results_sum / y_pred_tag[b].shape[0]\n",
        "\n",
        "    correct_results_sum = batch_acc.sum().float()\n",
        "    acc = correct_results_sum / batch_size\n",
        "    return acc\n",
        "\n",
        "def train(model, train_loader, valid_loader, optimizer, criterion, epochs=100):\n",
        "    # Defino listas para realizar graficas de los resultados\n",
        "    train_loss = []\n",
        "    train_accuracy = []\n",
        "    valid_loss = []\n",
        "    valid_accuracy = []\n",
        "\n",
        "    # Defino mi loop de entrenamiento\n",
        "\n",
        "    for epoch in range(epochs):\n",
        "\n",
        "        epoch_train_loss = 0.0\n",
        "        epoch_train_accuracy = 0.0\n",
        "\n",
        "        for train_encoder_input, train_decoder_input, train_target in train_loader:\n",
        "            # Seteo los gradientes en cero ya que, por defecto, PyTorch\n",
        "            # los va acumulando\n",
        "            optimizer.zero_grad()\n",
        "\n",
        "            output = model(train_encoder_input.to(device), train_decoder_input.to(device))\n",
        "\n",
        "            # Computo el error de la salida comparando contra las etiquetas\n",
        "            # por cada token en cada batch (sequence_loss)\n",
        "            loss = 0\n",
        "            for t in range(train_decoder_input.shape[1]):\n",
        "                loss += criterion(output[:, t, :], train_target[:, t, :])\n",
        "\n",
        "            # Almaceno el error del batch para luego tener el error promedio de la epoca\n",
        "            epoch_train_loss += loss.item()\n",
        "\n",
        "            # Computo el nuevo set de gradientes a lo largo de toda la red\n",
        "            loss.backward()\n",
        "\n",
        "            # Realizo el paso de optimizacion actualizando los parametros de toda la red\n",
        "            optimizer.step()\n",
        "\n",
        "            # Calculo el accuracy del batch\n",
        "            accuracy = sequence_acc(output, train_target)\n",
        "            # Almaceno el accuracy del batch para luego tener el accuracy promedio de la epoca\n",
        "            epoch_train_accuracy += accuracy.item()\n",
        "\n",
        "        # Calculo la media de error para la epoca de entrenamiento.\n",
        "        # La longitud de train_loader es igual a la cantidad de batches dentro de una epoca.\n",
        "        epoch_train_loss = epoch_train_loss / len(train_loader)\n",
        "        train_loss.append(epoch_train_loss)\n",
        "        epoch_train_accuracy = epoch_train_accuracy / len(train_loader)\n",
        "        train_accuracy.append(epoch_train_accuracy)\n",
        "\n",
        "        # Realizo el paso de validación computando error y accuracy, y\n",
        "        # almacenando los valores para imprimirlos y graficarlos\n",
        "        valid_encoder_input, valid_decoder_input, valid_target = next(iter(valid_loader))\n",
        "        output = model(valid_encoder_input.to(device), valid_decoder_input.to(device))\n",
        "\n",
        "        epoch_valid_loss = 0\n",
        "        for t in range(train_decoder_input.shape[1]):\n",
        "                epoch_valid_loss += criterion(output[:, t, :], valid_target[:, t, :])\n",
        "        epoch_valid_loss = epoch_valid_loss.item()\n",
        "\n",
        "        valid_loss.append(epoch_valid_loss)\n",
        "\n",
        "        # Calculo el accuracy de la epoch\n",
        "        epoch_valid_accuracy = sequence_acc(output, valid_target).item()\n",
        "        valid_accuracy.append(epoch_valid_accuracy)\n",
        "\n",
        "        print(f\"Epoch: {epoch+1}/{epochs} - Train loss {epoch_train_loss:.3f} - Train accuracy {epoch_train_accuracy:.3f} - Valid Loss {epoch_valid_loss:.3f} - Valid accuracy {epoch_valid_accuracy:.3f}\")\n",
        "\n",
        "    history = {\n",
        "        \"loss\": train_loss,\n",
        "        \"accuracy\": train_accuracy,\n",
        "        \"val_loss\": valid_loss,\n",
        "        \"val_accuracy\": valid_accuracy,\n",
        "    }\n",
        "    return history"
      ],
      "metadata": {
        "id": "pjjUeSeeBWfr"
      },
      "execution_count": 7,
      "outputs": []
    },
    {
      "cell_type": "markdown",
      "source": [
        "## Preparamos los datos de entrada"
      ],
      "metadata": {
        "id": "v6sWR8erQtLP"
      }
    },
    {
      "cell_type": "code",
      "source": [
        "# dataset_file\n",
        "\n",
        "text_file = \"./spa-eng/spa.txt\"\n",
        "with open(text_file) as f:\n",
        "    lines = f.read().split(\"\\n\")[:-1]\n",
        "\n",
        "# Por limitaciones de RAM no se leen todas las filas\n",
        "MAX_NUM_SENTENCES = 7000\n",
        "\n",
        "# Mezclar el dataset, forzar semilla siempre igual\n",
        "np.random.seed([40])\n",
        "np.random.shuffle(lines)\n",
        "\n",
        "input_sentences = []\n",
        "output_sentences = []\n",
        "output_sentences_inputs = []\n",
        "count = 0\n",
        "\n",
        "for line in lines:\n",
        "    count += 1\n",
        "    if count > MAX_NUM_SENTENCES:\n",
        "        break\n",
        "\n",
        "    if '\\t' not in line:\n",
        "        continue\n",
        "\n",
        "    # Input sentence --> eng\n",
        "    # output --> fra\n",
        "    input_sentence, output = line.rstrip().split('\\t')\n",
        "\n",
        "    # output sentence (decoder_output) tiene <eos>\n",
        "    output_sentence = output + ' <eos>'\n",
        "    # output sentence input (decoder_input) tiene <sos>\n",
        "    output_sentence_input = '<sos> ' + output\n",
        "\n",
        "    input_sentences.append(input_sentence)\n",
        "    output_sentences.append(output_sentence)\n",
        "    output_sentences_inputs.append(output_sentence_input)\n",
        "\n",
        "print(\"Cantidad de rows disponibles:\", len(lines))\n",
        "print(\"Cantidad de rows utilizadas:\", len(input_sentences))"
      ],
      "metadata": {
        "id": "B_d5CMdOB_Nx",
        "outputId": "8ee25b71-970c-487c-c752-960cb9405954",
        "colab": {
          "base_uri": "https://localhost:8080/"
        }
      },
      "execution_count": 8,
      "outputs": [
        {
          "output_type": "stream",
          "name": "stdout",
          "text": [
            "Cantidad de rows disponibles: 118964\n",
            "Cantidad de rows utilizadas: 7000\n"
          ]
        }
      ]
    },
    {
      "cell_type": "code",
      "source": [
        "input_sentences[0], output_sentences[0], output_sentences_inputs[0]"
      ],
      "metadata": {
        "id": "G1GLBYwK3Zls",
        "outputId": "6e3f7b97-ac9d-4574-bc97-9eea708e3b60",
        "colab": {
          "base_uri": "https://localhost:8080/"
        }
      },
      "execution_count": 9,
      "outputs": [
        {
          "output_type": "execute_result",
          "data": {
            "text/plain": [
              "('A deal is a deal.',\n",
              " 'Un trato es un trato. <eos>',\n",
              " '<sos> Un trato es un trato.')"
            ]
          },
          "metadata": {},
          "execution_count": 9
        }
      ]
    },
    {
      "cell_type": "code",
      "source": [
        "# Definir el tamaño máximo del vocabulario\n",
        "MAX_VOCAB_SIZE = 8000"
      ],
      "metadata": {
        "id": "TYTbyMd2CzVi"
      },
      "execution_count": 10,
      "outputs": []
    },
    {
      "cell_type": "code",
      "source": [
        "# Tokenizar las palabras con el Tokenizer de Keras\n",
        "# Definir una máxima cantidad de palabras a utilizar:\n",
        "# - num_words --> the maximum number of words to keep, based on word frequency.\n",
        "# - Only the most common num_words-1 words will be kept.\n",
        "input_tokenizer = Tokenizer(num_words=MAX_VOCAB_SIZE)\n",
        "input_tokenizer.fit_on_texts(input_sentences)\n",
        "input_integer_seq = input_tokenizer.texts_to_sequences(input_sentences)\n",
        "\n",
        "word2idx_inputs = input_tokenizer.word_index\n",
        "print(\"Palabras en el vocabulario:\", len(word2idx_inputs))\n",
        "\n",
        "max_input_len = max(len(sen) for sen in input_integer_seq)\n",
        "print(\"Sentencia de entrada más larga:\", max_input_len)"
      ],
      "metadata": {
        "id": "ICyDnnFrC00e",
        "outputId": "1c7fa69e-e181-45f5-9afb-427a1fefab31",
        "colab": {
          "base_uri": "https://localhost:8080/"
        }
      },
      "execution_count": 11,
      "outputs": [
        {
          "output_type": "stream",
          "name": "stdout",
          "text": [
            "Palabras en el vocabulario: 4153\n",
            "Sentencia de entrada más larga: 32\n"
          ]
        }
      ]
    },
    {
      "cell_type": "code",
      "source": [
        "# A los filtros de símbolos del Tokenizer agregamos el \"¿\",\n",
        "# sacamos los \"<>\" para que no afectar nuestros tokens\n",
        "output_tokenizer = Tokenizer(num_words=MAX_VOCAB_SIZE, filters='!\"#$%&()*+,-./:;=¿?@[\\\\]^_`{|}~\\t\\n')\n",
        "output_tokenizer.fit_on_texts([\"<sos>\", \"<eos>\"] + output_sentences)\n",
        "output_integer_seq = output_tokenizer.texts_to_sequences(output_sentences)\n",
        "output_input_integer_seq = output_tokenizer.texts_to_sequences(output_sentences_inputs)\n",
        "\n",
        "word2idx_outputs = output_tokenizer.word_index\n",
        "print(\"Palabras en el vocabulario:\", len(word2idx_outputs))\n",
        "\n",
        "num_words_output = min(len(word2idx_outputs) + 1, MAX_VOCAB_SIZE) # Se suma 1 por el primer <sos>\n",
        "max_out_len = max(len(sen) for sen in output_integer_seq)\n",
        "print(\"Sentencia de salida más larga:\", max_out_len)"
      ],
      "metadata": {
        "id": "jCvCnUzWC2hx",
        "outputId": "133fb808-4c1c-40ef-facf-fd8d1cb41d59",
        "colab": {
          "base_uri": "https://localhost:8080/"
        }
      },
      "execution_count": 12,
      "outputs": [
        {
          "output_type": "stream",
          "name": "stdout",
          "text": [
            "Palabras en el vocabulario: 6246\n",
            "Sentencia de salida más larga: 36\n"
          ]
        }
      ]
    },
    {
      "cell_type": "code",
      "source": [
        "# Por una cuestion de que no explote la RAM se limitará el tamaño de las sentencias de entrada\n",
        "# a la mitad:\n",
        "max_input_len = 20\n",
        "max_out_len = 20"
      ],
      "metadata": {
        "id": "RR7zEsHpC3_7"
      },
      "execution_count": 13,
      "outputs": []
    },
    {
      "cell_type": "code",
      "source": [
        "print(\"Cantidad de rows del dataset:\", len(input_integer_seq))\n",
        "\n",
        "encoder_input_sequences = pad_sequences(input_integer_seq, maxlen=max_input_len)\n",
        "print(\"encoder_input_sequences shape:\", encoder_input_sequences.shape)\n",
        "\n",
        "decoder_input_sequences = pad_sequences(output_input_integer_seq, maxlen=max_out_len, padding='post')\n",
        "print(\"decoder_input_sequences shape:\", decoder_input_sequences.shape)"
      ],
      "metadata": {
        "id": "LnY71c3AC5gg",
        "outputId": "f2f9518f-6cc1-400c-fdaa-f25defcd77ba",
        "colab": {
          "base_uri": "https://localhost:8080/"
        }
      },
      "execution_count": 14,
      "outputs": [
        {
          "output_type": "stream",
          "name": "stdout",
          "text": [
            "Cantidad de rows del dataset: 7000\n",
            "encoder_input_sequences shape: (7000, 20)\n",
            "decoder_input_sequences shape: (7000, 20)\n"
          ]
        }
      ]
    },
    {
      "cell_type": "code",
      "source": [
        "decoder_output_sequences = pad_sequences(output_integer_seq, maxlen=max_out_len, padding='post')\n",
        "print(\"decoder_output_sequences shape:\", decoder_output_sequences.shape)"
      ],
      "metadata": {
        "id": "rzynSn3AC7BT",
        "outputId": "56bc299f-0ae9-4aa9-e8f1-9e103a86b08b",
        "colab": {
          "base_uri": "https://localhost:8080/"
        }
      },
      "execution_count": 15,
      "outputs": [
        {
          "output_type": "stream",
          "name": "stdout",
          "text": [
            "decoder_output_sequences shape: (7000, 20)\n"
          ]
        }
      ]
    },
    {
      "cell_type": "code",
      "source": [
        "class Data(Dataset):\n",
        "    def __init__(self, encoder_input, decoder_input, decoder_output):\n",
        "        # Convertir los arrays de numpy a tensores.\n",
        "        # pytorch espera en general entradas 32bits\n",
        "        self.encoder_inputs = torch.from_numpy(encoder_input.astype(np.int32))\n",
        "        self.decoder_inputs = torch.from_numpy(decoder_input.astype(np.int32))\n",
        "        # Transformar los datos a oneHotEncoding\n",
        "        # la loss function esperan la salida float\n",
        "        self.decoder_outputs = F.one_hot(torch.from_numpy(decoder_output).to(torch.int64), num_classes=num_words_output).float()\n",
        "\n",
        "        self.len = self.decoder_outputs.shape[0]\n",
        "\n",
        "    def __getitem__(self,index):\n",
        "        return self.encoder_inputs[index], self.decoder_inputs[index], self.decoder_outputs[index]\n",
        "\n",
        "    def __len__(self):\n",
        "        return self.len\n",
        "\n",
        "data_set = Data(encoder_input_sequences, decoder_input_sequences, decoder_output_sequences)\n",
        "\n",
        "encoder_input_size = data_set.encoder_inputs.shape[1]\n",
        "print(\"encoder_input_size:\", encoder_input_size)\n",
        "\n",
        "decoder_input_size = data_set.decoder_inputs.shape[1]\n",
        "print(\"decoder_input_size:\", decoder_input_size)\n",
        "\n",
        "output_dim = data_set.decoder_outputs.shape[2]\n",
        "print(\"Output dim\", output_dim)"
      ],
      "metadata": {
        "id": "rjS6jgyIFDIi",
        "colab": {
          "base_uri": "https://localhost:8080/"
        },
        "outputId": "e56e3fdd-2bb1-4670-b809-91e8f89ed61e"
      },
      "execution_count": 16,
      "outputs": [
        {
          "output_type": "stream",
          "name": "stdout",
          "text": [
            "encoder_input_size: 20\n",
            "decoder_input_size: 20\n",
            "Output dim 6247\n"
          ]
        }
      ]
    },
    {
      "cell_type": "code",
      "source": [
        "torch.manual_seed(42)\n",
        "valid_set_size = int(data_set.len * 0.2)\n",
        "train_set_size = data_set.len - valid_set_size\n",
        "\n",
        "train_set = torch.utils.data.Subset(data_set, range(train_set_size))\n",
        "valid_set = torch.utils.data.Subset(data_set, range(train_set_size, data_set.len))\n",
        "\n",
        "print(\"Tamaño del conjunto de entrenamiento:\", len(train_set))\n",
        "print(\"Tamaño del conjunto de validacion:\", len(valid_set))\n",
        "\n",
        "train_loader = torch.utils.data.DataLoader(train_set, batch_size=32, shuffle=True)\n",
        "valid_loader = torch.utils.data.DataLoader(valid_set, batch_size=32, shuffle=False)"
      ],
      "metadata": {
        "id": "Czl6MKW6FF8K",
        "outputId": "a54ee0c6-9ab8-4502-bf39-1363f8472a3a",
        "colab": {
          "base_uri": "https://localhost:8080/"
        }
      },
      "execution_count": 17,
      "outputs": [
        {
          "output_type": "stream",
          "name": "stdout",
          "text": [
            "Tamaño del conjunto de entrenamiento: 5600\n",
            "Tamaño del conjunto de validacion: 1400\n"
          ]
        }
      ]
    },
    {
      "cell_type": "markdown",
      "source": [
        "## Definicion del modelo"
      ],
      "metadata": {
        "id": "qyRKeUl1SPS_"
      }
    },
    {
      "cell_type": "code",
      "source": [
        "# Descargar los embeddings desde un gogle drive (es la forma más rápida)\n",
        "# NOTA: No hay garantía de que estos links perduren, en caso de que no estén\n",
        "# disponibles descargar de la página oficial como se explica en el siguiente bloque\n",
        "if os.access('gloveembedding.pkl', os.F_OK) is False:\n",
        "    url = 'https://drive.google.com/uc?id=1wlDBOrxPq2-3htQ6ryVo7K1XnzLcfh4r&export=download'\n",
        "    output = 'gloveembedding.pkl'\n",
        "    gdown.download(url, output, quiet=False)\n",
        "else:\n",
        "    print(\"Los embeddings gloveembedding.pkl ya están descargados\")"
      ],
      "metadata": {
        "id": "eXPNmICiFJUD",
        "outputId": "a1db2ef0-43a2-4022-a520-daaa1d55ce12",
        "colab": {
          "base_uri": "https://localhost:8080/"
        }
      },
      "execution_count": 18,
      "outputs": [
        {
          "output_type": "stream",
          "name": "stderr",
          "text": [
            "Downloading...\n",
            "From (original): https://drive.google.com/uc?id=1wlDBOrxPq2-3htQ6ryVo7K1XnzLcfh4r&export=download\n",
            "From (redirected): https://drive.google.com/uc?id=1wlDBOrxPq2-3htQ6ryVo7K1XnzLcfh4r&export=download&confirm=t&uuid=7889c262-5832-4690-b3dd-d1fcc9cdb829\n",
            "To: /content/gloveembedding.pkl\n",
            "100%|██████████| 525M/525M [00:06<00:00, 78.5MB/s]\n"
          ]
        }
      ]
    },
    {
      "cell_type": "code",
      "source": [
        "class WordsEmbeddings(object):\n",
        "    logger = logging.getLogger(__name__)\n",
        "\n",
        "    def __init__(self):\n",
        "        # load the embeddings\n",
        "        words_embedding_pkl = Path(self.PKL_PATH)\n",
        "        if not words_embedding_pkl.is_file():\n",
        "            words_embedding_txt = Path(self.WORD_TO_VEC_MODEL_TXT_PATH)\n",
        "            assert words_embedding_txt.is_file(), 'Words embedding not available'\n",
        "            embeddings = self.convert_model_to_pickle()\n",
        "        else:\n",
        "            embeddings = self.load_model_from_pickle()\n",
        "        self.embeddings = embeddings\n",
        "        # build the vocabulary hashmap\n",
        "        index = np.arange(self.embeddings.shape[0])\n",
        "        # Dicctionarios para traducir de embedding a IDX de la palabra\n",
        "        self.word2idx = dict(zip(self.embeddings['word'], index))\n",
        "        self.idx2word = dict(zip(index, self.embeddings['word']))\n",
        "\n",
        "    def get_words_embeddings(self, words):\n",
        "        words_idxs = self.words2idxs(words)\n",
        "        return self.embeddings[words_idxs]['embedding']\n",
        "\n",
        "    def words2idxs(self, words):\n",
        "        return np.array([self.word2idx.get(word, -1) for word in words])\n",
        "\n",
        "    def idxs2words(self, idxs):\n",
        "        return np.array([self.idx2word.get(idx, '-1') for idx in idxs])\n",
        "\n",
        "    def load_model_from_pickle(self):\n",
        "        self.logger.debug(\n",
        "            'loading words embeddings from pickle {}'.format(\n",
        "                self.PKL_PATH\n",
        "            )\n",
        "        )\n",
        "        max_bytes = 2**28 - 1 # 256MB\n",
        "        bytes_in = bytearray(0)\n",
        "        input_size = os.path.getsize(self.PKL_PATH)\n",
        "        with open(self.PKL_PATH, 'rb') as f_in:\n",
        "            for _ in range(0, input_size, max_bytes):\n",
        "                bytes_in += f_in.read(max_bytes)\n",
        "        embeddings = pickle.loads(bytes_in)\n",
        "        self.logger.debug('words embeddings loaded')\n",
        "        return embeddings\n",
        "\n",
        "    def convert_model_to_pickle(self):\n",
        "        # create a numpy strctured array:\n",
        "        # word     embedding\n",
        "        # U50      np.float32[]\n",
        "        # word_1   a, b, c\n",
        "        # word_2   d, e, f\n",
        "        # ...\n",
        "        # word_n   g, h, i\n",
        "        self.logger.debug(\n",
        "            'converting and loading words embeddings from text file {}'.format(\n",
        "                self.WORD_TO_VEC_MODEL_TXT_PATH\n",
        "            )\n",
        "        )\n",
        "        structure = [('word', np.dtype('U' + str(self.WORD_MAX_SIZE))),\n",
        "                     ('embedding', np.float32, (self.N_FEATURES,))]\n",
        "        structure = np.dtype(structure)\n",
        "        # load numpy array from disk using a generator\n",
        "        with open(self.WORD_TO_VEC_MODEL_TXT_PATH, encoding=\"utf8\") as words_embeddings_txt:\n",
        "            embeddings_gen = (\n",
        "                (line.split()[0], line.split()[1:]) for line in words_embeddings_txt\n",
        "                if len(line.split()[1:]) == self.N_FEATURES\n",
        "            )\n",
        "            embeddings = np.fromiter(embeddings_gen, structure)\n",
        "        # add a null embedding\n",
        "        null_embedding = np.array(\n",
        "            [('null_embedding', np.zeros((self.N_FEATURES,), dtype=np.float32))],\n",
        "            dtype=structure\n",
        "        )\n",
        "        embeddings = np.concatenate([embeddings, null_embedding])\n",
        "        # dump numpy array to disk using pickle\n",
        "        max_bytes = 2**28 - 1 # # 256MB\n",
        "        bytes_out = pickle.dumps(embeddings, protocol=pickle.HIGHEST_PROTOCOL)\n",
        "        with open(self.PKL_PATH, 'wb') as f_out:\n",
        "            for idx in range(0, len(bytes_out), max_bytes):\n",
        "                f_out.write(bytes_out[idx:idx+max_bytes])\n",
        "        self.logger.debug('words embeddings loaded')\n",
        "        return embeddings\n",
        "\n",
        "\n",
        "class GloveEmbeddings(WordsEmbeddings):\n",
        "    WORD_TO_VEC_MODEL_TXT_PATH = 'glove.twitter.27B.50d.txt'\n",
        "    PKL_PATH = 'gloveembedding.pkl'\n",
        "    N_FEATURES = 50\n",
        "    WORD_MAX_SIZE = 60"
      ],
      "metadata": {
        "id": "3bkADpp1FTHY"
      },
      "execution_count": 19,
      "outputs": []
    },
    {
      "cell_type": "code",
      "source": [
        "# Por una cuestion de RAM se utilizará los embeddings de Glove de dimension 50\n",
        "model_embeddings = GloveEmbeddings()"
      ],
      "metadata": {
        "id": "8WhYBwPEFgWb"
      },
      "execution_count": 20,
      "outputs": []
    },
    {
      "cell_type": "code",
      "source": [
        "# Crear la Embedding matrix de las secuencias\n",
        "# en ingles\n",
        "\n",
        "print('preparing embedding matrix...')\n",
        "embed_dim = model_embeddings.N_FEATURES\n",
        "words_not_found = []\n",
        "\n",
        "# word_index provieen del tokenizer\n",
        "\n",
        "nb_words = min(MAX_VOCAB_SIZE, len(word2idx_inputs)) # vocab_size\n",
        "embedding_matrix = np.zeros((nb_words, embed_dim))\n",
        "for word, i in word2idx_inputs.items():\n",
        "    if i >= nb_words:\n",
        "        continue\n",
        "    embedding_vector = model_embeddings.get_words_embeddings(word)[0]\n",
        "    if (embedding_vector is not None) and len(embedding_vector) > 0:\n",
        "\n",
        "        embedding_matrix[i] = embedding_vector\n",
        "    else:\n",
        "        # words not found in embedding index will be all-zeros.\n",
        "        words_not_found.append(word)\n",
        "\n",
        "print('number of null word embeddings:', np.sum(np.sum(embedding_matrix, axis=1) == 0))"
      ],
      "metadata": {
        "id": "cwfCV6u_Fh5U",
        "outputId": "ddb130ac-25bb-48cc-af66-56dfdcbae9f9",
        "colab": {
          "base_uri": "https://localhost:8080/"
        }
      },
      "execution_count": 21,
      "outputs": [
        {
          "output_type": "stream",
          "name": "stdout",
          "text": [
            "preparing embedding matrix...\n",
            "number of null word embeddings: 38\n"
          ]
        }
      ]
    },
    {
      "cell_type": "code",
      "source": [
        "# Armar lo conversores de indice a palabra:\n",
        "idx2word_input = {v:k for k, v in word2idx_inputs.items()}\n",
        "idx2word_target = {v:k for k, v in word2idx_outputs.items()}"
      ],
      "metadata": {
        "id": "ubAiyQQrGpfM"
      },
      "execution_count": 22,
      "outputs": []
    },
    {
      "cell_type": "code",
      "source": [
        "class Encoder(nn.Module):\n",
        "    def __init__(self, vocab_size, lstm_size=128, num_layers=1):\n",
        "        super().__init__()\n",
        "        # num_embeddings = vocab_size, definido por le Tokenizador\n",
        "        # embedding_dim = 50 --> dimensión de los embeddings utilizados\n",
        "        self.lstm_size = lstm_size\n",
        "        self.num_layers = num_layers\n",
        "        self.embedding_dim = embed_dim\n",
        "        self.embedding = nn.Embedding(num_embeddings=vocab_size, embedding_dim=self.embedding_dim, padding_idx=0)\n",
        "        self.embedding.weight.data.copy_(torch.from_numpy(embedding_matrix))\n",
        "        self.embedding.weight.requires_grad = False  # marcar como layer no entrenable (freeze)\n",
        "        self.lstm = nn.LSTM(input_size=self.embedding_dim, hidden_size=self.lstm_size, batch_first=True,\n",
        "                            num_layers=self.num_layers) # LSTM layer\n",
        "\n",
        "    def forward(self, x):\n",
        "        out = self.embedding(x)\n",
        "        lstm_output, (ht, ct) = self.lstm(out)\n",
        "        return (ht, ct)\n",
        "\n",
        "class Decoder(nn.Module):\n",
        "    def __init__(self, vocab_size, output_dim, lstm_size=128, num_layers=1):\n",
        "        super().__init__()\n",
        "        # num_embeddings = vocab_size, definido por le Tokenizador\n",
        "        # embedding_dim = 50 --> dimensión de los embeddings utilizados\n",
        "        self.lstm_size = lstm_size\n",
        "        self.num_layers = num_layers\n",
        "        self.embedding_dim = embed_dim\n",
        "        self.output_dim = output_dim\n",
        "\n",
        "        self.embedding = nn.Embedding(num_embeddings=vocab_size, embedding_dim=self.embedding_dim, padding_idx=0)\n",
        "        self.lstm = nn.LSTM(input_size=self.embedding_dim, hidden_size=self.lstm_size, batch_first=True,\n",
        "                            num_layers=self.num_layers) # LSTM layer\n",
        "        self.fc1 = nn.Linear(in_features=self.lstm_size, out_features=self.output_dim) # Fully connected layer\n",
        "\n",
        "        self.softmax = nn.Softmax(dim=1) # normalize in dim 1\n",
        "\n",
        "    def forward(self, x, prev_state):\n",
        "        out = self.embedding(x)\n",
        "        lstm_output, (ht, ct) = self.lstm(out, prev_state)\n",
        "        out = self.fc1(lstm_output[:, -1, :])  # sin softmax\n",
        "        return out, (ht, ct)\n",
        "\n",
        "class Seq2Seq(nn.Module):\n",
        "    def __init__(self, encoder, decoder):\n",
        "        super().__init__()\n",
        "\n",
        "        self.encoder = encoder\n",
        "        self.decoder = decoder\n",
        "\n",
        "        assert encoder.lstm_size == decoder.lstm_size, \\\n",
        "            \"Hidden dimensions of encoder and decoder must be equal!\"\n",
        "        assert encoder.num_layers == decoder.num_layers, \\\n",
        "            \"Encoder and decoder must have equal number of layers!\"\n",
        "\n",
        "    def forward(self, encoder_input, decoder_input):\n",
        "        batch_size = decoder_input.shape[0]\n",
        "        decoder_input_len = decoder_input.shape[1]\n",
        "        vocab_size = self.decoder.output_dim\n",
        "\n",
        "        # tensor para almacenar la salida\n",
        "        # (batch_size, sentence_len, one_hot_size)\n",
        "        outputs = torch.zeros(batch_size, decoder_input_len, vocab_size)\n",
        "\n",
        "        # ultimo hidden state del encoder, primer estado oculto del decoder\n",
        "        prev_state = self.encoder(encoder_input)\n",
        "\n",
        "        # En la primera iteracion se toma el primer token de target (<sos>)\n",
        "        input = decoder_input[:, 0:1]\n",
        "\n",
        "        for t in range(decoder_input_len):\n",
        "            # t --> token index\n",
        "\n",
        "            # utilizamos método \"teacher forcing\", es decir que durante\n",
        "            # el entrenamiento no realimentamos la salida del decoder\n",
        "            # sino el token correcto que sigue en target\n",
        "            input = decoder_input[:, t:t+1]\n",
        "\n",
        "            # ingresar cada token embedding, uno por uno junto al hidden state\n",
        "            # recibir el output del decoder (softmax)\n",
        "            output, prev_state = self.decoder(input, prev_state)\n",
        "            top1 = output.argmax(1).view(-1, 1)\n",
        "\n",
        "            # Sino se usará \"teacher forcing\" habría que descomentar\n",
        "            # esta linea.\n",
        "            # Hay ejemplos dandos vuelta en donde se utilza un random\n",
        "            # para ver en cada vuelta que técnica se aplica\n",
        "            #input = top1\n",
        "\n",
        "            # guardar cada salida (softmax)\n",
        "            outputs[:, t, :] = output\n",
        "\n",
        "        return outputs"
      ],
      "metadata": {
        "id": "D7NznlbVFoSp"
      },
      "execution_count": 23,
      "outputs": []
    },
    {
      "cell_type": "markdown",
      "source": [
        "## Entrenamos el modelo"
      ],
      "metadata": {
        "id": "g9o9I79UVdKY"
      }
    },
    {
      "cell_type": "markdown",
      "source": [
        "### Encoder-Decoder con 128 de lstm_size"
      ],
      "metadata": {
        "id": "wbruwHy2jecy"
      }
    },
    {
      "cell_type": "code",
      "source": [
        "EPOCHS = 10"
      ],
      "metadata": {
        "id": "ucAX2GXmk8DN"
      },
      "execution_count": 24,
      "outputs": []
    },
    {
      "cell_type": "code",
      "source": [
        "encoder = Encoder(vocab_size=nb_words)\n",
        "if cuda: encoder.cuda()\n",
        "# decoder --> vocab_size == output_dim --> porque recibe y devuelve palabras en el mismo vocabulario\n",
        "decoder = Decoder(vocab_size=num_words_output, output_dim=num_words_output)\n",
        "if cuda: decoder.cuda()\n",
        "\n",
        "model = Seq2Seq(encoder, decoder)\n",
        "if cuda: model.cuda()\n",
        "\n",
        "# Crear el optimizador la una función de error\n",
        "optimizer = torch.optim.Adam(model.parameters(), lr=0.001)\n",
        "criterion = torch.nn.CrossEntropyLoss()  # Para clasificación multi categórica\n",
        "\n",
        "# Move input data to the device before passing it to summary\n",
        "sample_encoder_input, sample_decoder_input, _ = data_set[0:1]\n",
        "summary(model, input_data=(sample_encoder_input.to(device), sample_decoder_input.to(device)))"
      ],
      "metadata": {
        "colab": {
          "base_uri": "https://localhost:8080/"
        },
        "id": "ZD0KFwY2jdoG",
        "outputId": "b7020058-7a9b-48e0-f406-516ca220a1b3"
      },
      "execution_count": 25,
      "outputs": [
        {
          "output_type": "execute_result",
          "data": {
            "text/plain": [
              "==========================================================================================\n",
              "Layer (type:depth-idx)                   Output Shape              Param #\n",
              "==========================================================================================\n",
              "Seq2Seq                                  [1, 20, 6247]             --\n",
              "├─Encoder: 1-1                           [1, 1, 128]               --\n",
              "│    └─Embedding: 2-1                    [1, 20, 50]               (207,650)\n",
              "│    └─LSTM: 2-2                         [1, 20, 128]              92,160\n",
              "├─Decoder: 1-2                           [1, 6247]                 --\n",
              "│    └─Embedding: 2-3                    [1, 1, 50]                312,350\n",
              "│    └─LSTM: 2-4                         [1, 1, 128]               92,160\n",
              "│    └─Linear: 2-5                       [1, 6247]                 805,863\n",
              "├─Decoder: 1-3                           [1, 6247]                 (recursive)\n",
              "│    └─Embedding: 2-6                    [1, 1, 50]                (recursive)\n",
              "│    └─LSTM: 2-7                         [1, 1, 128]               (recursive)\n",
              "│    └─Linear: 2-8                       [1, 6247]                 (recursive)\n",
              "├─Decoder: 1-4                           [1, 6247]                 (recursive)\n",
              "│    └─Embedding: 2-9                    [1, 1, 50]                (recursive)\n",
              "│    └─LSTM: 2-10                        [1, 1, 128]               (recursive)\n",
              "│    └─Linear: 2-11                      [1, 6247]                 (recursive)\n",
              "├─Decoder: 1-5                           [1, 6247]                 (recursive)\n",
              "│    └─Embedding: 2-12                   [1, 1, 50]                (recursive)\n",
              "│    └─LSTM: 2-13                        [1, 1, 128]               (recursive)\n",
              "│    └─Linear: 2-14                      [1, 6247]                 (recursive)\n",
              "├─Decoder: 1-6                           [1, 6247]                 (recursive)\n",
              "│    └─Embedding: 2-15                   [1, 1, 50]                (recursive)\n",
              "│    └─LSTM: 2-16                        [1, 1, 128]               (recursive)\n",
              "│    └─Linear: 2-17                      [1, 6247]                 (recursive)\n",
              "├─Decoder: 1-7                           [1, 6247]                 (recursive)\n",
              "│    └─Embedding: 2-18                   [1, 1, 50]                (recursive)\n",
              "│    └─LSTM: 2-19                        [1, 1, 128]               (recursive)\n",
              "│    └─Linear: 2-20                      [1, 6247]                 (recursive)\n",
              "├─Decoder: 1-8                           [1, 6247]                 (recursive)\n",
              "│    └─Embedding: 2-21                   [1, 1, 50]                (recursive)\n",
              "│    └─LSTM: 2-22                        [1, 1, 128]               (recursive)\n",
              "│    └─Linear: 2-23                      [1, 6247]                 (recursive)\n",
              "├─Decoder: 1-9                           [1, 6247]                 (recursive)\n",
              "│    └─Embedding: 2-24                   [1, 1, 50]                (recursive)\n",
              "│    └─LSTM: 2-25                        [1, 1, 128]               (recursive)\n",
              "│    └─Linear: 2-26                      [1, 6247]                 (recursive)\n",
              "├─Decoder: 1-10                          [1, 6247]                 (recursive)\n",
              "│    └─Embedding: 2-27                   [1, 1, 50]                (recursive)\n",
              "│    └─LSTM: 2-28                        [1, 1, 128]               (recursive)\n",
              "│    └─Linear: 2-29                      [1, 6247]                 (recursive)\n",
              "├─Decoder: 1-11                          [1, 6247]                 (recursive)\n",
              "│    └─Embedding: 2-30                   [1, 1, 50]                (recursive)\n",
              "│    └─LSTM: 2-31                        [1, 1, 128]               (recursive)\n",
              "│    └─Linear: 2-32                      [1, 6247]                 (recursive)\n",
              "├─Decoder: 1-12                          [1, 6247]                 (recursive)\n",
              "│    └─Embedding: 2-33                   [1, 1, 50]                (recursive)\n",
              "│    └─LSTM: 2-34                        [1, 1, 128]               (recursive)\n",
              "│    └─Linear: 2-35                      [1, 6247]                 (recursive)\n",
              "├─Decoder: 1-13                          [1, 6247]                 (recursive)\n",
              "│    └─Embedding: 2-36                   [1, 1, 50]                (recursive)\n",
              "│    └─LSTM: 2-37                        [1, 1, 128]               (recursive)\n",
              "│    └─Linear: 2-38                      [1, 6247]                 (recursive)\n",
              "├─Decoder: 1-14                          [1, 6247]                 (recursive)\n",
              "│    └─Embedding: 2-39                   [1, 1, 50]                (recursive)\n",
              "│    └─LSTM: 2-40                        [1, 1, 128]               (recursive)\n",
              "│    └─Linear: 2-41                      [1, 6247]                 (recursive)\n",
              "├─Decoder: 1-15                          [1, 6247]                 (recursive)\n",
              "│    └─Embedding: 2-42                   [1, 1, 50]                (recursive)\n",
              "│    └─LSTM: 2-43                        [1, 1, 128]               (recursive)\n",
              "│    └─Linear: 2-44                      [1, 6247]                 (recursive)\n",
              "├─Decoder: 1-16                          [1, 6247]                 (recursive)\n",
              "│    └─Embedding: 2-45                   [1, 1, 50]                (recursive)\n",
              "│    └─LSTM: 2-46                        [1, 1, 128]               (recursive)\n",
              "│    └─Linear: 2-47                      [1, 6247]                 (recursive)\n",
              "├─Decoder: 1-17                          [1, 6247]                 (recursive)\n",
              "│    └─Embedding: 2-48                   [1, 1, 50]                (recursive)\n",
              "│    └─LSTM: 2-49                        [1, 1, 128]               (recursive)\n",
              "│    └─Linear: 2-50                      [1, 6247]                 (recursive)\n",
              "├─Decoder: 1-18                          [1, 6247]                 (recursive)\n",
              "│    └─Embedding: 2-51                   [1, 1, 50]                (recursive)\n",
              "│    └─LSTM: 2-52                        [1, 1, 128]               (recursive)\n",
              "│    └─Linear: 2-53                      [1, 6247]                 (recursive)\n",
              "├─Decoder: 1-19                          [1, 6247]                 (recursive)\n",
              "│    └─Embedding: 2-54                   [1, 1, 50]                (recursive)\n",
              "│    └─LSTM: 2-55                        [1, 1, 128]               (recursive)\n",
              "│    └─Linear: 2-56                      [1, 6247]                 (recursive)\n",
              "├─Decoder: 1-20                          [1, 6247]                 (recursive)\n",
              "│    └─Embedding: 2-57                   [1, 1, 50]                (recursive)\n",
              "│    └─LSTM: 2-58                        [1, 1, 128]               (recursive)\n",
              "│    └─Linear: 2-59                      [1, 6247]                 (recursive)\n",
              "├─Decoder: 1-21                          [1, 6247]                 (recursive)\n",
              "│    └─Embedding: 2-60                   [1, 1, 50]                (recursive)\n",
              "│    └─LSTM: 2-61                        [1, 1, 128]               (recursive)\n",
              "│    └─Linear: 2-62                      [1, 6247]                 (recursive)\n",
              "==========================================================================================\n",
              "Total params: 1,510,183\n",
              "Trainable params: 1,302,533\n",
              "Non-trainable params: 207,650\n",
              "Total mult-adds (Units.MEGABYTES): 26.26\n",
              "==========================================================================================\n",
              "Input size (MB): 0.00\n",
              "Forward/backward pass size (MB): 1.06\n",
              "Params size (MB): 6.04\n",
              "Estimated Total Size (MB): 7.10\n",
              "=========================================================================================="
            ]
          },
          "metadata": {},
          "execution_count": 25
        }
      ]
    },
    {
      "cell_type": "code",
      "source": [
        "history1 = train(model,\n",
        "                train_loader,\n",
        "                valid_loader,\n",
        "                optimizer,\n",
        "                criterion,\n",
        "                epochs=EPOCHS\n",
        "                )"
      ],
      "metadata": {
        "id": "FKIEbU7qFrru",
        "outputId": "35a0bac7-e990-4456-d262-27c0df6d087f",
        "colab": {
          "base_uri": "https://localhost:8080/"
        }
      },
      "execution_count": 26,
      "outputs": [
        {
          "output_type": "stream",
          "name": "stderr",
          "text": [
            "/usr/local/lib/python3.12/dist-packages/torch/autograd/graph.py:829: UserWarning: Attempting to run cuBLAS, but there was no current CUDA context! Attempting to set the primary context... (Triggered internally at /pytorch/aten/src/ATen/cuda/CublasHandlePool.cpp:179.)\n",
            "  return Variable._execution_engine.run_backward(  # Calls into the C++ engine to run the backward pass\n"
          ]
        },
        {
          "output_type": "stream",
          "name": "stdout",
          "text": [
            "Epoch: 1/10 - Train loss 61.426 - Train accuracy 0.634 - Valid Loss 47.423 - Valid accuracy 0.641\n",
            "Epoch: 2/10 - Train loss 42.266 - Train accuracy 0.684 - Valid Loss 45.558 - Valid accuracy 0.667\n",
            "Epoch: 3/10 - Train loss 40.245 - Train accuracy 0.697 - Valid Loss 44.351 - Valid accuracy 0.680\n",
            "Epoch: 4/10 - Train loss 38.492 - Train accuracy 0.708 - Valid Loss 42.960 - Valid accuracy 0.688\n",
            "Epoch: 5/10 - Train loss 36.897 - Train accuracy 0.715 - Valid Loss 42.021 - Valid accuracy 0.691\n",
            "Epoch: 6/10 - Train loss 35.457 - Train accuracy 0.721 - Valid Loss 41.050 - Valid accuracy 0.695\n",
            "Epoch: 7/10 - Train loss 34.087 - Train accuracy 0.728 - Valid Loss 40.291 - Valid accuracy 0.705\n",
            "Epoch: 8/10 - Train loss 32.814 - Train accuracy 0.732 - Valid Loss 39.677 - Valid accuracy 0.705\n",
            "Epoch: 9/10 - Train loss 31.611 - Train accuracy 0.736 - Valid Loss 39.104 - Valid accuracy 0.709\n",
            "Epoch: 10/10 - Train loss 30.430 - Train accuracy 0.740 - Valid Loss 38.670 - Valid accuracy 0.717\n"
          ]
        }
      ]
    },
    {
      "cell_type": "markdown",
      "source": [
        "### Encoder-Decoder con 256 de lstm_size"
      ],
      "metadata": {
        "id": "rRTld8J5jkDO"
      }
    },
    {
      "cell_type": "code",
      "source": [
        "encoder_2 = Encoder(vocab_size=nb_words, lstm_size=256)\n",
        "if cuda: encoder_2.cuda()\n",
        "# decoder --> vocab_size == output_dim --> porque recibe y devuelve palabras en el mismo vocabulario\n",
        "decoder_2 = Decoder(vocab_size=num_words_output, output_dim=num_words_output, lstm_size=256)\n",
        "if cuda: decoder_2.cuda()\n",
        "\n",
        "model_2 = Seq2Seq(encoder_2, decoder_2)\n",
        "if cuda: model_2.cuda()\n",
        "\n",
        "# Crear el optimizador la una función de error\n",
        "optimizer = torch.optim.Adam(model_2.parameters(), lr=0.001)\n",
        "criterion = torch.nn.CrossEntropyLoss()  # Para clasificación multi categórica\n",
        "\n",
        "# Move input data to the device before passing it to summary\n",
        "sample_encoder_input, sample_decoder_input, _ = data_set[0:1]\n",
        "summary(model_2, input_data=(sample_encoder_input.to(device), sample_decoder_input.to(device)))"
      ],
      "metadata": {
        "colab": {
          "base_uri": "https://localhost:8080/"
        },
        "id": "hbE02xfFjWTq",
        "outputId": "dce99155-4db3-4dea-b11d-cbe48c8c9690"
      },
      "execution_count": 27,
      "outputs": [
        {
          "output_type": "execute_result",
          "data": {
            "text/plain": [
              "==========================================================================================\n",
              "Layer (type:depth-idx)                   Output Shape              Param #\n",
              "==========================================================================================\n",
              "Seq2Seq                                  [1, 20, 6247]             --\n",
              "├─Encoder: 1-1                           [1, 1, 256]               --\n",
              "│    └─Embedding: 2-1                    [1, 20, 50]               (207,650)\n",
              "│    └─LSTM: 2-2                         [1, 20, 256]              315,392\n",
              "├─Decoder: 1-2                           [1, 6247]                 --\n",
              "│    └─Embedding: 2-3                    [1, 1, 50]                312,350\n",
              "│    └─LSTM: 2-4                         [1, 1, 256]               315,392\n",
              "│    └─Linear: 2-5                       [1, 6247]                 1,605,479\n",
              "├─Decoder: 1-3                           [1, 6247]                 (recursive)\n",
              "│    └─Embedding: 2-6                    [1, 1, 50]                (recursive)\n",
              "│    └─LSTM: 2-7                         [1, 1, 256]               (recursive)\n",
              "│    └─Linear: 2-8                       [1, 6247]                 (recursive)\n",
              "├─Decoder: 1-4                           [1, 6247]                 (recursive)\n",
              "│    └─Embedding: 2-9                    [1, 1, 50]                (recursive)\n",
              "│    └─LSTM: 2-10                        [1, 1, 256]               (recursive)\n",
              "│    └─Linear: 2-11                      [1, 6247]                 (recursive)\n",
              "├─Decoder: 1-5                           [1, 6247]                 (recursive)\n",
              "│    └─Embedding: 2-12                   [1, 1, 50]                (recursive)\n",
              "│    └─LSTM: 2-13                        [1, 1, 256]               (recursive)\n",
              "│    └─Linear: 2-14                      [1, 6247]                 (recursive)\n",
              "├─Decoder: 1-6                           [1, 6247]                 (recursive)\n",
              "│    └─Embedding: 2-15                   [1, 1, 50]                (recursive)\n",
              "│    └─LSTM: 2-16                        [1, 1, 256]               (recursive)\n",
              "│    └─Linear: 2-17                      [1, 6247]                 (recursive)\n",
              "├─Decoder: 1-7                           [1, 6247]                 (recursive)\n",
              "│    └─Embedding: 2-18                   [1, 1, 50]                (recursive)\n",
              "│    └─LSTM: 2-19                        [1, 1, 256]               (recursive)\n",
              "│    └─Linear: 2-20                      [1, 6247]                 (recursive)\n",
              "├─Decoder: 1-8                           [1, 6247]                 (recursive)\n",
              "│    └─Embedding: 2-21                   [1, 1, 50]                (recursive)\n",
              "│    └─LSTM: 2-22                        [1, 1, 256]               (recursive)\n",
              "│    └─Linear: 2-23                      [1, 6247]                 (recursive)\n",
              "├─Decoder: 1-9                           [1, 6247]                 (recursive)\n",
              "│    └─Embedding: 2-24                   [1, 1, 50]                (recursive)\n",
              "│    └─LSTM: 2-25                        [1, 1, 256]               (recursive)\n",
              "│    └─Linear: 2-26                      [1, 6247]                 (recursive)\n",
              "├─Decoder: 1-10                          [1, 6247]                 (recursive)\n",
              "│    └─Embedding: 2-27                   [1, 1, 50]                (recursive)\n",
              "│    └─LSTM: 2-28                        [1, 1, 256]               (recursive)\n",
              "│    └─Linear: 2-29                      [1, 6247]                 (recursive)\n",
              "├─Decoder: 1-11                          [1, 6247]                 (recursive)\n",
              "│    └─Embedding: 2-30                   [1, 1, 50]                (recursive)\n",
              "│    └─LSTM: 2-31                        [1, 1, 256]               (recursive)\n",
              "│    └─Linear: 2-32                      [1, 6247]                 (recursive)\n",
              "├─Decoder: 1-12                          [1, 6247]                 (recursive)\n",
              "│    └─Embedding: 2-33                   [1, 1, 50]                (recursive)\n",
              "│    └─LSTM: 2-34                        [1, 1, 256]               (recursive)\n",
              "│    └─Linear: 2-35                      [1, 6247]                 (recursive)\n",
              "├─Decoder: 1-13                          [1, 6247]                 (recursive)\n",
              "│    └─Embedding: 2-36                   [1, 1, 50]                (recursive)\n",
              "│    └─LSTM: 2-37                        [1, 1, 256]               (recursive)\n",
              "│    └─Linear: 2-38                      [1, 6247]                 (recursive)\n",
              "├─Decoder: 1-14                          [1, 6247]                 (recursive)\n",
              "│    └─Embedding: 2-39                   [1, 1, 50]                (recursive)\n",
              "│    └─LSTM: 2-40                        [1, 1, 256]               (recursive)\n",
              "│    └─Linear: 2-41                      [1, 6247]                 (recursive)\n",
              "├─Decoder: 1-15                          [1, 6247]                 (recursive)\n",
              "│    └─Embedding: 2-42                   [1, 1, 50]                (recursive)\n",
              "│    └─LSTM: 2-43                        [1, 1, 256]               (recursive)\n",
              "│    └─Linear: 2-44                      [1, 6247]                 (recursive)\n",
              "├─Decoder: 1-16                          [1, 6247]                 (recursive)\n",
              "│    └─Embedding: 2-45                   [1, 1, 50]                (recursive)\n",
              "│    └─LSTM: 2-46                        [1, 1, 256]               (recursive)\n",
              "│    └─Linear: 2-47                      [1, 6247]                 (recursive)\n",
              "├─Decoder: 1-17                          [1, 6247]                 (recursive)\n",
              "│    └─Embedding: 2-48                   [1, 1, 50]                (recursive)\n",
              "│    └─LSTM: 2-49                        [1, 1, 256]               (recursive)\n",
              "│    └─Linear: 2-50                      [1, 6247]                 (recursive)\n",
              "├─Decoder: 1-18                          [1, 6247]                 (recursive)\n",
              "│    └─Embedding: 2-51                   [1, 1, 50]                (recursive)\n",
              "│    └─LSTM: 2-52                        [1, 1, 256]               (recursive)\n",
              "│    └─Linear: 2-53                      [1, 6247]                 (recursive)\n",
              "├─Decoder: 1-19                          [1, 6247]                 (recursive)\n",
              "│    └─Embedding: 2-54                   [1, 1, 50]                (recursive)\n",
              "│    └─LSTM: 2-55                        [1, 1, 256]               (recursive)\n",
              "│    └─Linear: 2-56                      [1, 6247]                 (recursive)\n",
              "├─Decoder: 1-20                          [1, 6247]                 (recursive)\n",
              "│    └─Embedding: 2-57                   [1, 1, 50]                (recursive)\n",
              "│    └─LSTM: 2-58                        [1, 1, 256]               (recursive)\n",
              "│    └─Linear: 2-59                      [1, 6247]                 (recursive)\n",
              "├─Decoder: 1-21                          [1, 6247]                 (recursive)\n",
              "│    └─Embedding: 2-60                   [1, 1, 50]                (recursive)\n",
              "│    └─LSTM: 2-61                        [1, 1, 256]               (recursive)\n",
              "│    └─Linear: 2-62                      [1, 6247]                 (recursive)\n",
              "==========================================================================================\n",
              "Total params: 2,756,263\n",
              "Trainable params: 2,548,613\n",
              "Non-trainable params: 207,650\n",
              "Total mult-adds (Units.MEGABYTES): 51.18\n",
              "==========================================================================================\n",
              "Input size (MB): 0.00\n",
              "Forward/backward pass size (MB): 1.10\n",
              "Params size (MB): 11.03\n",
              "Estimated Total Size (MB): 12.12\n",
              "=========================================================================================="
            ]
          },
          "metadata": {},
          "execution_count": 27
        }
      ]
    },
    {
      "cell_type": "code",
      "source": [
        "history_2 = train(model_2,\n",
        "                train_loader,\n",
        "                valid_loader,\n",
        "                optimizer,\n",
        "                criterion,\n",
        "                epochs=EPOCHS\n",
        "                )"
      ],
      "metadata": {
        "colab": {
          "base_uri": "https://localhost:8080/"
        },
        "id": "OQ3TfWJijabx",
        "outputId": "83255a91-17a4-4c13-a8dc-43c83410f868"
      },
      "execution_count": 28,
      "outputs": [
        {
          "output_type": "stream",
          "name": "stdout",
          "text": [
            "Epoch: 1/10 - Train loss 55.449 - Train accuracy 0.653 - Valid Loss 46.576 - Valid accuracy 0.653\n",
            "Epoch: 2/10 - Train loss 41.189 - Train accuracy 0.690 - Valid Loss 44.203 - Valid accuracy 0.678\n",
            "Epoch: 3/10 - Train loss 38.555 - Train accuracy 0.704 - Valid Loss 42.748 - Valid accuracy 0.684\n",
            "Epoch: 4/10 - Train loss 36.396 - Train accuracy 0.713 - Valid Loss 41.534 - Valid accuracy 0.689\n",
            "Epoch: 5/10 - Train loss 34.361 - Train accuracy 0.721 - Valid Loss 40.524 - Valid accuracy 0.700\n",
            "Epoch: 6/10 - Train loss 32.361 - Train accuracy 0.728 - Valid Loss 39.560 - Valid accuracy 0.700\n",
            "Epoch: 7/10 - Train loss 30.552 - Train accuracy 0.733 - Valid Loss 38.921 - Valid accuracy 0.713\n",
            "Epoch: 8/10 - Train loss 28.825 - Train accuracy 0.739 - Valid Loss 38.436 - Valid accuracy 0.717\n",
            "Epoch: 9/10 - Train loss 27.185 - Train accuracy 0.743 - Valid Loss 38.354 - Valid accuracy 0.717\n",
            "Epoch: 10/10 - Train loss 25.593 - Train accuracy 0.749 - Valid Loss 38.062 - Valid accuracy 0.713\n"
          ]
        }
      ]
    },
    {
      "cell_type": "markdown",
      "source": [
        "### Encoder-Decoder con 64 de lstm_size y 5 num_layers"
      ],
      "metadata": {
        "id": "Z2FFouo-pOdE"
      }
    },
    {
      "cell_type": "code",
      "source": [
        "encoder_3 = Encoder(vocab_size=nb_words, lstm_size=64, num_layers=5)\n",
        "if cuda: encoder_3.cuda()\n",
        "# decoder --> vocab_size == output_dim --> porque recibe y devuelve palabras en el mismo vocabulario\n",
        "decoder_3 = Decoder(vocab_size=num_words_output, output_dim=num_words_output, lstm_size=64, num_layers=5)\n",
        "if cuda: decoder_3.cuda()\n",
        "\n",
        "model_3 = Seq2Seq(encoder_3, decoder_3)\n",
        "if cuda: model_3.cuda()\n",
        "\n",
        "# Crear el optimizador la una función de error\n",
        "optimizer = torch.optim.Adam(model_3.parameters(), lr=0.001)\n",
        "criterion = torch.nn.CrossEntropyLoss()  # Para clasificación multi categórica\n",
        "\n",
        "# Move input data to the device before passing it to summary\n",
        "sample_encoder_input, sample_decoder_input, _ = data_set[0:1]\n",
        "summary(model_3, input_data=(sample_encoder_input.to(device), sample_decoder_input.to(device)))"
      ],
      "metadata": {
        "colab": {
          "base_uri": "https://localhost:8080/"
        },
        "id": "XfMXk2s4o1h-",
        "outputId": "3383dc7a-49fd-4fa1-ce99-6bb021526a01"
      },
      "execution_count": 29,
      "outputs": [
        {
          "output_type": "execute_result",
          "data": {
            "text/plain": [
              "==========================================================================================\n",
              "Layer (type:depth-idx)                   Output Shape              Param #\n",
              "==========================================================================================\n",
              "Seq2Seq                                  [1, 20, 6247]             --\n",
              "├─Encoder: 1-1                           [5, 1, 64]                --\n",
              "│    └─Embedding: 2-1                    [1, 20, 50]               (207,650)\n",
              "│    └─LSTM: 2-2                         [1, 20, 64]               162,816\n",
              "├─Decoder: 1-2                           [1, 6247]                 --\n",
              "│    └─Embedding: 2-3                    [1, 1, 50]                312,350\n",
              "│    └─LSTM: 2-4                         [1, 1, 64]                162,816\n",
              "│    └─Linear: 2-5                       [1, 6247]                 406,055\n",
              "├─Decoder: 1-3                           [1, 6247]                 (recursive)\n",
              "│    └─Embedding: 2-6                    [1, 1, 50]                (recursive)\n",
              "│    └─LSTM: 2-7                         [1, 1, 64]                (recursive)\n",
              "│    └─Linear: 2-8                       [1, 6247]                 (recursive)\n",
              "├─Decoder: 1-4                           [1, 6247]                 (recursive)\n",
              "│    └─Embedding: 2-9                    [1, 1, 50]                (recursive)\n",
              "│    └─LSTM: 2-10                        [1, 1, 64]                (recursive)\n",
              "│    └─Linear: 2-11                      [1, 6247]                 (recursive)\n",
              "├─Decoder: 1-5                           [1, 6247]                 (recursive)\n",
              "│    └─Embedding: 2-12                   [1, 1, 50]                (recursive)\n",
              "│    └─LSTM: 2-13                        [1, 1, 64]                (recursive)\n",
              "│    └─Linear: 2-14                      [1, 6247]                 (recursive)\n",
              "├─Decoder: 1-6                           [1, 6247]                 (recursive)\n",
              "│    └─Embedding: 2-15                   [1, 1, 50]                (recursive)\n",
              "│    └─LSTM: 2-16                        [1, 1, 64]                (recursive)\n",
              "│    └─Linear: 2-17                      [1, 6247]                 (recursive)\n",
              "├─Decoder: 1-7                           [1, 6247]                 (recursive)\n",
              "│    └─Embedding: 2-18                   [1, 1, 50]                (recursive)\n",
              "│    └─LSTM: 2-19                        [1, 1, 64]                (recursive)\n",
              "│    └─Linear: 2-20                      [1, 6247]                 (recursive)\n",
              "├─Decoder: 1-8                           [1, 6247]                 (recursive)\n",
              "│    └─Embedding: 2-21                   [1, 1, 50]                (recursive)\n",
              "│    └─LSTM: 2-22                        [1, 1, 64]                (recursive)\n",
              "│    └─Linear: 2-23                      [1, 6247]                 (recursive)\n",
              "├─Decoder: 1-9                           [1, 6247]                 (recursive)\n",
              "│    └─Embedding: 2-24                   [1, 1, 50]                (recursive)\n",
              "│    └─LSTM: 2-25                        [1, 1, 64]                (recursive)\n",
              "│    └─Linear: 2-26                      [1, 6247]                 (recursive)\n",
              "├─Decoder: 1-10                          [1, 6247]                 (recursive)\n",
              "│    └─Embedding: 2-27                   [1, 1, 50]                (recursive)\n",
              "│    └─LSTM: 2-28                        [1, 1, 64]                (recursive)\n",
              "│    └─Linear: 2-29                      [1, 6247]                 (recursive)\n",
              "├─Decoder: 1-11                          [1, 6247]                 (recursive)\n",
              "│    └─Embedding: 2-30                   [1, 1, 50]                (recursive)\n",
              "│    └─LSTM: 2-31                        [1, 1, 64]                (recursive)\n",
              "│    └─Linear: 2-32                      [1, 6247]                 (recursive)\n",
              "├─Decoder: 1-12                          [1, 6247]                 (recursive)\n",
              "│    └─Embedding: 2-33                   [1, 1, 50]                (recursive)\n",
              "│    └─LSTM: 2-34                        [1, 1, 64]                (recursive)\n",
              "│    └─Linear: 2-35                      [1, 6247]                 (recursive)\n",
              "├─Decoder: 1-13                          [1, 6247]                 (recursive)\n",
              "│    └─Embedding: 2-36                   [1, 1, 50]                (recursive)\n",
              "│    └─LSTM: 2-37                        [1, 1, 64]                (recursive)\n",
              "│    └─Linear: 2-38                      [1, 6247]                 (recursive)\n",
              "├─Decoder: 1-14                          [1, 6247]                 (recursive)\n",
              "│    └─Embedding: 2-39                   [1, 1, 50]                (recursive)\n",
              "│    └─LSTM: 2-40                        [1, 1, 64]                (recursive)\n",
              "│    └─Linear: 2-41                      [1, 6247]                 (recursive)\n",
              "├─Decoder: 1-15                          [1, 6247]                 (recursive)\n",
              "│    └─Embedding: 2-42                   [1, 1, 50]                (recursive)\n",
              "│    └─LSTM: 2-43                        [1, 1, 64]                (recursive)\n",
              "│    └─Linear: 2-44                      [1, 6247]                 (recursive)\n",
              "├─Decoder: 1-16                          [1, 6247]                 (recursive)\n",
              "│    └─Embedding: 2-45                   [1, 1, 50]                (recursive)\n",
              "│    └─LSTM: 2-46                        [1, 1, 64]                (recursive)\n",
              "│    └─Linear: 2-47                      [1, 6247]                 (recursive)\n",
              "├─Decoder: 1-17                          [1, 6247]                 (recursive)\n",
              "│    └─Embedding: 2-48                   [1, 1, 50]                (recursive)\n",
              "│    └─LSTM: 2-49                        [1, 1, 64]                (recursive)\n",
              "│    └─Linear: 2-50                      [1, 6247]                 (recursive)\n",
              "├─Decoder: 1-18                          [1, 6247]                 (recursive)\n",
              "│    └─Embedding: 2-51                   [1, 1, 50]                (recursive)\n",
              "│    └─LSTM: 2-52                        [1, 1, 64]                (recursive)\n",
              "│    └─Linear: 2-53                      [1, 6247]                 (recursive)\n",
              "├─Decoder: 1-19                          [1, 6247]                 (recursive)\n",
              "│    └─Embedding: 2-54                   [1, 1, 50]                (recursive)\n",
              "│    └─LSTM: 2-55                        [1, 1, 64]                (recursive)\n",
              "│    └─Linear: 2-56                      [1, 6247]                 (recursive)\n",
              "├─Decoder: 1-20                          [1, 6247]                 (recursive)\n",
              "│    └─Embedding: 2-57                   [1, 1, 50]                (recursive)\n",
              "│    └─LSTM: 2-58                        [1, 1, 64]                (recursive)\n",
              "│    └─Linear: 2-59                      [1, 6247]                 (recursive)\n",
              "├─Decoder: 1-21                          [1, 6247]                 (recursive)\n",
              "│    └─Embedding: 2-60                   [1, 1, 50]                (recursive)\n",
              "│    └─LSTM: 2-61                        [1, 1, 64]                (recursive)\n",
              "│    └─Linear: 2-62                      [1, 6247]                 (recursive)\n",
              "==========================================================================================\n",
              "Total params: 1,251,687\n",
              "Trainable params: 1,044,037\n",
              "Non-trainable params: 207,650\n",
              "Total mult-adds (Units.MEGABYTES): 21.09\n",
              "==========================================================================================\n",
              "Input size (MB): 0.00\n",
              "Forward/backward pass size (MB): 1.04\n",
              "Params size (MB): 5.01\n",
              "Estimated Total Size (MB): 6.04\n",
              "=========================================================================================="
            ]
          },
          "metadata": {},
          "execution_count": 29
        }
      ]
    },
    {
      "cell_type": "code",
      "source": [
        "history_3 = train(model_3,\n",
        "                train_loader,\n",
        "                valid_loader,\n",
        "                optimizer,\n",
        "                criterion,\n",
        "                epochs=EPOCHS\n",
        "                )"
      ],
      "metadata": {
        "colab": {
          "base_uri": "https://localhost:8080/"
        },
        "id": "exa2o140o2tU",
        "outputId": "32d68b0f-4ca5-4c72-b3ce-382d1d99578d"
      },
      "execution_count": 30,
      "outputs": [
        {
          "output_type": "stream",
          "name": "stdout",
          "text": [
            "Epoch: 1/10 - Train loss 68.921 - Train accuracy 0.622 - Valid Loss 52.010 - Valid accuracy 0.617\n",
            "Epoch: 2/10 - Train loss 45.279 - Train accuracy 0.659 - Valid Loss 48.989 - Valid accuracy 0.634\n",
            "Epoch: 3/10 - Train loss 44.006 - Train accuracy 0.669 - Valid Loss 48.304 - Valid accuracy 0.641\n",
            "Epoch: 4/10 - Train loss 43.450 - Train accuracy 0.670 - Valid Loss 48.187 - Valid accuracy 0.642\n",
            "Epoch: 5/10 - Train loss 43.098 - Train accuracy 0.670 - Valid Loss 48.116 - Valid accuracy 0.644\n",
            "Epoch: 6/10 - Train loss 42.834 - Train accuracy 0.670 - Valid Loss 48.090 - Valid accuracy 0.639\n",
            "Epoch: 7/10 - Train loss 42.589 - Train accuracy 0.671 - Valid Loss 48.024 - Valid accuracy 0.644\n",
            "Epoch: 8/10 - Train loss 42.390 - Train accuracy 0.671 - Valid Loss 47.920 - Valid accuracy 0.637\n",
            "Epoch: 9/10 - Train loss 42.201 - Train accuracy 0.671 - Valid Loss 47.908 - Valid accuracy 0.639\n",
            "Epoch: 10/10 - Train loss 42.036 - Train accuracy 0.671 - Valid Loss 47.864 - Valid accuracy 0.639\n"
          ]
        }
      ]
    },
    {
      "cell_type": "markdown",
      "source": [
        "## Graficamos las metricas"
      ],
      "metadata": {
        "id": "aCfdgSZEViUy"
      }
    },
    {
      "cell_type": "markdown",
      "source": [
        "### Grafico por modelo"
      ],
      "metadata": {
        "id": "S2qkrEHB0y6I"
      }
    },
    {
      "cell_type": "code",
      "source": [
        "epoch_count = range(1, len(history1['accuracy']) + 1)\n",
        "sns.lineplot(x=epoch_count,  y=history1['accuracy'], label='train')\n",
        "sns.lineplot(x=epoch_count,  y=history1['val_accuracy'], label='valid')\n",
        "plt.title('Accuracy vs Epochs (LSTM size 128)') # Added title here\n",
        "plt.show()"
      ],
      "metadata": {
        "id": "XkfSNTMNGMej",
        "outputId": "8c622b49-12d6-4128-ebb7-c95b3d9ebf1c",
        "colab": {
          "base_uri": "https://localhost:8080/",
          "height": 452
        }
      },
      "execution_count": 31,
      "outputs": [
        {
          "output_type": "display_data",
          "data": {
            "text/plain": [
              "<Figure size 640x480 with 1 Axes>"
            ],
            "image/png": "[encoded data removed]"
          },
          "metadata": {}
        }
      ]
    },
    {
      "cell_type": "code",
      "source": [
        "epoch_count = range(1, len(history_2['accuracy']) + 1)\n",
        "sns.lineplot(x=epoch_count,  y=history_2['accuracy'], label='train')\n",
        "sns.lineplot(x=epoch_count,  y=history_2['val_accuracy'], label='valid')\n",
        "plt.title('Accuracy vs Epochs (LSTM size 256)') # Added title here\n",
        "plt.show()"
      ],
      "metadata": {
        "colab": {
          "base_uri": "https://localhost:8080/",
          "height": 452
        },
        "id": "j4B83bbKkDLs",
        "outputId": "dca3bbfc-e450-4e88-e26a-53371ddd96ad"
      },
      "execution_count": 32,
      "outputs": [
        {
          "output_type": "display_data",
          "data": {
            "text/plain": [
              "<Figure size 640x480 with 1 Axes>"
            ],
            "image/png": "[encoded data removed]"
          },
          "metadata": {}
        }
      ]
    },
    {
      "cell_type": "code",
      "source": [
        "epoch_count = range(1, len(history_3['accuracy']) + 1)\n",
        "sns.lineplot(x=epoch_count,  y=history_3['accuracy'], label='train')\n",
        "sns.lineplot(x=epoch_count,  y=history_3['val_accuracy'], label='valid')\n",
        "plt.title('Accuracy vs Epochs (LSTM size 64, 5 num_layes)') # Added title here\n",
        "plt.show()"
      ],
      "metadata": {
        "colab": {
          "base_uri": "https://localhost:8080/",
          "height": 452
        },
        "id": "WQN1t-e1p3Sb",
        "outputId": "cf44b6aa-8d6d-4eb6-c1a4-4ae5c54c252a"
      },
      "execution_count": 33,
      "outputs": [
        {
          "output_type": "display_data",
          "data": {
            "text/plain": [
              "<Figure size 640x480 with 1 Axes>"
            ],
            "image/png": "[encoded data removed]"
          },
          "metadata": {}
        }
      ]
    },
    {
      "cell_type": "markdown",
      "source": [
        "### Grafico comparacion entre modelos"
      ],
      "metadata": {
        "id": "zx893tZU02hR"
      }
    },
    {
      "cell_type": "code",
      "source": [
        "epoch_count = range(1, len(history_2['accuracy']) + 1)\n",
        "sns.lineplot(x=epoch_count,  y=history1['val_loss'], label='val loss-lstm_size:128')\n",
        "sns.lineplot(x=epoch_count,  y=history_2['val_loss'], label='val loss-lstm_size:256')\n",
        "sns.lineplot(x=epoch_count,  y=history_3['val_loss'], label='val loss-lstm_size:64')\n",
        "plt.title('lstm_size 128 vs lstm_size 256 vs lstm_size 64 (validation loss)') # Added title here\n",
        "plt.show()"
      ],
      "metadata": {
        "colab": {
          "base_uri": "https://localhost:8080/",
          "height": 452
        },
        "id": "mwBN_M4mkyaN",
        "outputId": "c3d6f254-23fa-4d2a-995c-b0552eb7685f"
      },
      "execution_count": 34,
      "outputs": [
        {
          "output_type": "display_data",
          "data": {
            "text/plain": [
              "<Figure size 640x480 with 1 Axes>"
            ],
            "image/png": "[encoded data removed]"
          },
          "metadata": {}
        }
      ]
    },
    {
      "cell_type": "markdown",
      "source": [
        "## Prueba"
      ],
      "metadata": {
        "id": "_pDiF3BYGvd1"
      }
    },
    {
      "cell_type": "code",
      "source": [
        "def translate_sentence(model, input_seq):\n",
        "    # Se transforma la sequencia de entrada a los stados \"h\" y \"c\" de la LSTM\n",
        "    # para enviar la primera vez al decoder\"\n",
        "    prev_state = model.encoder(encoder_sequence_test_tensor.to(device))\n",
        "\n",
        "    # Se inicializa la secuencia de entrada al decoder como \"<sos>\"\n",
        "    target_seq = np.zeros((1, 1))\n",
        "    target_seq[0, 0] = word2idx_outputs['<sos>']\n",
        "    target_seq_tensor = torch.from_numpy(target_seq.astype(np.int32))\n",
        "\n",
        "    # Se obtiene el indice que finaliza la inferencia\n",
        "    eos = word2idx_outputs['<eos>']\n",
        "\n",
        "    output_sentence = []\n",
        "    for _ in range(max_out_len):\n",
        "        # Predicción del próximo elemento\n",
        "        output, new_prev_state = model.decoder(target_seq_tensor.to(device), prev_state)\n",
        "        top1 = output.argmax(1).view(-1, 1)\n",
        "        idx = int(top1.cpu())\n",
        "\n",
        "        # Si es \"end of sentece <eos>\" se acaba\n",
        "        if eos == idx:\n",
        "            break\n",
        "\n",
        "        # Transformar ídx a palabra\n",
        "        word = ''\n",
        "        if idx > 0:\n",
        "            word = idx2word_target[idx]\n",
        "            output_sentence.append(word)\n",
        "\n",
        "        # Actualizar los estados dado la ultimo prediccion\n",
        "        prev_state = new_prev_state\n",
        "\n",
        "        # Actualizar secuencia de entrada con la salida (re-alimentacion)\n",
        "        target_seq_tensor = top1\n",
        "\n",
        "    return ' '.join(output_sentence)"
      ],
      "metadata": {
        "id": "XG1qn8cpG3r1"
      },
      "execution_count": 35,
      "outputs": []
    },
    {
      "cell_type": "code",
      "source": [
        "for j in range(10):\n",
        "    i = np.random.choice(len(input_sentences))\n",
        "    input_seq = encoder_input_sequences[i:i+1]\n",
        "    encoder_sequence_test_tensor = torch.from_numpy(input_seq.astype(np.int32))\n",
        "    translation = translate_sentence(model, encoder_sequence_test_tensor)\n",
        "    print(f'sentence {j+1}')\n",
        "    print('----Input:', input_sentences[i])\n",
        "    print('----Response:', translation)"
      ],
      "metadata": {
        "id": "0XpyaouUHJLn",
        "outputId": "659b631a-9fde-4107-d57d-3a55fcc65699",
        "colab": {
          "base_uri": "https://localhost:8080/"
        }
      },
      "execution_count": 36,
      "outputs": [
        {
          "output_type": "stream",
          "name": "stdout",
          "text": [
            "sentence 1\n",
            "----Input: Mary wants to buy a dress.\n",
            "----Response: ella no tiene un poco de la puerta\n",
            "sentence 2\n",
            "----Input: Tom is naked.\n",
            "----Response: tom es un poco\n",
            "sentence 3\n",
            "----Input: I can't hear you.\n",
            "----Response: no estoy seguro\n",
            "sentence 4\n",
            "----Input: Your advice has been of great help.\n",
            "----Response: no te gusta de la ciudad\n",
            "sentence 5\n",
            "----Input: Where is my seat?\n",
            "----Response: no estoy seguro\n",
            "sentence 6\n",
            "----Input: My mother takes a nap every afternoon.\n",
            "----Response: ella no tiene un poco de la ciudad\n",
            "sentence 7\n",
            "----Input: Don't pretend what you don't feel.\n",
            "----Response: no te gusta a la casa\n",
            "sentence 8\n",
            "----Input: He is in good physical condition.\n",
            "----Response: él es un poco de la ciudad\n",
            "sentence 9\n",
            "----Input: I'm sorry, but it's just not possible.\n",
            "----Response: me gusta de que no me gusta la ciudad\n",
            "sentence 10\n",
            "----Input: What train you are going to take?\n",
            "----Response: no me gustaría un poco de la ciudad\n"
          ]
        }
      ]
    },
    {
      "cell_type": "markdown",
      "source": [
        "## Conclusion"
      ],
      "metadata": {
        "id": "R_XnyDYXd_ep"
      }
    },
    {
      "cell_type": "markdown",
      "source": [
        "En general, los tres modelos de traducción lograron resultados bastante estables, mostrando una buena convergencia a lo largo de las épocas. El modelo con lstm_size=128 y una sola capa tuvo un rendimiento muy equilibrado, alcanzando una precisión de validación cercana al 72% y una disminución progresiva de la pérdida, lo que sugiere que logró una buena representación de las secuencias sin sobreajustar. Al aumentar el tamaño del LSTM a 256 unidades, el modelo mejoró ligeramente en precisión y redujo la pérdida más rápido, aunque al final mostró signos leves de sobreajuste, lo que indica que ganó capacidad de aprendizaje pero con un costo en generalización. En cambio, el modelo más profundo, con 5 capas y 64 unidades por capa, fue el que menos rendimiento obtuvo: su precisión se mantuvo en torno al 64%, con una pérdida más alta y una evolución más lenta, lo que sugiere que la mayor profundidad complicó la optimización sin aportar beneficios reales. En conjunto, el modelo de 128 unidades se perfila como el más balanceado, combinando una buena precisión, estabilidad y eficiencia.\n",
        "\n",
        "Aclaracion:\n",
        "Se modifico el MAX_NUM_SENTENCES a 7000, se realizaron cambios menores en el codigo para que el modelo pueda entrenar y se elimino la funcion sofmax en el decoder ya que el CrossEntropyLoss ya incluye internamente un log_softmax, esto se hizo luego de observar que el modelo tendia a dejar de aprender e investigando se encontro que esto se puede deber a que los gradientes tiendan a cero cuando se aplicaban el softmax y el log_softmax.\n",
        "\n",
        "tambien se cambiaron estos parametros max_input_len a 20  y max_out_len a 20 y el learning rate se bajo a 0.001."
      ],
      "metadata": {
        "id": "KuCdYFdyd9ES"
      }
    },
    {
      "cell_type": "code",
      "source": [],
      "metadata": {
        "id": "AzZQhy4d3OQ3"
      },
      "execution_count": 36,
      "outputs": []
    }
  ]
}